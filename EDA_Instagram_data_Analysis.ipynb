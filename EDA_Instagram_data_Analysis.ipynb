{
  "nbformat": 4,
  "nbformat_minor": 0,
  "metadata": {
    "colab": {
      "provenance": []
    },
    "kernelspec": {
      "name": "python3",
      "display_name": "Python 3"
    },
    "language_info": {
      "name": "python"
    }
  },
  "cells": [
    {
      "cell_type": "markdown",
      "source": [
        "# **Optimizing Instagram with Data Insights**"
      ],
      "metadata": {
        "id": "xT3Fsj2r5pc4"
      }
    },
    {
      "cell_type": "markdown",
      "source": [
        "Exploratory Data Analysis using Python"
      ],
      "metadata": {
        "id": "iqotwP6Q716t"
      }
    },
    {
      "cell_type": "code",
      "execution_count": 2,
      "metadata": {
        "id": "Oc-Sc-ejWEpS"
      },
      "outputs": [],
      "source": [
        "import pandas as pd"
      ]
    },
    {
      "cell_type": "markdown",
      "source": [
        "importing pandas library"
      ],
      "metadata": {
        "id": "T6EM56qsxPqS"
      }
    },
    {
      "cell_type": "code",
      "source": [
        "import plotly.express as px\n",
        "import plotly.graph_objects as go\n",
        "import plotly.io as pio\n",
        "pio.templates.default = \"plotly_white\""
      ],
      "metadata": {
        "id": "BfDBXyemXPkG"
      },
      "execution_count": 3,
      "outputs": []
    },
    {
      "cell_type": "markdown",
      "source": [
        "The code imports three libraries from the Plotly visualization package:\n",
        "- plotly.express (px) for easy, interactive charts\n",
        "- plotly.graph_objects (go) for more detailed chart customization\n",
        "- plotly.io (pio) for managing chart display and output.\n",
        "\n",
        "It then sets the default theme for all charts to \"plotly_white\", giving them a clean look with a white background."
      ],
      "metadata": {
        "id": "6jp-mkDOxadp"
      }
    },
    {
      "cell_type": "code",
      "source": [
        "data = pd.read_csv(\"/content/sample_data/Instagram data.csv\", encoding='latin-1')"
      ],
      "metadata": {
        "id": "cUZoMM2PXkrP"
      },
      "execution_count": 4,
      "outputs": []
    },
    {
      "cell_type": "code",
      "source": [
        "data.head()"
      ],
      "metadata": {
        "colab": {
          "base_uri": "https://localhost:8080/",
          "height": 571
        },
        "id": "_WPcJjeXYJRA",
        "outputId": "d9b80686-ed44-44fc-cb23-2c3875b5f948"
      },
      "execution_count": 5,
      "outputs": [
        {
          "output_type": "execute_result",
          "data": {
            "text/plain": [
              "   Impressions  From Home  From Hashtags  From Explore  From Other  Saves  \\\n",
              "0         3920       2586           1028           619          56     98   \n",
              "1         5394       2727           1838          1174          78    194   \n",
              "2         4021       2085           1188             0         533     41   \n",
              "3         4528       2700            621           932          73    172   \n",
              "4         2518       1704            255           279          37     96   \n",
              "\n",
              "   Comments  Shares  Likes  Profile Visits  Follows  \\\n",
              "0         9       5    162              35        2   \n",
              "1         7      14    224              48       10   \n",
              "2        11       1    131              62       12   \n",
              "3        10       7    213              23        8   \n",
              "4         5       4    123               8        0   \n",
              "\n",
              "                                             Caption  \\\n",
              "0  Here are some of the most important data visua...   \n",
              "1  Here are some of the best data science project...   \n",
              "2  Learn how to train a machine learning model an...   \n",
              "3  Heres how you can write a Python program to d...   \n",
              "4  Plotting annotations while visualizing your da...   \n",
              "\n",
              "                                            Hashtags  \n",
              "0  #finance #money #business #investing #investme...  \n",
              "1  #healthcare #health #covid #data #datascience ...  \n",
              "2  #data #datascience #dataanalysis #dataanalytic...  \n",
              "3  #python #pythonprogramming #pythonprojects #py...  \n",
              "4  #datavisualization #datascience #data #dataana...  "
            ],
            "text/html": [
              "\n",
              "  <div id=\"df-c6a69375-eb3f-459d-9a4f-09457a22d0b1\" class=\"colab-df-container\">\n",
              "    <div>\n",
              "<style scoped>\n",
              "    .dataframe tbody tr th:only-of-type {\n",
              "        vertical-align: middle;\n",
              "    }\n",
              "\n",
              "    .dataframe tbody tr th {\n",
              "        vertical-align: top;\n",
              "    }\n",
              "\n",
              "    .dataframe thead th {\n",
              "        text-align: right;\n",
              "    }\n",
              "</style>\n",
              "<table border=\"1\" class=\"dataframe\">\n",
              "  <thead>\n",
              "    <tr style=\"text-align: right;\">\n",
              "      <th></th>\n",
              "      <th>Impressions</th>\n",
              "      <th>From Home</th>\n",
              "      <th>From Hashtags</th>\n",
              "      <th>From Explore</th>\n",
              "      <th>From Other</th>\n",
              "      <th>Saves</th>\n",
              "      <th>Comments</th>\n",
              "      <th>Shares</th>\n",
              "      <th>Likes</th>\n",
              "      <th>Profile Visits</th>\n",
              "      <th>Follows</th>\n",
              "      <th>Caption</th>\n",
              "      <th>Hashtags</th>\n",
              "    </tr>\n",
              "  </thead>\n",
              "  <tbody>\n",
              "    <tr>\n",
              "      <th>0</th>\n",
              "      <td>3920</td>\n",
              "      <td>2586</td>\n",
              "      <td>1028</td>\n",
              "      <td>619</td>\n",
              "      <td>56</td>\n",
              "      <td>98</td>\n",
              "      <td>9</td>\n",
              "      <td>5</td>\n",
              "      <td>162</td>\n",
              "      <td>35</td>\n",
              "      <td>2</td>\n",
              "      <td>Here are some of the most important data visua...</td>\n",
              "      <td>#finance #money #business #investing #investme...</td>\n",
              "    </tr>\n",
              "    <tr>\n",
              "      <th>1</th>\n",
              "      <td>5394</td>\n",
              "      <td>2727</td>\n",
              "      <td>1838</td>\n",
              "      <td>1174</td>\n",
              "      <td>78</td>\n",
              "      <td>194</td>\n",
              "      <td>7</td>\n",
              "      <td>14</td>\n",
              "      <td>224</td>\n",
              "      <td>48</td>\n",
              "      <td>10</td>\n",
              "      <td>Here are some of the best data science project...</td>\n",
              "      <td>#healthcare #health #covid #data #datascience ...</td>\n",
              "    </tr>\n",
              "    <tr>\n",
              "      <th>2</th>\n",
              "      <td>4021</td>\n",
              "      <td>2085</td>\n",
              "      <td>1188</td>\n",
              "      <td>0</td>\n",
              "      <td>533</td>\n",
              "      <td>41</td>\n",
              "      <td>11</td>\n",
              "      <td>1</td>\n",
              "      <td>131</td>\n",
              "      <td>62</td>\n",
              "      <td>12</td>\n",
              "      <td>Learn how to train a machine learning model an...</td>\n",
              "      <td>#data #datascience #dataanalysis #dataanalytic...</td>\n",
              "    </tr>\n",
              "    <tr>\n",
              "      <th>3</th>\n",
              "      <td>4528</td>\n",
              "      <td>2700</td>\n",
              "      <td>621</td>\n",
              "      <td>932</td>\n",
              "      <td>73</td>\n",
              "      <td>172</td>\n",
              "      <td>10</td>\n",
              "      <td>7</td>\n",
              "      <td>213</td>\n",
              "      <td>23</td>\n",
              "      <td>8</td>\n",
              "      <td>Heres how you can write a Python program to d...</td>\n",
              "      <td>#python #pythonprogramming #pythonprojects #py...</td>\n",
              "    </tr>\n",
              "    <tr>\n",
              "      <th>4</th>\n",
              "      <td>2518</td>\n",
              "      <td>1704</td>\n",
              "      <td>255</td>\n",
              "      <td>279</td>\n",
              "      <td>37</td>\n",
              "      <td>96</td>\n",
              "      <td>5</td>\n",
              "      <td>4</td>\n",
              "      <td>123</td>\n",
              "      <td>8</td>\n",
              "      <td>0</td>\n",
              "      <td>Plotting annotations while visualizing your da...</td>\n",
              "      <td>#datavisualization #datascience #data #dataana...</td>\n",
              "    </tr>\n",
              "  </tbody>\n",
              "</table>\n",
              "</div>\n",
              "    <div class=\"colab-df-buttons\">\n",
              "\n",
              "  <div class=\"colab-df-container\">\n",
              "    <button class=\"colab-df-convert\" onclick=\"convertToInteractive('df-c6a69375-eb3f-459d-9a4f-09457a22d0b1')\"\n",
              "            title=\"Convert this dataframe to an interactive table.\"\n",
              "            style=\"display:none;\">\n",
              "\n",
              "  <svg xmlns=\"http://www.w3.org/2000/svg\" height=\"24px\" viewBox=\"0 -960 960 960\">\n",
              "    <path d=\"M120-120v-720h720v720H120Zm60-500h600v-160H180v160Zm220 220h160v-160H400v160Zm0 220h160v-160H400v160ZM180-400h160v-160H180v160Zm440 0h160v-160H620v160ZM180-180h160v-160H180v160Zm440 0h160v-160H620v160Z\"/>\n",
              "  </svg>\n",
              "    </button>\n",
              "\n",
              "  <style>\n",
              "    .colab-df-container {\n",
              "      display:flex;\n",
              "      gap: 12px;\n",
              "    }\n",
              "\n",
              "    .colab-df-convert {\n",
              "      background-color: #E8F0FE;\n",
              "      border: none;\n",
              "      border-radius: 50%;\n",
              "      cursor: pointer;\n",
              "      display: none;\n",
              "      fill: #1967D2;\n",
              "      height: 32px;\n",
              "      padding: 0 0 0 0;\n",
              "      width: 32px;\n",
              "    }\n",
              "\n",
              "    .colab-df-convert:hover {\n",
              "      background-color: #E2EBFA;\n",
              "      box-shadow: 0px 1px 2px rgba(60, 64, 67, 0.3), 0px 1px 3px 1px rgba(60, 64, 67, 0.15);\n",
              "      fill: #174EA6;\n",
              "    }\n",
              "\n",
              "    .colab-df-buttons div {\n",
              "      margin-bottom: 4px;\n",
              "    }\n",
              "\n",
              "    [theme=dark] .colab-df-convert {\n",
              "      background-color: #3B4455;\n",
              "      fill: #D2E3FC;\n",
              "    }\n",
              "\n",
              "    [theme=dark] .colab-df-convert:hover {\n",
              "      background-color: #434B5C;\n",
              "      box-shadow: 0px 1px 3px 1px rgba(0, 0, 0, 0.15);\n",
              "      filter: drop-shadow(0px 1px 2px rgba(0, 0, 0, 0.3));\n",
              "      fill: #FFFFFF;\n",
              "    }\n",
              "  </style>\n",
              "\n",
              "    <script>\n",
              "      const buttonEl =\n",
              "        document.querySelector('#df-c6a69375-eb3f-459d-9a4f-09457a22d0b1 button.colab-df-convert');\n",
              "      buttonEl.style.display =\n",
              "        google.colab.kernel.accessAllowed ? 'block' : 'none';\n",
              "\n",
              "      async function convertToInteractive(key) {\n",
              "        const element = document.querySelector('#df-c6a69375-eb3f-459d-9a4f-09457a22d0b1');\n",
              "        const dataTable =\n",
              "          await google.colab.kernel.invokeFunction('convertToInteractive',\n",
              "                                                    [key], {});\n",
              "        if (!dataTable) return;\n",
              "\n",
              "        const docLinkHtml = 'Like what you see? Visit the ' +\n",
              "          '<a target=\"_blank\" href=https://colab.research.google.com/notebooks/data_table.ipynb>data table notebook</a>'\n",
              "          + ' to learn more about interactive tables.';\n",
              "        element.innerHTML = '';\n",
              "        dataTable['output_type'] = 'display_data';\n",
              "        await google.colab.output.renderOutput(dataTable, element);\n",
              "        const docLink = document.createElement('div');\n",
              "        docLink.innerHTML = docLinkHtml;\n",
              "        element.appendChild(docLink);\n",
              "      }\n",
              "    </script>\n",
              "  </div>\n",
              "\n",
              "\n",
              "<div id=\"df-4249b08f-963b-4aaa-9d1c-774867a2ad97\">\n",
              "  <button class=\"colab-df-quickchart\" onclick=\"quickchart('df-4249b08f-963b-4aaa-9d1c-774867a2ad97')\"\n",
              "            title=\"Suggest charts\"\n",
              "            style=\"display:none;\">\n",
              "\n",
              "<svg xmlns=\"http://www.w3.org/2000/svg\" height=\"24px\"viewBox=\"0 0 24 24\"\n",
              "     width=\"24px\">\n",
              "    <g>\n",
              "        <path d=\"M19 3H5c-1.1 0-2 .9-2 2v14c0 1.1.9 2 2 2h14c1.1 0 2-.9 2-2V5c0-1.1-.9-2-2-2zM9 17H7v-7h2v7zm4 0h-2V7h2v10zm4 0h-2v-4h2v4z\"/>\n",
              "    </g>\n",
              "</svg>\n",
              "  </button>\n",
              "\n",
              "<style>\n",
              "  .colab-df-quickchart {\n",
              "      --bg-color: #E8F0FE;\n",
              "      --fill-color: #1967D2;\n",
              "      --hover-bg-color: #E2EBFA;\n",
              "      --hover-fill-color: #174EA6;\n",
              "      --disabled-fill-color: #AAA;\n",
              "      --disabled-bg-color: #DDD;\n",
              "  }\n",
              "\n",
              "  [theme=dark] .colab-df-quickchart {\n",
              "      --bg-color: #3B4455;\n",
              "      --fill-color: #D2E3FC;\n",
              "      --hover-bg-color: #434B5C;\n",
              "      --hover-fill-color: #FFFFFF;\n",
              "      --disabled-bg-color: #3B4455;\n",
              "      --disabled-fill-color: #666;\n",
              "  }\n",
              "\n",
              "  .colab-df-quickchart {\n",
              "    background-color: var(--bg-color);\n",
              "    border: none;\n",
              "    border-radius: 50%;\n",
              "    cursor: pointer;\n",
              "    display: none;\n",
              "    fill: var(--fill-color);\n",
              "    height: 32px;\n",
              "    padding: 0;\n",
              "    width: 32px;\n",
              "  }\n",
              "\n",
              "  .colab-df-quickchart:hover {\n",
              "    background-color: var(--hover-bg-color);\n",
              "    box-shadow: 0 1px 2px rgba(60, 64, 67, 0.3), 0 1px 3px 1px rgba(60, 64, 67, 0.15);\n",
              "    fill: var(--button-hover-fill-color);\n",
              "  }\n",
              "\n",
              "  .colab-df-quickchart-complete:disabled,\n",
              "  .colab-df-quickchart-complete:disabled:hover {\n",
              "    background-color: var(--disabled-bg-color);\n",
              "    fill: var(--disabled-fill-color);\n",
              "    box-shadow: none;\n",
              "  }\n",
              "\n",
              "  .colab-df-spinner {\n",
              "    border: 2px solid var(--fill-color);\n",
              "    border-color: transparent;\n",
              "    border-bottom-color: var(--fill-color);\n",
              "    animation:\n",
              "      spin 1s steps(1) infinite;\n",
              "  }\n",
              "\n",
              "  @keyframes spin {\n",
              "    0% {\n",
              "      border-color: transparent;\n",
              "      border-bottom-color: var(--fill-color);\n",
              "      border-left-color: var(--fill-color);\n",
              "    }\n",
              "    20% {\n",
              "      border-color: transparent;\n",
              "      border-left-color: var(--fill-color);\n",
              "      border-top-color: var(--fill-color);\n",
              "    }\n",
              "    30% {\n",
              "      border-color: transparent;\n",
              "      border-left-color: var(--fill-color);\n",
              "      border-top-color: var(--fill-color);\n",
              "      border-right-color: var(--fill-color);\n",
              "    }\n",
              "    40% {\n",
              "      border-color: transparent;\n",
              "      border-right-color: var(--fill-color);\n",
              "      border-top-color: var(--fill-color);\n",
              "    }\n",
              "    60% {\n",
              "      border-color: transparent;\n",
              "      border-right-color: var(--fill-color);\n",
              "    }\n",
              "    80% {\n",
              "      border-color: transparent;\n",
              "      border-right-color: var(--fill-color);\n",
              "      border-bottom-color: var(--fill-color);\n",
              "    }\n",
              "    90% {\n",
              "      border-color: transparent;\n",
              "      border-bottom-color: var(--fill-color);\n",
              "    }\n",
              "  }\n",
              "</style>\n",
              "\n",
              "  <script>\n",
              "    async function quickchart(key) {\n",
              "      const quickchartButtonEl =\n",
              "        document.querySelector('#' + key + ' button');\n",
              "      quickchartButtonEl.disabled = true;  // To prevent multiple clicks.\n",
              "      quickchartButtonEl.classList.add('colab-df-spinner');\n",
              "      try {\n",
              "        const charts = await google.colab.kernel.invokeFunction(\n",
              "            'suggestCharts', [key], {});\n",
              "      } catch (error) {\n",
              "        console.error('Error during call to suggestCharts:', error);\n",
              "      }\n",
              "      quickchartButtonEl.classList.remove('colab-df-spinner');\n",
              "      quickchartButtonEl.classList.add('colab-df-quickchart-complete');\n",
              "    }\n",
              "    (() => {\n",
              "      let quickchartButtonEl =\n",
              "        document.querySelector('#df-4249b08f-963b-4aaa-9d1c-774867a2ad97 button');\n",
              "      quickchartButtonEl.style.display =\n",
              "        google.colab.kernel.accessAllowed ? 'block' : 'none';\n",
              "    })();\n",
              "  </script>\n",
              "</div>\n",
              "\n",
              "    </div>\n",
              "  </div>\n"
            ],
            "application/vnd.google.colaboratory.intrinsic+json": {
              "type": "dataframe",
              "variable_name": "data",
              "summary": "{\n  \"name\": \"data\",\n  \"rows\": 119,\n  \"fields\": [\n    {\n      \"column\": \"Impressions\",\n      \"properties\": {\n        \"dtype\": \"number\",\n        \"std\": 4843,\n        \"min\": 1941,\n        \"max\": 36919,\n        \"num_unique_values\": 101,\n        \"samples\": [\n          4150,\n          4978,\n          10933\n        ],\n        \"semantic_type\": \"\",\n        \"description\": \"\"\n      }\n    },\n    {\n      \"column\": \"From Home\",\n      \"properties\": {\n        \"dtype\": \"number\",\n        \"std\": 1489,\n        \"min\": 1133,\n        \"max\": 13473,\n        \"num_unique_values\": 97,\n        \"samples\": [\n          3717,\n          3144,\n          1923\n        ],\n        \"semantic_type\": \"\",\n        \"description\": \"\"\n      }\n    },\n    {\n      \"column\": \"From Hashtags\",\n      \"properties\": {\n        \"dtype\": \"number\",\n        \"std\": 1884,\n        \"min\": 116,\n        \"max\": 11817,\n        \"num_unique_values\": 100,\n        \"samples\": [\n          5055,\n          6564,\n          1699\n        ],\n        \"semantic_type\": \"\",\n        \"description\": \"\"\n      }\n    },\n    {\n      \"column\": \"From Explore\",\n      \"properties\": {\n        \"dtype\": \"number\",\n        \"std\": 2613,\n        \"min\": 0,\n        \"max\": 17414,\n        \"num_unique_values\": 95,\n        \"samples\": [\n          213,\n          2081,\n          217\n        ],\n        \"semantic_type\": \"\",\n        \"description\": \"\"\n      }\n    },\n    {\n      \"column\": \"From Other\",\n      \"properties\": {\n        \"dtype\": \"number\",\n        \"std\": 289,\n        \"min\": 9,\n        \"max\": 2547,\n        \"num_unique_values\": 84,\n        \"samples\": [\n          309,\n          56,\n          168\n        ],\n        \"semantic_type\": \"\",\n        \"description\": \"\"\n      }\n    },\n    {\n      \"column\": \"Saves\",\n      \"properties\": {\n        \"dtype\": \"number\",\n        \"std\": 156,\n        \"min\": 22,\n        \"max\": 1095,\n        \"num_unique_values\": 84,\n        \"samples\": [\n          73,\n          98,\n          104\n        ],\n        \"semantic_type\": \"\",\n        \"description\": \"\"\n      }\n    },\n    {\n      \"column\": \"Comments\",\n      \"properties\": {\n        \"dtype\": \"number\",\n        \"std\": 3,\n        \"min\": 0,\n        \"max\": 19,\n        \"num_unique_values\": 15,\n        \"samples\": [\n          3,\n          2,\n          9\n        ],\n        \"semantic_type\": \"\",\n        \"description\": \"\"\n      }\n    },\n    {\n      \"column\": \"Shares\",\n      \"properties\": {\n        \"dtype\": \"number\",\n        \"std\": 10,\n        \"min\": 0,\n        \"max\": 75,\n        \"num_unique_values\": 28,\n        \"samples\": [\n          11,\n          38,\n          3\n        ],\n        \"semantic_type\": \"\",\n        \"description\": \"\"\n      }\n    },\n    {\n      \"column\": \"Likes\",\n      \"properties\": {\n        \"dtype\": \"number\",\n        \"std\": 82,\n        \"min\": 72,\n        \"max\": 549,\n        \"num_unique_values\": 85,\n        \"samples\": [\n          163,\n          162,\n          250\n        ],\n        \"semantic_type\": \"\",\n        \"description\": \"\"\n      }\n    },\n    {\n      \"column\": \"Profile Visits\",\n      \"properties\": {\n        \"dtype\": \"number\",\n        \"std\": 87,\n        \"min\": 4,\n        \"max\": 611,\n        \"num_unique_values\": 59,\n        \"samples\": [\n          35,\n          9,\n          39\n        ],\n        \"semantic_type\": \"\",\n        \"description\": \"\"\n      }\n    },\n    {\n      \"column\": \"Follows\",\n      \"properties\": {\n        \"dtype\": \"number\",\n        \"std\": 40,\n        \"min\": 0,\n        \"max\": 260,\n        \"num_unique_values\": 29,\n        \"samples\": [\n          214,\n          74,\n          26\n        ],\n        \"semantic_type\": \"\",\n        \"description\": \"\"\n      }\n    },\n    {\n      \"column\": \"Caption\",\n      \"properties\": {\n        \"dtype\": \"string\",\n        \"num_unique_values\": 90,\n        \"samples\": [\n          \"280 Machine Learning Projects Solved & Explained using Python programming language: Link in Bio\",\n          \"Learn how to send automatic emails using the Python programming language: Link in bio.\",\n          \"Here are some of the most important data visualizations that every data scientist must know.\"\n        ],\n        \"semantic_type\": \"\",\n        \"description\": \"\"\n      }\n    },\n    {\n      \"column\": \"Hashtags\",\n      \"properties\": {\n        \"dtype\": \"category\",\n        \"num_unique_values\": 54,\n        \"samples\": [\n          \"#programming\\u00a0#coding\\u00a0#programmer\\u00a0#python\\u00a0#developer\\u00a0#javascript\\u00a0#technology\\u00a0#code\\u00a0#coder\\u00a0#java\\u00a0#html\\u00a0#computerscience\\u00a0#tech\\u00a0#css\\u00a0#webdeveloper\\u00a0#software\\u00a0#webdevelopment\\u00a0#codinglife\\u00a0#softwaredeveloper\\u00a0#linux\\u00a0#programmingmemes\\u00a0#webdesign\\u00a0#programmers\\u00a0#php\\u00a0#programminglife\\u00a0#machinelearning\\u00a0#hacking\\u00a0#pythonprogramming\\u00a0#thecleverprogrammer\\u00a0#amankharwal\",\n          \"#sql\\u00a0#mysql\\u00a0#datascience\\u00a0#datasciencejobs\\u00a0#datasciencetraining\\u00a0#datascienceeducation\\u00a0#datasciencecourse\\u00a0#data\\u00a0#dataanalysis\\u00a0#dataanalytics\\u00a0#datascientist\\u00a0#machinelearning\\u00a0#artificialintelligence\\u00a0#ai\\u00a0#deeplearning\\u00a0#machinelearningprojects\\u00a0#datascienceprojects\\u00a0#amankharwal\\u00a0#thecleverprogrammer\",\n          \"#datascience\\u00a0#datasciencejobs\\u00a0#datasciencetraining\\u00a0#datascienceeducation\\u00a0#datasciencecourse\\u00a0#data\\u00a0#dataanalysis\\u00a0#dataanalytics\\u00a0#datascientist\\u00a0#machinelearning\\u00a0#artificialintelligence\\u00a0#ai\\u00a0#deeplearning\\u00a0#machinelearningprojects\\u00a0#datascienceprojects\\u00a0#amankharwal\\u00a0#thecleverprogrammer\"\n        ],\n        \"semantic_type\": \"\",\n        \"description\": \"\"\n      }\n    }\n  ]\n}"
            }
          },
          "metadata": {},
          "execution_count": 5
        }
      ]
    },
    {
      "cell_type": "markdown",
      "source": [
        "Now let’s have a look at all the columns the dataset contains:"
      ],
      "metadata": {
        "id": "ZE9FhRRZ7vRi"
      }
    },
    {
      "cell_type": "code",
      "source": [
        "data.columns"
      ],
      "metadata": {
        "colab": {
          "base_uri": "https://localhost:8080/"
        },
        "id": "XjIvWY3xYLvd",
        "outputId": "1e40fa63-caa5-4e94-b624-40f97a4c1b5a"
      },
      "execution_count": 6,
      "outputs": [
        {
          "output_type": "execute_result",
          "data": {
            "text/plain": [
              "Index(['Impressions', 'From Home', 'From Hashtags', 'From Explore',\n",
              "       'From Other', 'Saves', 'Comments', 'Shares', 'Likes', 'Profile Visits',\n",
              "       'Follows', 'Caption', 'Hashtags'],\n",
              "      dtype='object')"
            ]
          },
          "metadata": {},
          "execution_count": 6
        }
      ]
    },
    {
      "cell_type": "markdown",
      "source": [
        "Now let’s have a look at the column info:"
      ],
      "metadata": {
        "id": "OklqEe3M7lK6"
      }
    },
    {
      "cell_type": "code",
      "source": [
        "data.info()"
      ],
      "metadata": {
        "colab": {
          "base_uri": "https://localhost:8080/"
        },
        "id": "XNthuL5GYk33",
        "outputId": "de179262-4469-452b-bdb4-82cf018909e7"
      },
      "execution_count": 7,
      "outputs": [
        {
          "output_type": "stream",
          "name": "stdout",
          "text": [
            "<class 'pandas.core.frame.DataFrame'>\n",
            "RangeIndex: 119 entries, 0 to 118\n",
            "Data columns (total 13 columns):\n",
            " #   Column          Non-Null Count  Dtype \n",
            "---  ------          --------------  ----- \n",
            " 0   Impressions     119 non-null    int64 \n",
            " 1   From Home       119 non-null    int64 \n",
            " 2   From Hashtags   119 non-null    int64 \n",
            " 3   From Explore    119 non-null    int64 \n",
            " 4   From Other      119 non-null    int64 \n",
            " 5   Saves           119 non-null    int64 \n",
            " 6   Comments        119 non-null    int64 \n",
            " 7   Shares          119 non-null    int64 \n",
            " 8   Likes           119 non-null    int64 \n",
            " 9   Profile Visits  119 non-null    int64 \n",
            " 10  Follows         119 non-null    int64 \n",
            " 11  Caption         119 non-null    object\n",
            " 12  Hashtags        119 non-null    object\n",
            "dtypes: int64(11), object(2)\n",
            "memory usage: 12.2+ KB\n"
          ]
        }
      ]
    },
    {
      "cell_type": "markdown",
      "source": [
        "Describing the statistical values of the dataset"
      ],
      "metadata": {
        "id": "t9sNo-LY7Vz1"
      }
    },
    {
      "cell_type": "code",
      "source": [
        "data.describe()"
      ],
      "metadata": {
        "colab": {
          "base_uri": "https://localhost:8080/",
          "height": 300
        },
        "id": "H09wmh0GYn38",
        "outputId": "8cbd4115-aa1f-4766-d023-6d902bf68e2f"
      },
      "execution_count": 8,
      "outputs": [
        {
          "output_type": "execute_result",
          "data": {
            "text/plain": [
              "        Impressions     From Home  From Hashtags  From Explore   From Other  \\\n",
              "count    119.000000    119.000000     119.000000    119.000000   119.000000   \n",
              "mean    5703.991597   2475.789916    1887.512605   1078.100840   171.092437   \n",
              "std     4843.780105   1489.386348    1884.361443   2613.026132   289.431031   \n",
              "min     1941.000000   1133.000000     116.000000      0.000000     9.000000   \n",
              "25%     3467.000000   1945.000000     726.000000    157.500000    38.000000   \n",
              "50%     4289.000000   2207.000000    1278.000000    326.000000    74.000000   \n",
              "75%     6138.000000   2602.500000    2363.500000    689.500000   196.000000   \n",
              "max    36919.000000  13473.000000   11817.000000  17414.000000  2547.000000   \n",
              "\n",
              "             Saves    Comments      Shares       Likes  Profile Visits  \\\n",
              "count   119.000000  119.000000  119.000000  119.000000      119.000000   \n",
              "mean    153.310924    6.663866    9.361345  173.781513       50.621849   \n",
              "std     156.317731    3.544576   10.089205   82.378947       87.088402   \n",
              "min      22.000000    0.000000    0.000000   72.000000        4.000000   \n",
              "25%      65.000000    4.000000    3.000000  121.500000       15.000000   \n",
              "50%     109.000000    6.000000    6.000000  151.000000       23.000000   \n",
              "75%     169.000000    8.000000   13.500000  204.000000       42.000000   \n",
              "max    1095.000000   19.000000   75.000000  549.000000      611.000000   \n",
              "\n",
              "          Follows  \n",
              "count  119.000000  \n",
              "mean    20.756303  \n",
              "std     40.921580  \n",
              "min      0.000000  \n",
              "25%      4.000000  \n",
              "50%      8.000000  \n",
              "75%     18.000000  \n",
              "max    260.000000  "
            ],
            "text/html": [
              "\n",
              "  <div id=\"df-59137c15-aecb-4df8-90be-3b4d56a822b9\" class=\"colab-df-container\">\n",
              "    <div>\n",
              "<style scoped>\n",
              "    .dataframe tbody tr th:only-of-type {\n",
              "        vertical-align: middle;\n",
              "    }\n",
              "\n",
              "    .dataframe tbody tr th {\n",
              "        vertical-align: top;\n",
              "    }\n",
              "\n",
              "    .dataframe thead th {\n",
              "        text-align: right;\n",
              "    }\n",
              "</style>\n",
              "<table border=\"1\" class=\"dataframe\">\n",
              "  <thead>\n",
              "    <tr style=\"text-align: right;\">\n",
              "      <th></th>\n",
              "      <th>Impressions</th>\n",
              "      <th>From Home</th>\n",
              "      <th>From Hashtags</th>\n",
              "      <th>From Explore</th>\n",
              "      <th>From Other</th>\n",
              "      <th>Saves</th>\n",
              "      <th>Comments</th>\n",
              "      <th>Shares</th>\n",
              "      <th>Likes</th>\n",
              "      <th>Profile Visits</th>\n",
              "      <th>Follows</th>\n",
              "    </tr>\n",
              "  </thead>\n",
              "  <tbody>\n",
              "    <tr>\n",
              "      <th>count</th>\n",
              "      <td>119.000000</td>\n",
              "      <td>119.000000</td>\n",
              "      <td>119.000000</td>\n",
              "      <td>119.000000</td>\n",
              "      <td>119.000000</td>\n",
              "      <td>119.000000</td>\n",
              "      <td>119.000000</td>\n",
              "      <td>119.000000</td>\n",
              "      <td>119.000000</td>\n",
              "      <td>119.000000</td>\n",
              "      <td>119.000000</td>\n",
              "    </tr>\n",
              "    <tr>\n",
              "      <th>mean</th>\n",
              "      <td>5703.991597</td>\n",
              "      <td>2475.789916</td>\n",
              "      <td>1887.512605</td>\n",
              "      <td>1078.100840</td>\n",
              "      <td>171.092437</td>\n",
              "      <td>153.310924</td>\n",
              "      <td>6.663866</td>\n",
              "      <td>9.361345</td>\n",
              "      <td>173.781513</td>\n",
              "      <td>50.621849</td>\n",
              "      <td>20.756303</td>\n",
              "    </tr>\n",
              "    <tr>\n",
              "      <th>std</th>\n",
              "      <td>4843.780105</td>\n",
              "      <td>1489.386348</td>\n",
              "      <td>1884.361443</td>\n",
              "      <td>2613.026132</td>\n",
              "      <td>289.431031</td>\n",
              "      <td>156.317731</td>\n",
              "      <td>3.544576</td>\n",
              "      <td>10.089205</td>\n",
              "      <td>82.378947</td>\n",
              "      <td>87.088402</td>\n",
              "      <td>40.921580</td>\n",
              "    </tr>\n",
              "    <tr>\n",
              "      <th>min</th>\n",
              "      <td>1941.000000</td>\n",
              "      <td>1133.000000</td>\n",
              "      <td>116.000000</td>\n",
              "      <td>0.000000</td>\n",
              "      <td>9.000000</td>\n",
              "      <td>22.000000</td>\n",
              "      <td>0.000000</td>\n",
              "      <td>0.000000</td>\n",
              "      <td>72.000000</td>\n",
              "      <td>4.000000</td>\n",
              "      <td>0.000000</td>\n",
              "    </tr>\n",
              "    <tr>\n",
              "      <th>25%</th>\n",
              "      <td>3467.000000</td>\n",
              "      <td>1945.000000</td>\n",
              "      <td>726.000000</td>\n",
              "      <td>157.500000</td>\n",
              "      <td>38.000000</td>\n",
              "      <td>65.000000</td>\n",
              "      <td>4.000000</td>\n",
              "      <td>3.000000</td>\n",
              "      <td>121.500000</td>\n",
              "      <td>15.000000</td>\n",
              "      <td>4.000000</td>\n",
              "    </tr>\n",
              "    <tr>\n",
              "      <th>50%</th>\n",
              "      <td>4289.000000</td>\n",
              "      <td>2207.000000</td>\n",
              "      <td>1278.000000</td>\n",
              "      <td>326.000000</td>\n",
              "      <td>74.000000</td>\n",
              "      <td>109.000000</td>\n",
              "      <td>6.000000</td>\n",
              "      <td>6.000000</td>\n",
              "      <td>151.000000</td>\n",
              "      <td>23.000000</td>\n",
              "      <td>8.000000</td>\n",
              "    </tr>\n",
              "    <tr>\n",
              "      <th>75%</th>\n",
              "      <td>6138.000000</td>\n",
              "      <td>2602.500000</td>\n",
              "      <td>2363.500000</td>\n",
              "      <td>689.500000</td>\n",
              "      <td>196.000000</td>\n",
              "      <td>169.000000</td>\n",
              "      <td>8.000000</td>\n",
              "      <td>13.500000</td>\n",
              "      <td>204.000000</td>\n",
              "      <td>42.000000</td>\n",
              "      <td>18.000000</td>\n",
              "    </tr>\n",
              "    <tr>\n",
              "      <th>max</th>\n",
              "      <td>36919.000000</td>\n",
              "      <td>13473.000000</td>\n",
              "      <td>11817.000000</td>\n",
              "      <td>17414.000000</td>\n",
              "      <td>2547.000000</td>\n",
              "      <td>1095.000000</td>\n",
              "      <td>19.000000</td>\n",
              "      <td>75.000000</td>\n",
              "      <td>549.000000</td>\n",
              "      <td>611.000000</td>\n",
              "      <td>260.000000</td>\n",
              "    </tr>\n",
              "  </tbody>\n",
              "</table>\n",
              "</div>\n",
              "    <div class=\"colab-df-buttons\">\n",
              "\n",
              "  <div class=\"colab-df-container\">\n",
              "    <button class=\"colab-df-convert\" onclick=\"convertToInteractive('df-59137c15-aecb-4df8-90be-3b4d56a822b9')\"\n",
              "            title=\"Convert this dataframe to an interactive table.\"\n",
              "            style=\"display:none;\">\n",
              "\n",
              "  <svg xmlns=\"http://www.w3.org/2000/svg\" height=\"24px\" viewBox=\"0 -960 960 960\">\n",
              "    <path d=\"M120-120v-720h720v720H120Zm60-500h600v-160H180v160Zm220 220h160v-160H400v160Zm0 220h160v-160H400v160ZM180-400h160v-160H180v160Zm440 0h160v-160H620v160ZM180-180h160v-160H180v160Zm440 0h160v-160H620v160Z\"/>\n",
              "  </svg>\n",
              "    </button>\n",
              "\n",
              "  <style>\n",
              "    .colab-df-container {\n",
              "      display:flex;\n",
              "      gap: 12px;\n",
              "    }\n",
              "\n",
              "    .colab-df-convert {\n",
              "      background-color: #E8F0FE;\n",
              "      border: none;\n",
              "      border-radius: 50%;\n",
              "      cursor: pointer;\n",
              "      display: none;\n",
              "      fill: #1967D2;\n",
              "      height: 32px;\n",
              "      padding: 0 0 0 0;\n",
              "      width: 32px;\n",
              "    }\n",
              "\n",
              "    .colab-df-convert:hover {\n",
              "      background-color: #E2EBFA;\n",
              "      box-shadow: 0px 1px 2px rgba(60, 64, 67, 0.3), 0px 1px 3px 1px rgba(60, 64, 67, 0.15);\n",
              "      fill: #174EA6;\n",
              "    }\n",
              "\n",
              "    .colab-df-buttons div {\n",
              "      margin-bottom: 4px;\n",
              "    }\n",
              "\n",
              "    [theme=dark] .colab-df-convert {\n",
              "      background-color: #3B4455;\n",
              "      fill: #D2E3FC;\n",
              "    }\n",
              "\n",
              "    [theme=dark] .colab-df-convert:hover {\n",
              "      background-color: #434B5C;\n",
              "      box-shadow: 0px 1px 3px 1px rgba(0, 0, 0, 0.15);\n",
              "      filter: drop-shadow(0px 1px 2px rgba(0, 0, 0, 0.3));\n",
              "      fill: #FFFFFF;\n",
              "    }\n",
              "  </style>\n",
              "\n",
              "    <script>\n",
              "      const buttonEl =\n",
              "        document.querySelector('#df-59137c15-aecb-4df8-90be-3b4d56a822b9 button.colab-df-convert');\n",
              "      buttonEl.style.display =\n",
              "        google.colab.kernel.accessAllowed ? 'block' : 'none';\n",
              "\n",
              "      async function convertToInteractive(key) {\n",
              "        const element = document.querySelector('#df-59137c15-aecb-4df8-90be-3b4d56a822b9');\n",
              "        const dataTable =\n",
              "          await google.colab.kernel.invokeFunction('convertToInteractive',\n",
              "                                                    [key], {});\n",
              "        if (!dataTable) return;\n",
              "\n",
              "        const docLinkHtml = 'Like what you see? Visit the ' +\n",
              "          '<a target=\"_blank\" href=https://colab.research.google.com/notebooks/data_table.ipynb>data table notebook</a>'\n",
              "          + ' to learn more about interactive tables.';\n",
              "        element.innerHTML = '';\n",
              "        dataTable['output_type'] = 'display_data';\n",
              "        await google.colab.output.renderOutput(dataTable, element);\n",
              "        const docLink = document.createElement('div');\n",
              "        docLink.innerHTML = docLinkHtml;\n",
              "        element.appendChild(docLink);\n",
              "      }\n",
              "    </script>\n",
              "  </div>\n",
              "\n",
              "\n",
              "<div id=\"df-6b56836b-8a3f-4a1b-85f7-4ee5479963af\">\n",
              "  <button class=\"colab-df-quickchart\" onclick=\"quickchart('df-6b56836b-8a3f-4a1b-85f7-4ee5479963af')\"\n",
              "            title=\"Suggest charts\"\n",
              "            style=\"display:none;\">\n",
              "\n",
              "<svg xmlns=\"http://www.w3.org/2000/svg\" height=\"24px\"viewBox=\"0 0 24 24\"\n",
              "     width=\"24px\">\n",
              "    <g>\n",
              "        <path d=\"M19 3H5c-1.1 0-2 .9-2 2v14c0 1.1.9 2 2 2h14c1.1 0 2-.9 2-2V5c0-1.1-.9-2-2-2zM9 17H7v-7h2v7zm4 0h-2V7h2v10zm4 0h-2v-4h2v4z\"/>\n",
              "    </g>\n",
              "</svg>\n",
              "  </button>\n",
              "\n",
              "<style>\n",
              "  .colab-df-quickchart {\n",
              "      --bg-color: #E8F0FE;\n",
              "      --fill-color: #1967D2;\n",
              "      --hover-bg-color: #E2EBFA;\n",
              "      --hover-fill-color: #174EA6;\n",
              "      --disabled-fill-color: #AAA;\n",
              "      --disabled-bg-color: #DDD;\n",
              "  }\n",
              "\n",
              "  [theme=dark] .colab-df-quickchart {\n",
              "      --bg-color: #3B4455;\n",
              "      --fill-color: #D2E3FC;\n",
              "      --hover-bg-color: #434B5C;\n",
              "      --hover-fill-color: #FFFFFF;\n",
              "      --disabled-bg-color: #3B4455;\n",
              "      --disabled-fill-color: #666;\n",
              "  }\n",
              "\n",
              "  .colab-df-quickchart {\n",
              "    background-color: var(--bg-color);\n",
              "    border: none;\n",
              "    border-radius: 50%;\n",
              "    cursor: pointer;\n",
              "    display: none;\n",
              "    fill: var(--fill-color);\n",
              "    height: 32px;\n",
              "    padding: 0;\n",
              "    width: 32px;\n",
              "  }\n",
              "\n",
              "  .colab-df-quickchart:hover {\n",
              "    background-color: var(--hover-bg-color);\n",
              "    box-shadow: 0 1px 2px rgba(60, 64, 67, 0.3), 0 1px 3px 1px rgba(60, 64, 67, 0.15);\n",
              "    fill: var(--button-hover-fill-color);\n",
              "  }\n",
              "\n",
              "  .colab-df-quickchart-complete:disabled,\n",
              "  .colab-df-quickchart-complete:disabled:hover {\n",
              "    background-color: var(--disabled-bg-color);\n",
              "    fill: var(--disabled-fill-color);\n",
              "    box-shadow: none;\n",
              "  }\n",
              "\n",
              "  .colab-df-spinner {\n",
              "    border: 2px solid var(--fill-color);\n",
              "    border-color: transparent;\n",
              "    border-bottom-color: var(--fill-color);\n",
              "    animation:\n",
              "      spin 1s steps(1) infinite;\n",
              "  }\n",
              "\n",
              "  @keyframes spin {\n",
              "    0% {\n",
              "      border-color: transparent;\n",
              "      border-bottom-color: var(--fill-color);\n",
              "      border-left-color: var(--fill-color);\n",
              "    }\n",
              "    20% {\n",
              "      border-color: transparent;\n",
              "      border-left-color: var(--fill-color);\n",
              "      border-top-color: var(--fill-color);\n",
              "    }\n",
              "    30% {\n",
              "      border-color: transparent;\n",
              "      border-left-color: var(--fill-color);\n",
              "      border-top-color: var(--fill-color);\n",
              "      border-right-color: var(--fill-color);\n",
              "    }\n",
              "    40% {\n",
              "      border-color: transparent;\n",
              "      border-right-color: var(--fill-color);\n",
              "      border-top-color: var(--fill-color);\n",
              "    }\n",
              "    60% {\n",
              "      border-color: transparent;\n",
              "      border-right-color: var(--fill-color);\n",
              "    }\n",
              "    80% {\n",
              "      border-color: transparent;\n",
              "      border-right-color: var(--fill-color);\n",
              "      border-bottom-color: var(--fill-color);\n",
              "    }\n",
              "    90% {\n",
              "      border-color: transparent;\n",
              "      border-bottom-color: var(--fill-color);\n",
              "    }\n",
              "  }\n",
              "</style>\n",
              "\n",
              "  <script>\n",
              "    async function quickchart(key) {\n",
              "      const quickchartButtonEl =\n",
              "        document.querySelector('#' + key + ' button');\n",
              "      quickchartButtonEl.disabled = true;  // To prevent multiple clicks.\n",
              "      quickchartButtonEl.classList.add('colab-df-spinner');\n",
              "      try {\n",
              "        const charts = await google.colab.kernel.invokeFunction(\n",
              "            'suggestCharts', [key], {});\n",
              "      } catch (error) {\n",
              "        console.error('Error during call to suggestCharts:', error);\n",
              "      }\n",
              "      quickchartButtonEl.classList.remove('colab-df-spinner');\n",
              "      quickchartButtonEl.classList.add('colab-df-quickchart-complete');\n",
              "    }\n",
              "    (() => {\n",
              "      let quickchartButtonEl =\n",
              "        document.querySelector('#df-6b56836b-8a3f-4a1b-85f7-4ee5479963af button');\n",
              "      quickchartButtonEl.style.display =\n",
              "        google.colab.kernel.accessAllowed ? 'block' : 'none';\n",
              "    })();\n",
              "  </script>\n",
              "</div>\n",
              "\n",
              "    </div>\n",
              "  </div>\n"
            ],
            "application/vnd.google.colaboratory.intrinsic+json": {
              "type": "dataframe",
              "summary": "{\n  \"name\": \"data\",\n  \"rows\": 8,\n  \"fields\": [\n    {\n      \"column\": \"Impressions\",\n      \"properties\": {\n        \"dtype\": \"number\",\n        \"std\": 11881.007036668983,\n        \"min\": 119.0,\n        \"max\": 36919.0,\n        \"num_unique_values\": 8,\n        \"samples\": [\n          5703.991596638655,\n          4289.0,\n          119.0\n        ],\n        \"semantic_type\": \"\",\n        \"description\": \"\"\n      }\n    },\n    {\n      \"column\": \"From Home\",\n      \"properties\": {\n        \"dtype\": \"number\",\n        \"std\": 4237.002358141817,\n        \"min\": 119.0,\n        \"max\": 13473.0,\n        \"num_unique_values\": 8,\n        \"samples\": [\n          2475.7899159663866,\n          2207.0,\n          119.0\n        ],\n        \"semantic_type\": \"\",\n        \"description\": \"\"\n      }\n    },\n    {\n      \"column\": \"From Hashtags\",\n      \"properties\": {\n        \"dtype\": \"number\",\n        \"std\": 3846.4765303238546,\n        \"min\": 116.0,\n        \"max\": 11817.0,\n        \"num_unique_values\": 8,\n        \"samples\": [\n          1887.5126050420167,\n          1278.0,\n          119.0\n        ],\n        \"semantic_type\": \"\",\n        \"description\": \"\"\n      }\n    },\n    {\n      \"column\": \"From Explore\",\n      \"properties\": {\n        \"dtype\": \"number\",\n        \"std\": 5966.026967177398,\n        \"min\": 0.0,\n        \"max\": 17414.0,\n        \"num_unique_values\": 8,\n        \"samples\": [\n          1078.1008403361345,\n          326.0,\n          119.0\n        ],\n        \"semantic_type\": \"\",\n        \"description\": \"\"\n      }\n    },\n    {\n      \"column\": \"From Other\",\n      \"properties\": {\n        \"dtype\": \"number\",\n        \"std\": 860.033073225639,\n        \"min\": 9.0,\n        \"max\": 2547.0,\n        \"num_unique_values\": 8,\n        \"samples\": [\n          171.0924369747899,\n          74.0,\n          119.0\n        ],\n        \"semantic_type\": \"\",\n        \"description\": \"\"\n      }\n    },\n    {\n      \"column\": \"Saves\",\n      \"properties\": {\n        \"dtype\": \"number\",\n        \"std\": 350.5937204689051,\n        \"min\": 22.0,\n        \"max\": 1095.0,\n        \"num_unique_values\": 8,\n        \"samples\": [\n          153.3109243697479,\n          109.0,\n          119.0\n        ],\n        \"semantic_type\": \"\",\n        \"description\": \"\"\n      }\n    },\n    {\n      \"column\": \"Comments\",\n      \"properties\": {\n        \"dtype\": \"number\",\n        \"std\": 40.0746007062046,\n        \"min\": 0.0,\n        \"max\": 119.0,\n        \"num_unique_values\": 8,\n        \"samples\": [\n          6.663865546218488,\n          6.0,\n          119.0\n        ],\n        \"semantic_type\": \"\",\n        \"description\": \"\"\n      }\n    },\n    {\n      \"column\": \"Shares\",\n      \"properties\": {\n        \"dtype\": \"number\",\n        \"std\": 43.49645980755421,\n        \"min\": 0.0,\n        \"max\": 119.0,\n        \"num_unique_values\": 8,\n        \"samples\": [\n          9.361344537815127,\n          6.0,\n          119.0\n        ],\n        \"semantic_type\": \"\",\n        \"description\": \"\"\n      }\n    },\n    {\n      \"column\": \"Likes\",\n      \"properties\": {\n        \"dtype\": \"number\",\n        \"std\": 153.9111299486121,\n        \"min\": 72.0,\n        \"max\": 549.0,\n        \"num_unique_values\": 8,\n        \"samples\": [\n          173.78151260504202,\n          151.0,\n          119.0\n        ],\n        \"semantic_type\": \"\",\n        \"description\": \"\"\n      }\n    },\n    {\n      \"column\": \"Profile Visits\",\n      \"properties\": {\n        \"dtype\": \"number\",\n        \"std\": 202.46478042569677,\n        \"min\": 4.0,\n        \"max\": 611.0,\n        \"num_unique_values\": 8,\n        \"samples\": [\n          50.621848739495796,\n          23.0,\n          119.0\n        ],\n        \"semantic_type\": \"\",\n        \"description\": \"\"\n      }\n    },\n    {\n      \"column\": \"Follows\",\n      \"properties\": {\n        \"dtype\": \"number\",\n        \"std\": 89.9032743491064,\n        \"min\": 0.0,\n        \"max\": 260.0,\n        \"num_unique_values\": 8,\n        \"samples\": [\n          20.756302521008404,\n          8.0,\n          119.0\n        ],\n        \"semantic_type\": \"\",\n        \"description\": \"\"\n      }\n    }\n  ]\n}"
            }
          },
          "metadata": {},
          "execution_count": 8
        }
      ]
    },
    {
      "cell_type": "markdown",
      "source": [
        "Checking the Count of null Values"
      ],
      "metadata": {
        "id": "qACWsVux7Pw6"
      }
    },
    {
      "cell_type": "code",
      "source": [
        "data.isnull().sum()"
      ],
      "metadata": {
        "colab": {
          "base_uri": "https://localhost:8080/",
          "height": 492
        },
        "id": "vJo7v_zJYrBc",
        "outputId": "27d1b181-9cbd-42d9-f0e8-7dd170cc343c"
      },
      "execution_count": 9,
      "outputs": [
        {
          "output_type": "execute_result",
          "data": {
            "text/plain": [
              "Impressions       0\n",
              "From Home         0\n",
              "From Hashtags     0\n",
              "From Explore      0\n",
              "From Other        0\n",
              "Saves             0\n",
              "Comments          0\n",
              "Shares            0\n",
              "Likes             0\n",
              "Profile Visits    0\n",
              "Follows           0\n",
              "Caption           0\n",
              "Hashtags          0\n",
              "dtype: int64"
            ],
            "text/html": [
              "<div>\n",
              "<style scoped>\n",
              "    .dataframe tbody tr th:only-of-type {\n",
              "        vertical-align: middle;\n",
              "    }\n",
              "\n",
              "    .dataframe tbody tr th {\n",
              "        vertical-align: top;\n",
              "    }\n",
              "\n",
              "    .dataframe thead th {\n",
              "        text-align: right;\n",
              "    }\n",
              "</style>\n",
              "<table border=\"1\" class=\"dataframe\">\n",
              "  <thead>\n",
              "    <tr style=\"text-align: right;\">\n",
              "      <th></th>\n",
              "      <th>0</th>\n",
              "    </tr>\n",
              "  </thead>\n",
              "  <tbody>\n",
              "    <tr>\n",
              "      <th>Impressions</th>\n",
              "      <td>0</td>\n",
              "    </tr>\n",
              "    <tr>\n",
              "      <th>From Home</th>\n",
              "      <td>0</td>\n",
              "    </tr>\n",
              "    <tr>\n",
              "      <th>From Hashtags</th>\n",
              "      <td>0</td>\n",
              "    </tr>\n",
              "    <tr>\n",
              "      <th>From Explore</th>\n",
              "      <td>0</td>\n",
              "    </tr>\n",
              "    <tr>\n",
              "      <th>From Other</th>\n",
              "      <td>0</td>\n",
              "    </tr>\n",
              "    <tr>\n",
              "      <th>Saves</th>\n",
              "      <td>0</td>\n",
              "    </tr>\n",
              "    <tr>\n",
              "      <th>Comments</th>\n",
              "      <td>0</td>\n",
              "    </tr>\n",
              "    <tr>\n",
              "      <th>Shares</th>\n",
              "      <td>0</td>\n",
              "    </tr>\n",
              "    <tr>\n",
              "      <th>Likes</th>\n",
              "      <td>0</td>\n",
              "    </tr>\n",
              "    <tr>\n",
              "      <th>Profile Visits</th>\n",
              "      <td>0</td>\n",
              "    </tr>\n",
              "    <tr>\n",
              "      <th>Follows</th>\n",
              "      <td>0</td>\n",
              "    </tr>\n",
              "    <tr>\n",
              "      <th>Caption</th>\n",
              "      <td>0</td>\n",
              "    </tr>\n",
              "    <tr>\n",
              "      <th>Hashtags</th>\n",
              "      <td>0</td>\n",
              "    </tr>\n",
              "  </tbody>\n",
              "</table>\n",
              "</div><br><label><b>dtype:</b> int64</label>"
            ]
          },
          "metadata": {},
          "execution_count": 9
        }
      ]
    },
    {
      "cell_type": "code",
      "source": [
        "fig = px.histogram(data,\n",
        "                   x='Impressions',\n",
        "                   nbins=10,\n",
        "                   title='Distribution of Impressions')\n",
        "fig.show()"
      ],
      "metadata": {
        "colab": {
          "base_uri": "https://localhost:8080/",
          "height": 542
        },
        "id": "QsriGsBpYu9P",
        "outputId": "50293665-981d-464e-8383-d572e9e3715c"
      },
      "execution_count": 10,
      "outputs": [
        {
          "output_type": "display_data",
          "data": {
            "text/html": [
              "<html>\n",
              "<head><meta charset=\"utf-8\" /></head>\n",
              "<body>\n",
              "    <div>            <script src=\"https://cdnjs.cloudflare.com/ajax/libs/mathjax/2.7.5/MathJax.js?config=TeX-AMS-MML_SVG\"></script><script type=\"text/javascript\">if (window.MathJax && window.MathJax.Hub && window.MathJax.Hub.Config) {window.MathJax.Hub.Config({SVG: {font: \"STIX-Web\"}});}</script>                <script type=\"text/javascript\">window.PlotlyConfig = {MathJaxConfig: 'local'};</script>\n",
              "        <script charset=\"utf-8\" src=\"https://cdn.plot.ly/plotly-2.35.2.min.js\"></script>                <div id=\"37118dd0-a388-4cfb-8ba6-7dd37c835ec1\" class=\"plotly-graph-div\" style=\"height:525px; width:100%;\"></div>            <script type=\"text/javascript\">                                    window.PLOTLYENV=window.PLOTLYENV || {};                                    if (document.getElementById(\"37118dd0-a388-4cfb-8ba6-7dd37c835ec1\")) {                    Plotly.newPlot(                        \"37118dd0-a388-4cfb-8ba6-7dd37c835ec1\",                        [{\"alignmentgroup\":\"True\",\"bingroup\":\"x\",\"hovertemplate\":\"Impressions=%{x}\\u003cbr\\u003ecount=%{y}\\u003cextra\\u003e\\u003c\\u002fextra\\u003e\",\"legendgroup\":\"\",\"marker\":{\"color\":\"#636efa\",\"pattern\":{\"shape\":\"\"}},\"name\":\"\",\"nbinsx\":10,\"offsetgroup\":\"\",\"orientation\":\"v\",\"showlegend\":false,\"x\":[3920,5394,4021,4528,2518,3884,2621,3541,3749,4115,2218,3234,4344,3216,9453,5055,4002,3169,6168,2407,2064,3973,7281,3052,4628,4082,5394,2766,3924,3015,6666,3854,4355,4343,6108,2523,2327,3990,2191,1941,16062,4998,4289,3880,3786,4298,3630,2826,7407,10386,2998,7018,2941,6432,10667,3988,4978,3388,4467,3246,5072,6339,4239,3454,7571,3333,3818,10933,5058,3601,3480,3525,3606,5542,6559,3623,10493,4446,2957,5538,4681,5273,5055,4002,3169,6168,2407,3630,2826,7407,10386,2998,3052,4628,4082,5394,2766,3924,3015,5409,5323,8001,4150,4609,6348,11068,7231,17396,6814,17713,5563,4842,11149,10206,13700,5731,4139,32695,36919],\"xaxis\":\"x\",\"yaxis\":\"y\",\"type\":\"histogram\"}],                        {\"template\":{\"data\":{\"histogram2dcontour\":[{\"type\":\"histogram2dcontour\",\"colorbar\":{\"outlinewidth\":0,\"ticks\":\"\"},\"colorscale\":[[0.0,\"#0d0887\"],[0.1111111111111111,\"#46039f\"],[0.2222222222222222,\"#7201a8\"],[0.3333333333333333,\"#9c179e\"],[0.4444444444444444,\"#bd3786\"],[0.5555555555555556,\"#d8576b\"],[0.6666666666666666,\"#ed7953\"],[0.7777777777777778,\"#fb9f3a\"],[0.8888888888888888,\"#fdca26\"],[1.0,\"#f0f921\"]]}],\"choropleth\":[{\"type\":\"choropleth\",\"colorbar\":{\"outlinewidth\":0,\"ticks\":\"\"}}],\"histogram2d\":[{\"type\":\"histogram2d\",\"colorbar\":{\"outlinewidth\":0,\"ticks\":\"\"},\"colorscale\":[[0.0,\"#0d0887\"],[0.1111111111111111,\"#46039f\"],[0.2222222222222222,\"#7201a8\"],[0.3333333333333333,\"#9c179e\"],[0.4444444444444444,\"#bd3786\"],[0.5555555555555556,\"#d8576b\"],[0.6666666666666666,\"#ed7953\"],[0.7777777777777778,\"#fb9f3a\"],[0.8888888888888888,\"#fdca26\"],[1.0,\"#f0f921\"]]}],\"heatmap\":[{\"type\":\"heatmap\",\"colorbar\":{\"outlinewidth\":0,\"ticks\":\"\"},\"colorscale\":[[0.0,\"#0d0887\"],[0.1111111111111111,\"#46039f\"],[0.2222222222222222,\"#7201a8\"],[0.3333333333333333,\"#9c179e\"],[0.4444444444444444,\"#bd3786\"],[0.5555555555555556,\"#d8576b\"],[0.6666666666666666,\"#ed7953\"],[0.7777777777777778,\"#fb9f3a\"],[0.8888888888888888,\"#fdca26\"],[1.0,\"#f0f921\"]]}],\"heatmapgl\":[{\"type\":\"heatmapgl\",\"colorbar\":{\"outlinewidth\":0,\"ticks\":\"\"},\"colorscale\":[[0.0,\"#0d0887\"],[0.1111111111111111,\"#46039f\"],[0.2222222222222222,\"#7201a8\"],[0.3333333333333333,\"#9c179e\"],[0.4444444444444444,\"#bd3786\"],[0.5555555555555556,\"#d8576b\"],[0.6666666666666666,\"#ed7953\"],[0.7777777777777778,\"#fb9f3a\"],[0.8888888888888888,\"#fdca26\"],[1.0,\"#f0f921\"]]}],\"contourcarpet\":[{\"type\":\"contourcarpet\",\"colorbar\":{\"outlinewidth\":0,\"ticks\":\"\"}}],\"contour\":[{\"type\":\"contour\",\"colorbar\":{\"outlinewidth\":0,\"ticks\":\"\"},\"colorscale\":[[0.0,\"#0d0887\"],[0.1111111111111111,\"#46039f\"],[0.2222222222222222,\"#7201a8\"],[0.3333333333333333,\"#9c179e\"],[0.4444444444444444,\"#bd3786\"],[0.5555555555555556,\"#d8576b\"],[0.6666666666666666,\"#ed7953\"],[0.7777777777777778,\"#fb9f3a\"],[0.8888888888888888,\"#fdca26\"],[1.0,\"#f0f921\"]]}],\"surface\":[{\"type\":\"surface\",\"colorbar\":{\"outlinewidth\":0,\"ticks\":\"\"},\"colorscale\":[[0.0,\"#0d0887\"],[0.1111111111111111,\"#46039f\"],[0.2222222222222222,\"#7201a8\"],[0.3333333333333333,\"#9c179e\"],[0.4444444444444444,\"#bd3786\"],[0.5555555555555556,\"#d8576b\"],[0.6666666666666666,\"#ed7953\"],[0.7777777777777778,\"#fb9f3a\"],[0.8888888888888888,\"#fdca26\"],[1.0,\"#f0f921\"]]}],\"mesh3d\":[{\"type\":\"mesh3d\",\"colorbar\":{\"outlinewidth\":0,\"ticks\":\"\"}}],\"scatter\":[{\"fillpattern\":{\"fillmode\":\"overlay\",\"size\":10,\"solidity\":0.2},\"type\":\"scatter\"}],\"parcoords\":[{\"type\":\"parcoords\",\"line\":{\"colorbar\":{\"outlinewidth\":0,\"ticks\":\"\"}}}],\"scatterpolargl\":[{\"type\":\"scatterpolargl\",\"marker\":{\"colorbar\":{\"outlinewidth\":0,\"ticks\":\"\"}}}],\"bar\":[{\"error_x\":{\"color\":\"#2a3f5f\"},\"error_y\":{\"color\":\"#2a3f5f\"},\"marker\":{\"line\":{\"color\":\"white\",\"width\":0.5},\"pattern\":{\"fillmode\":\"overlay\",\"size\":10,\"solidity\":0.2}},\"type\":\"bar\"}],\"scattergeo\":[{\"type\":\"scattergeo\",\"marker\":{\"colorbar\":{\"outlinewidth\":0,\"ticks\":\"\"}}}],\"scatterpolar\":[{\"type\":\"scatterpolar\",\"marker\":{\"colorbar\":{\"outlinewidth\":0,\"ticks\":\"\"}}}],\"histogram\":[{\"marker\":{\"pattern\":{\"fillmode\":\"overlay\",\"size\":10,\"solidity\":0.2}},\"type\":\"histogram\"}],\"scattergl\":[{\"type\":\"scattergl\",\"marker\":{\"colorbar\":{\"outlinewidth\":0,\"ticks\":\"\"}}}],\"scatter3d\":[{\"type\":\"scatter3d\",\"line\":{\"colorbar\":{\"outlinewidth\":0,\"ticks\":\"\"}},\"marker\":{\"colorbar\":{\"outlinewidth\":0,\"ticks\":\"\"}}}],\"scattermapbox\":[{\"type\":\"scattermapbox\",\"marker\":{\"colorbar\":{\"outlinewidth\":0,\"ticks\":\"\"}}}],\"scatterternary\":[{\"type\":\"scatterternary\",\"marker\":{\"colorbar\":{\"outlinewidth\":0,\"ticks\":\"\"}}}],\"scattercarpet\":[{\"type\":\"scattercarpet\",\"marker\":{\"colorbar\":{\"outlinewidth\":0,\"ticks\":\"\"}}}],\"carpet\":[{\"aaxis\":{\"endlinecolor\":\"#2a3f5f\",\"gridcolor\":\"#C8D4E3\",\"linecolor\":\"#C8D4E3\",\"minorgridcolor\":\"#C8D4E3\",\"startlinecolor\":\"#2a3f5f\"},\"baxis\":{\"endlinecolor\":\"#2a3f5f\",\"gridcolor\":\"#C8D4E3\",\"linecolor\":\"#C8D4E3\",\"minorgridcolor\":\"#C8D4E3\",\"startlinecolor\":\"#2a3f5f\"},\"type\":\"carpet\"}],\"table\":[{\"cells\":{\"fill\":{\"color\":\"#EBF0F8\"},\"line\":{\"color\":\"white\"}},\"header\":{\"fill\":{\"color\":\"#C8D4E3\"},\"line\":{\"color\":\"white\"}},\"type\":\"table\"}],\"barpolar\":[{\"marker\":{\"line\":{\"color\":\"white\",\"width\":0.5},\"pattern\":{\"fillmode\":\"overlay\",\"size\":10,\"solidity\":0.2}},\"type\":\"barpolar\"}],\"pie\":[{\"automargin\":true,\"type\":\"pie\"}]},\"layout\":{\"autotypenumbers\":\"strict\",\"colorway\":[\"#636efa\",\"#EF553B\",\"#00cc96\",\"#ab63fa\",\"#FFA15A\",\"#19d3f3\",\"#FF6692\",\"#B6E880\",\"#FF97FF\",\"#FECB52\"],\"font\":{\"color\":\"#2a3f5f\"},\"hovermode\":\"closest\",\"hoverlabel\":{\"align\":\"left\"},\"paper_bgcolor\":\"white\",\"plot_bgcolor\":\"white\",\"polar\":{\"bgcolor\":\"white\",\"angularaxis\":{\"gridcolor\":\"#EBF0F8\",\"linecolor\":\"#EBF0F8\",\"ticks\":\"\"},\"radialaxis\":{\"gridcolor\":\"#EBF0F8\",\"linecolor\":\"#EBF0F8\",\"ticks\":\"\"}},\"ternary\":{\"bgcolor\":\"white\",\"aaxis\":{\"gridcolor\":\"#DFE8F3\",\"linecolor\":\"#A2B1C6\",\"ticks\":\"\"},\"baxis\":{\"gridcolor\":\"#DFE8F3\",\"linecolor\":\"#A2B1C6\",\"ticks\":\"\"},\"caxis\":{\"gridcolor\":\"#DFE8F3\",\"linecolor\":\"#A2B1C6\",\"ticks\":\"\"}},\"coloraxis\":{\"colorbar\":{\"outlinewidth\":0,\"ticks\":\"\"}},\"colorscale\":{\"sequential\":[[0.0,\"#0d0887\"],[0.1111111111111111,\"#46039f\"],[0.2222222222222222,\"#7201a8\"],[0.3333333333333333,\"#9c179e\"],[0.4444444444444444,\"#bd3786\"],[0.5555555555555556,\"#d8576b\"],[0.6666666666666666,\"#ed7953\"],[0.7777777777777778,\"#fb9f3a\"],[0.8888888888888888,\"#fdca26\"],[1.0,\"#f0f921\"]],\"sequentialminus\":[[0.0,\"#0d0887\"],[0.1111111111111111,\"#46039f\"],[0.2222222222222222,\"#7201a8\"],[0.3333333333333333,\"#9c179e\"],[0.4444444444444444,\"#bd3786\"],[0.5555555555555556,\"#d8576b\"],[0.6666666666666666,\"#ed7953\"],[0.7777777777777778,\"#fb9f3a\"],[0.8888888888888888,\"#fdca26\"],[1.0,\"#f0f921\"]],\"diverging\":[[0,\"#8e0152\"],[0.1,\"#c51b7d\"],[0.2,\"#de77ae\"],[0.3,\"#f1b6da\"],[0.4,\"#fde0ef\"],[0.5,\"#f7f7f7\"],[0.6,\"#e6f5d0\"],[0.7,\"#b8e186\"],[0.8,\"#7fbc41\"],[0.9,\"#4d9221\"],[1,\"#276419\"]]},\"xaxis\":{\"gridcolor\":\"#EBF0F8\",\"linecolor\":\"#EBF0F8\",\"ticks\":\"\",\"title\":{\"standoff\":15},\"zerolinecolor\":\"#EBF0F8\",\"automargin\":true,\"zerolinewidth\":2},\"yaxis\":{\"gridcolor\":\"#EBF0F8\",\"linecolor\":\"#EBF0F8\",\"ticks\":\"\",\"title\":{\"standoff\":15},\"zerolinecolor\":\"#EBF0F8\",\"automargin\":true,\"zerolinewidth\":2},\"scene\":{\"xaxis\":{\"backgroundcolor\":\"white\",\"gridcolor\":\"#DFE8F3\",\"linecolor\":\"#EBF0F8\",\"showbackground\":true,\"ticks\":\"\",\"zerolinecolor\":\"#EBF0F8\",\"gridwidth\":2},\"yaxis\":{\"backgroundcolor\":\"white\",\"gridcolor\":\"#DFE8F3\",\"linecolor\":\"#EBF0F8\",\"showbackground\":true,\"ticks\":\"\",\"zerolinecolor\":\"#EBF0F8\",\"gridwidth\":2},\"zaxis\":{\"backgroundcolor\":\"white\",\"gridcolor\":\"#DFE8F3\",\"linecolor\":\"#EBF0F8\",\"showbackground\":true,\"ticks\":\"\",\"zerolinecolor\":\"#EBF0F8\",\"gridwidth\":2}},\"shapedefaults\":{\"line\":{\"color\":\"#2a3f5f\"}},\"annotationdefaults\":{\"arrowcolor\":\"#2a3f5f\",\"arrowhead\":0,\"arrowwidth\":1},\"geo\":{\"bgcolor\":\"white\",\"landcolor\":\"white\",\"subunitcolor\":\"#C8D4E3\",\"showland\":true,\"showlakes\":true,\"lakecolor\":\"white\"},\"title\":{\"x\":0.05},\"mapbox\":{\"style\":\"light\"}}},\"xaxis\":{\"anchor\":\"y\",\"domain\":[0.0,1.0],\"title\":{\"text\":\"Impressions\"}},\"yaxis\":{\"anchor\":\"x\",\"domain\":[0.0,1.0],\"title\":{\"text\":\"count\"}},\"legend\":{\"tracegroupgap\":0},\"title\":{\"text\":\"Distribution of Impressions\"},\"barmode\":\"relative\"},                        {\"responsive\": true}                    ).then(function(){\n",
              "                            \n",
              "var gd = document.getElementById('37118dd0-a388-4cfb-8ba6-7dd37c835ec1');\n",
              "var x = new MutationObserver(function (mutations, observer) {{\n",
              "        var display = window.getComputedStyle(gd).display;\n",
              "        if (!display || display === 'none') {{\n",
              "            console.log([gd, 'removed!']);\n",
              "            Plotly.purge(gd);\n",
              "            observer.disconnect();\n",
              "        }}\n",
              "}});\n",
              "\n",
              "// Listen for the removal of the full notebook cells\n",
              "var notebookContainer = gd.closest('#notebook-container');\n",
              "if (notebookContainer) {{\n",
              "    x.observe(notebookContainer, {childList: true});\n",
              "}}\n",
              "\n",
              "// Listen for the clearing of the current output cell\n",
              "var outputEl = gd.closest('.output');\n",
              "if (outputEl) {{\n",
              "    x.observe(outputEl, {childList: true});\n",
              "}}\n",
              "\n",
              "                        })                };                            </script>        </div>\n",
              "</body>\n",
              "</html>"
            ]
          },
          "metadata": {}
        }
      ]
    },
    {
      "cell_type": "markdown",
      "source": [
        "The code creates a histogram to visualize the distribution of 'Impressions' from an Instagram dataset. It uses the plotly.express library to generate the histogram with 10 bins and sets the title to 'Distribution of Impressions'. Finally, it displays the histogram using fig.show()."
      ],
      "metadata": {
        "id": "epeREi8FyEj2"
      }
    },
    {
      "cell_type": "markdown",
      "source": [
        " let’s have a look at the number of impressions on each post over time:\n",
        ""
      ],
      "metadata": {
        "id": "tIRlKsU_ynBj"
      }
    },
    {
      "cell_type": "code",
      "source": [
        "fig = px.line(data, x= data.index,\n",
        "              y='Impressions',\n",
        "              title='Impressions Over Time')\n",
        "fig.show()"
      ],
      "metadata": {
        "colab": {
          "base_uri": "https://localhost:8080/",
          "height": 542
        },
        "id": "8MdW5I4TY1u2",
        "outputId": "f567fbee-3792-46d8-8d64-2d9be6009503"
      },
      "execution_count": 11,
      "outputs": [
        {
          "output_type": "display_data",
          "data": {
            "text/html": [
              "<html>\n",
              "<head><meta charset=\"utf-8\" /></head>\n",
              "<body>\n",
              "    <div>            <script src=\"https://cdnjs.cloudflare.com/ajax/libs/mathjax/2.7.5/MathJax.js?config=TeX-AMS-MML_SVG\"></script><script type=\"text/javascript\">if (window.MathJax && window.MathJax.Hub && window.MathJax.Hub.Config) {window.MathJax.Hub.Config({SVG: {font: \"STIX-Web\"}});}</script>                <script type=\"text/javascript\">window.PlotlyConfig = {MathJaxConfig: 'local'};</script>\n",
              "        <script charset=\"utf-8\" src=\"https://cdn.plot.ly/plotly-2.35.2.min.js\"></script>                <div id=\"d101a912-2094-4f57-bf5a-70085f95786d\" class=\"plotly-graph-div\" style=\"height:525px; width:100%;\"></div>            <script type=\"text/javascript\">                                    window.PLOTLYENV=window.PLOTLYENV || {};                                    if (document.getElementById(\"d101a912-2094-4f57-bf5a-70085f95786d\")) {                    Plotly.newPlot(                        \"d101a912-2094-4f57-bf5a-70085f95786d\",                        [{\"hovertemplate\":\"index=%{x}\\u003cbr\\u003eImpressions=%{y}\\u003cextra\\u003e\\u003c\\u002fextra\\u003e\",\"legendgroup\":\"\",\"line\":{\"color\":\"#636efa\",\"dash\":\"solid\"},\"marker\":{\"symbol\":\"circle\"},\"mode\":\"lines\",\"name\":\"\",\"orientation\":\"v\",\"showlegend\":false,\"x\":[0,1,2,3,4,5,6,7,8,9,10,11,12,13,14,15,16,17,18,19,20,21,22,23,24,25,26,27,28,29,30,31,32,33,34,35,36,37,38,39,40,41,42,43,44,45,46,47,48,49,50,51,52,53,54,55,56,57,58,59,60,61,62,63,64,65,66,67,68,69,70,71,72,73,74,75,76,77,78,79,80,81,82,83,84,85,86,87,88,89,90,91,92,93,94,95,96,97,98,99,100,101,102,103,104,105,106,107,108,109,110,111,112,113,114,115,116,117,118],\"xaxis\":\"x\",\"y\":[3920,5394,4021,4528,2518,3884,2621,3541,3749,4115,2218,3234,4344,3216,9453,5055,4002,3169,6168,2407,2064,3973,7281,3052,4628,4082,5394,2766,3924,3015,6666,3854,4355,4343,6108,2523,2327,3990,2191,1941,16062,4998,4289,3880,3786,4298,3630,2826,7407,10386,2998,7018,2941,6432,10667,3988,4978,3388,4467,3246,5072,6339,4239,3454,7571,3333,3818,10933,5058,3601,3480,3525,3606,5542,6559,3623,10493,4446,2957,5538,4681,5273,5055,4002,3169,6168,2407,3630,2826,7407,10386,2998,3052,4628,4082,5394,2766,3924,3015,5409,5323,8001,4150,4609,6348,11068,7231,17396,6814,17713,5563,4842,11149,10206,13700,5731,4139,32695,36919],\"yaxis\":\"y\",\"type\":\"scatter\"}],                        {\"template\":{\"data\":{\"histogram2dcontour\":[{\"type\":\"histogram2dcontour\",\"colorbar\":{\"outlinewidth\":0,\"ticks\":\"\"},\"colorscale\":[[0.0,\"#0d0887\"],[0.1111111111111111,\"#46039f\"],[0.2222222222222222,\"#7201a8\"],[0.3333333333333333,\"#9c179e\"],[0.4444444444444444,\"#bd3786\"],[0.5555555555555556,\"#d8576b\"],[0.6666666666666666,\"#ed7953\"],[0.7777777777777778,\"#fb9f3a\"],[0.8888888888888888,\"#fdca26\"],[1.0,\"#f0f921\"]]}],\"choropleth\":[{\"type\":\"choropleth\",\"colorbar\":{\"outlinewidth\":0,\"ticks\":\"\"}}],\"histogram2d\":[{\"type\":\"histogram2d\",\"colorbar\":{\"outlinewidth\":0,\"ticks\":\"\"},\"colorscale\":[[0.0,\"#0d0887\"],[0.1111111111111111,\"#46039f\"],[0.2222222222222222,\"#7201a8\"],[0.3333333333333333,\"#9c179e\"],[0.4444444444444444,\"#bd3786\"],[0.5555555555555556,\"#d8576b\"],[0.6666666666666666,\"#ed7953\"],[0.7777777777777778,\"#fb9f3a\"],[0.8888888888888888,\"#fdca26\"],[1.0,\"#f0f921\"]]}],\"heatmap\":[{\"type\":\"heatmap\",\"colorbar\":{\"outlinewidth\":0,\"ticks\":\"\"},\"colorscale\":[[0.0,\"#0d0887\"],[0.1111111111111111,\"#46039f\"],[0.2222222222222222,\"#7201a8\"],[0.3333333333333333,\"#9c179e\"],[0.4444444444444444,\"#bd3786\"],[0.5555555555555556,\"#d8576b\"],[0.6666666666666666,\"#ed7953\"],[0.7777777777777778,\"#fb9f3a\"],[0.8888888888888888,\"#fdca26\"],[1.0,\"#f0f921\"]]}],\"heatmapgl\":[{\"type\":\"heatmapgl\",\"colorbar\":{\"outlinewidth\":0,\"ticks\":\"\"},\"colorscale\":[[0.0,\"#0d0887\"],[0.1111111111111111,\"#46039f\"],[0.2222222222222222,\"#7201a8\"],[0.3333333333333333,\"#9c179e\"],[0.4444444444444444,\"#bd3786\"],[0.5555555555555556,\"#d8576b\"],[0.6666666666666666,\"#ed7953\"],[0.7777777777777778,\"#fb9f3a\"],[0.8888888888888888,\"#fdca26\"],[1.0,\"#f0f921\"]]}],\"contourcarpet\":[{\"type\":\"contourcarpet\",\"colorbar\":{\"outlinewidth\":0,\"ticks\":\"\"}}],\"contour\":[{\"type\":\"contour\",\"colorbar\":{\"outlinewidth\":0,\"ticks\":\"\"},\"colorscale\":[[0.0,\"#0d0887\"],[0.1111111111111111,\"#46039f\"],[0.2222222222222222,\"#7201a8\"],[0.3333333333333333,\"#9c179e\"],[0.4444444444444444,\"#bd3786\"],[0.5555555555555556,\"#d8576b\"],[0.6666666666666666,\"#ed7953\"],[0.7777777777777778,\"#fb9f3a\"],[0.8888888888888888,\"#fdca26\"],[1.0,\"#f0f921\"]]}],\"surface\":[{\"type\":\"surface\",\"colorbar\":{\"outlinewidth\":0,\"ticks\":\"\"},\"colorscale\":[[0.0,\"#0d0887\"],[0.1111111111111111,\"#46039f\"],[0.2222222222222222,\"#7201a8\"],[0.3333333333333333,\"#9c179e\"],[0.4444444444444444,\"#bd3786\"],[0.5555555555555556,\"#d8576b\"],[0.6666666666666666,\"#ed7953\"],[0.7777777777777778,\"#fb9f3a\"],[0.8888888888888888,\"#fdca26\"],[1.0,\"#f0f921\"]]}],\"mesh3d\":[{\"type\":\"mesh3d\",\"colorbar\":{\"outlinewidth\":0,\"ticks\":\"\"}}],\"scatter\":[{\"fillpattern\":{\"fillmode\":\"overlay\",\"size\":10,\"solidity\":0.2},\"type\":\"scatter\"}],\"parcoords\":[{\"type\":\"parcoords\",\"line\":{\"colorbar\":{\"outlinewidth\":0,\"ticks\":\"\"}}}],\"scatterpolargl\":[{\"type\":\"scatterpolargl\",\"marker\":{\"colorbar\":{\"outlinewidth\":0,\"ticks\":\"\"}}}],\"bar\":[{\"error_x\":{\"color\":\"#2a3f5f\"},\"error_y\":{\"color\":\"#2a3f5f\"},\"marker\":{\"line\":{\"color\":\"white\",\"width\":0.5},\"pattern\":{\"fillmode\":\"overlay\",\"size\":10,\"solidity\":0.2}},\"type\":\"bar\"}],\"scattergeo\":[{\"type\":\"scattergeo\",\"marker\":{\"colorbar\":{\"outlinewidth\":0,\"ticks\":\"\"}}}],\"scatterpolar\":[{\"type\":\"scatterpolar\",\"marker\":{\"colorbar\":{\"outlinewidth\":0,\"ticks\":\"\"}}}],\"histogram\":[{\"marker\":{\"pattern\":{\"fillmode\":\"overlay\",\"size\":10,\"solidity\":0.2}},\"type\":\"histogram\"}],\"scattergl\":[{\"type\":\"scattergl\",\"marker\":{\"colorbar\":{\"outlinewidth\":0,\"ticks\":\"\"}}}],\"scatter3d\":[{\"type\":\"scatter3d\",\"line\":{\"colorbar\":{\"outlinewidth\":0,\"ticks\":\"\"}},\"marker\":{\"colorbar\":{\"outlinewidth\":0,\"ticks\":\"\"}}}],\"scattermapbox\":[{\"type\":\"scattermapbox\",\"marker\":{\"colorbar\":{\"outlinewidth\":0,\"ticks\":\"\"}}}],\"scatterternary\":[{\"type\":\"scatterternary\",\"marker\":{\"colorbar\":{\"outlinewidth\":0,\"ticks\":\"\"}}}],\"scattercarpet\":[{\"type\":\"scattercarpet\",\"marker\":{\"colorbar\":{\"outlinewidth\":0,\"ticks\":\"\"}}}],\"carpet\":[{\"aaxis\":{\"endlinecolor\":\"#2a3f5f\",\"gridcolor\":\"#C8D4E3\",\"linecolor\":\"#C8D4E3\",\"minorgridcolor\":\"#C8D4E3\",\"startlinecolor\":\"#2a3f5f\"},\"baxis\":{\"endlinecolor\":\"#2a3f5f\",\"gridcolor\":\"#C8D4E3\",\"linecolor\":\"#C8D4E3\",\"minorgridcolor\":\"#C8D4E3\",\"startlinecolor\":\"#2a3f5f\"},\"type\":\"carpet\"}],\"table\":[{\"cells\":{\"fill\":{\"color\":\"#EBF0F8\"},\"line\":{\"color\":\"white\"}},\"header\":{\"fill\":{\"color\":\"#C8D4E3\"},\"line\":{\"color\":\"white\"}},\"type\":\"table\"}],\"barpolar\":[{\"marker\":{\"line\":{\"color\":\"white\",\"width\":0.5},\"pattern\":{\"fillmode\":\"overlay\",\"size\":10,\"solidity\":0.2}},\"type\":\"barpolar\"}],\"pie\":[{\"automargin\":true,\"type\":\"pie\"}]},\"layout\":{\"autotypenumbers\":\"strict\",\"colorway\":[\"#636efa\",\"#EF553B\",\"#00cc96\",\"#ab63fa\",\"#FFA15A\",\"#19d3f3\",\"#FF6692\",\"#B6E880\",\"#FF97FF\",\"#FECB52\"],\"font\":{\"color\":\"#2a3f5f\"},\"hovermode\":\"closest\",\"hoverlabel\":{\"align\":\"left\"},\"paper_bgcolor\":\"white\",\"plot_bgcolor\":\"white\",\"polar\":{\"bgcolor\":\"white\",\"angularaxis\":{\"gridcolor\":\"#EBF0F8\",\"linecolor\":\"#EBF0F8\",\"ticks\":\"\"},\"radialaxis\":{\"gridcolor\":\"#EBF0F8\",\"linecolor\":\"#EBF0F8\",\"ticks\":\"\"}},\"ternary\":{\"bgcolor\":\"white\",\"aaxis\":{\"gridcolor\":\"#DFE8F3\",\"linecolor\":\"#A2B1C6\",\"ticks\":\"\"},\"baxis\":{\"gridcolor\":\"#DFE8F3\",\"linecolor\":\"#A2B1C6\",\"ticks\":\"\"},\"caxis\":{\"gridcolor\":\"#DFE8F3\",\"linecolor\":\"#A2B1C6\",\"ticks\":\"\"}},\"coloraxis\":{\"colorbar\":{\"outlinewidth\":0,\"ticks\":\"\"}},\"colorscale\":{\"sequential\":[[0.0,\"#0d0887\"],[0.1111111111111111,\"#46039f\"],[0.2222222222222222,\"#7201a8\"],[0.3333333333333333,\"#9c179e\"],[0.4444444444444444,\"#bd3786\"],[0.5555555555555556,\"#d8576b\"],[0.6666666666666666,\"#ed7953\"],[0.7777777777777778,\"#fb9f3a\"],[0.8888888888888888,\"#fdca26\"],[1.0,\"#f0f921\"]],\"sequentialminus\":[[0.0,\"#0d0887\"],[0.1111111111111111,\"#46039f\"],[0.2222222222222222,\"#7201a8\"],[0.3333333333333333,\"#9c179e\"],[0.4444444444444444,\"#bd3786\"],[0.5555555555555556,\"#d8576b\"],[0.6666666666666666,\"#ed7953\"],[0.7777777777777778,\"#fb9f3a\"],[0.8888888888888888,\"#fdca26\"],[1.0,\"#f0f921\"]],\"diverging\":[[0,\"#8e0152\"],[0.1,\"#c51b7d\"],[0.2,\"#de77ae\"],[0.3,\"#f1b6da\"],[0.4,\"#fde0ef\"],[0.5,\"#f7f7f7\"],[0.6,\"#e6f5d0\"],[0.7,\"#b8e186\"],[0.8,\"#7fbc41\"],[0.9,\"#4d9221\"],[1,\"#276419\"]]},\"xaxis\":{\"gridcolor\":\"#EBF0F8\",\"linecolor\":\"#EBF0F8\",\"ticks\":\"\",\"title\":{\"standoff\":15},\"zerolinecolor\":\"#EBF0F8\",\"automargin\":true,\"zerolinewidth\":2},\"yaxis\":{\"gridcolor\":\"#EBF0F8\",\"linecolor\":\"#EBF0F8\",\"ticks\":\"\",\"title\":{\"standoff\":15},\"zerolinecolor\":\"#EBF0F8\",\"automargin\":true,\"zerolinewidth\":2},\"scene\":{\"xaxis\":{\"backgroundcolor\":\"white\",\"gridcolor\":\"#DFE8F3\",\"linecolor\":\"#EBF0F8\",\"showbackground\":true,\"ticks\":\"\",\"zerolinecolor\":\"#EBF0F8\",\"gridwidth\":2},\"yaxis\":{\"backgroundcolor\":\"white\",\"gridcolor\":\"#DFE8F3\",\"linecolor\":\"#EBF0F8\",\"showbackground\":true,\"ticks\":\"\",\"zerolinecolor\":\"#EBF0F8\",\"gridwidth\":2},\"zaxis\":{\"backgroundcolor\":\"white\",\"gridcolor\":\"#DFE8F3\",\"linecolor\":\"#EBF0F8\",\"showbackground\":true,\"ticks\":\"\",\"zerolinecolor\":\"#EBF0F8\",\"gridwidth\":2}},\"shapedefaults\":{\"line\":{\"color\":\"#2a3f5f\"}},\"annotationdefaults\":{\"arrowcolor\":\"#2a3f5f\",\"arrowhead\":0,\"arrowwidth\":1},\"geo\":{\"bgcolor\":\"white\",\"landcolor\":\"white\",\"subunitcolor\":\"#C8D4E3\",\"showland\":true,\"showlakes\":true,\"lakecolor\":\"white\"},\"title\":{\"x\":0.05},\"mapbox\":{\"style\":\"light\"}}},\"xaxis\":{\"anchor\":\"y\",\"domain\":[0.0,1.0],\"title\":{\"text\":\"index\"}},\"yaxis\":{\"anchor\":\"x\",\"domain\":[0.0,1.0],\"title\":{\"text\":\"Impressions\"}},\"legend\":{\"tracegroupgap\":0},\"title\":{\"text\":\"Impressions Over Time\"}},                        {\"responsive\": true}                    ).then(function(){\n",
              "                            \n",
              "var gd = document.getElementById('d101a912-2094-4f57-bf5a-70085f95786d');\n",
              "var x = new MutationObserver(function (mutations, observer) {{\n",
              "        var display = window.getComputedStyle(gd).display;\n",
              "        if (!display || display === 'none') {{\n",
              "            console.log([gd, 'removed!']);\n",
              "            Plotly.purge(gd);\n",
              "            observer.disconnect();\n",
              "        }}\n",
              "}});\n",
              "\n",
              "// Listen for the removal of the full notebook cells\n",
              "var notebookContainer = gd.closest('#notebook-container');\n",
              "if (notebookContainer) {{\n",
              "    x.observe(notebookContainer, {childList: true});\n",
              "}}\n",
              "\n",
              "// Listen for the clearing of the current output cell\n",
              "var outputEl = gd.closest('.output');\n",
              "if (outputEl) {{\n",
              "    x.observe(outputEl, {childList: true});\n",
              "}}\n",
              "\n",
              "                        })                };                            </script>        </div>\n",
              "</body>\n",
              "</html>"
            ]
          },
          "metadata": {}
        }
      ]
    },
    {
      "cell_type": "markdown",
      "source": [
        "This code creates a line chart to visualize how Instagram impressions change over time. It uses the plotly.express library, which is a part of Plotly designed for creating interactive charts easily."
      ],
      "metadata": {
        "id": "yi5dJZiByMlX"
      }
    },
    {
      "cell_type": "markdown",
      "source": [
        "Now let’s have a look at all the metrics like Likes, Saves, and Follows from each post over time:"
      ],
      "metadata": {
        "id": "YkpKA_-O7IcY"
      }
    },
    {
      "cell_type": "code",
      "source": [
        "fig = go.Figure()\n",
        "\n",
        "fig.add_trace(go.Scatter(x=data.index, y=data['Likes'], name='Likes'))\n",
        "fig.add_trace(go.Scatter(x=data.index, y=data['Saves'], name='Saves'))\n",
        "fig.add_trace(go.Scatter(x=data.index, y=data['Follows'], name='Follows'))\n",
        "\n",
        "fig.update_layout(title='Metrics Over Time',\n",
        "                  xaxis_title='Date',\n",
        "                  yaxis_title='Count')\n",
        "\n",
        "fig.show()"
      ],
      "metadata": {
        "colab": {
          "base_uri": "https://localhost:8080/",
          "height": 542
        },
        "id": "ai5qtoH7rE7L",
        "outputId": "3cf9f288-abe9-4568-e691-65f66d922970"
      },
      "execution_count": 12,
      "outputs": [
        {
          "output_type": "display_data",
          "data": {
            "text/html": [
              "<html>\n",
              "<head><meta charset=\"utf-8\" /></head>\n",
              "<body>\n",
              "    <div>            <script src=\"https://cdnjs.cloudflare.com/ajax/libs/mathjax/2.7.5/MathJax.js?config=TeX-AMS-MML_SVG\"></script><script type=\"text/javascript\">if (window.MathJax && window.MathJax.Hub && window.MathJax.Hub.Config) {window.MathJax.Hub.Config({SVG: {font: \"STIX-Web\"}});}</script>                <script type=\"text/javascript\">window.PlotlyConfig = {MathJaxConfig: 'local'};</script>\n",
              "        <script charset=\"utf-8\" src=\"https://cdn.plot.ly/plotly-2.35.2.min.js\"></script>                <div id=\"8404cb59-ef05-4c7c-8fc8-120f9b567dbd\" class=\"plotly-graph-div\" style=\"height:525px; width:100%;\"></div>            <script type=\"text/javascript\">                                    window.PLOTLYENV=window.PLOTLYENV || {};                                    if (document.getElementById(\"8404cb59-ef05-4c7c-8fc8-120f9b567dbd\")) {                    Plotly.newPlot(                        \"8404cb59-ef05-4c7c-8fc8-120f9b567dbd\",                        [{\"name\":\"Likes\",\"x\":[0,1,2,3,4,5,6,7,8,9,10,11,12,13,14,15,16,17,18,19,20,21,22,23,24,25,26,27,28,29,30,31,32,33,34,35,36,37,38,39,40,41,42,43,44,45,46,47,48,49,50,51,52,53,54,55,56,57,58,59,60,61,62,63,64,65,66,67,68,69,70,71,72,73,74,75,76,77,78,79,80,81,82,83,84,85,86,87,88,89,90,91,92,93,94,95,96,97,98,99,100,101,102,103,104,105,106,107,108,109,110,111,112,113,114,115,116,117,118],\"y\":[162,224,131,213,123,144,76,124,159,191,81,151,162,142,294,159,205,121,151,72,76,91,195,129,160,175,147,114,151,92,214,150,122,152,196,86,85,156,72,82,416,180,150,127,167,225,137,114,263,328,126,236,99,212,297,142,186,112,149,132,115,248,178,107,269,96,134,301,187,94,114,96,138,122,257,95,244,190,118,178,170,250,159,205,121,151,72,137,114,263,328,126,129,160,175,147,114,151,92,275,192,203,145,168,194,250,171,416,249,308,163,86,210,172,373,148,92,549,443],\"type\":\"scatter\"},{\"name\":\"Saves\",\"x\":[0,1,2,3,4,5,6,7,8,9,10,11,12,13,14,15,16,17,18,19,20,21,22,23,24,25,26,27,28,29,30,31,32,33,34,35,36,37,38,39,40,41,42,43,44,45,46,47,48,49,50,51,52,53,54,55,56,57,58,59,60,61,62,63,64,65,66,67,68,69,70,71,72,73,74,75,76,77,78,79,80,81,82,83,84,85,86,87,88,89,90,91,92,93,94,95,96,97,98,99,100,101,102,103,104,105,106,107,108,109,110,111,112,113,114,115,116,117,118],\"y\":[98,194,41,172,96,74,22,135,155,122,28,122,119,121,100,101,111,106,82,40,49,72,167,63,144,135,61,40,139,52,84,81,79,105,90,34,45,98,35,49,252,167,111,90,144,263,137,67,288,668,42,342,48,250,219,118,143,99,89,148,42,171,109,38,421,38,116,225,144,51,104,33,174,46,179,34,99,174,70,149,207,318,101,111,106,82,40,137,67,288,668,42,63,144,135,61,40,139,52,393,152,83,74,94,188,214,73,285,469,504,149,55,273,182,573,135,36,1095,653],\"type\":\"scatter\"},{\"name\":\"Follows\",\"x\":[0,1,2,3,4,5,6,7,8,9,10,11,12,13,14,15,16,17,18,19,20,21,22,23,24,25,26,27,28,29,30,31,32,33,34,35,36,37,38,39,40,41,42,43,44,45,46,47,48,49,50,51,52,53,54,55,56,57,58,59,60,61,62,63,64,65,66,67,68,69,70,71,72,73,74,75,76,77,78,79,80,81,82,83,84,85,86,87,88,89,90,91,92,93,94,95,96,97,98,99,100,101,102,103,104,105,106,107,108,109,110,111,112,113,114,115,116,117,118],\"y\":[2,10,12,8,0,2,0,6,4,6,4,0,2,4,42,6,2,2,30,0,0,24,100,2,4,6,6,6,2,2,20,2,4,8,26,2,2,4,0,2,94,8,18,10,4,4,4,4,18,38,10,12,4,4,74,0,6,6,0,6,12,10,8,8,46,12,10,94,6,10,6,4,12,16,12,8,32,8,16,6,10,10,6,2,2,30,0,4,4,18,38,10,2,4,6,6,6,2,2,14,8,14,28,18,12,34,26,260,16,96,20,30,58,100,80,18,10,214,228],\"type\":\"scatter\"}],                        {\"template\":{\"data\":{\"histogram2dcontour\":[{\"type\":\"histogram2dcontour\",\"colorbar\":{\"outlinewidth\":0,\"ticks\":\"\"},\"colorscale\":[[0.0,\"#0d0887\"],[0.1111111111111111,\"#46039f\"],[0.2222222222222222,\"#7201a8\"],[0.3333333333333333,\"#9c179e\"],[0.4444444444444444,\"#bd3786\"],[0.5555555555555556,\"#d8576b\"],[0.6666666666666666,\"#ed7953\"],[0.7777777777777778,\"#fb9f3a\"],[0.8888888888888888,\"#fdca26\"],[1.0,\"#f0f921\"]]}],\"choropleth\":[{\"type\":\"choropleth\",\"colorbar\":{\"outlinewidth\":0,\"ticks\":\"\"}}],\"histogram2d\":[{\"type\":\"histogram2d\",\"colorbar\":{\"outlinewidth\":0,\"ticks\":\"\"},\"colorscale\":[[0.0,\"#0d0887\"],[0.1111111111111111,\"#46039f\"],[0.2222222222222222,\"#7201a8\"],[0.3333333333333333,\"#9c179e\"],[0.4444444444444444,\"#bd3786\"],[0.5555555555555556,\"#d8576b\"],[0.6666666666666666,\"#ed7953\"],[0.7777777777777778,\"#fb9f3a\"],[0.8888888888888888,\"#fdca26\"],[1.0,\"#f0f921\"]]}],\"heatmap\":[{\"type\":\"heatmap\",\"colorbar\":{\"outlinewidth\":0,\"ticks\":\"\"},\"colorscale\":[[0.0,\"#0d0887\"],[0.1111111111111111,\"#46039f\"],[0.2222222222222222,\"#7201a8\"],[0.3333333333333333,\"#9c179e\"],[0.4444444444444444,\"#bd3786\"],[0.5555555555555556,\"#d8576b\"],[0.6666666666666666,\"#ed7953\"],[0.7777777777777778,\"#fb9f3a\"],[0.8888888888888888,\"#fdca26\"],[1.0,\"#f0f921\"]]}],\"heatmapgl\":[{\"type\":\"heatmapgl\",\"colorbar\":{\"outlinewidth\":0,\"ticks\":\"\"},\"colorscale\":[[0.0,\"#0d0887\"],[0.1111111111111111,\"#46039f\"],[0.2222222222222222,\"#7201a8\"],[0.3333333333333333,\"#9c179e\"],[0.4444444444444444,\"#bd3786\"],[0.5555555555555556,\"#d8576b\"],[0.6666666666666666,\"#ed7953\"],[0.7777777777777778,\"#fb9f3a\"],[0.8888888888888888,\"#fdca26\"],[1.0,\"#f0f921\"]]}],\"contourcarpet\":[{\"type\":\"contourcarpet\",\"colorbar\":{\"outlinewidth\":0,\"ticks\":\"\"}}],\"contour\":[{\"type\":\"contour\",\"colorbar\":{\"outlinewidth\":0,\"ticks\":\"\"},\"colorscale\":[[0.0,\"#0d0887\"],[0.1111111111111111,\"#46039f\"],[0.2222222222222222,\"#7201a8\"],[0.3333333333333333,\"#9c179e\"],[0.4444444444444444,\"#bd3786\"],[0.5555555555555556,\"#d8576b\"],[0.6666666666666666,\"#ed7953\"],[0.7777777777777778,\"#fb9f3a\"],[0.8888888888888888,\"#fdca26\"],[1.0,\"#f0f921\"]]}],\"surface\":[{\"type\":\"surface\",\"colorbar\":{\"outlinewidth\":0,\"ticks\":\"\"},\"colorscale\":[[0.0,\"#0d0887\"],[0.1111111111111111,\"#46039f\"],[0.2222222222222222,\"#7201a8\"],[0.3333333333333333,\"#9c179e\"],[0.4444444444444444,\"#bd3786\"],[0.5555555555555556,\"#d8576b\"],[0.6666666666666666,\"#ed7953\"],[0.7777777777777778,\"#fb9f3a\"],[0.8888888888888888,\"#fdca26\"],[1.0,\"#f0f921\"]]}],\"mesh3d\":[{\"type\":\"mesh3d\",\"colorbar\":{\"outlinewidth\":0,\"ticks\":\"\"}}],\"scatter\":[{\"fillpattern\":{\"fillmode\":\"overlay\",\"size\":10,\"solidity\":0.2},\"type\":\"scatter\"}],\"parcoords\":[{\"type\":\"parcoords\",\"line\":{\"colorbar\":{\"outlinewidth\":0,\"ticks\":\"\"}}}],\"scatterpolargl\":[{\"type\":\"scatterpolargl\",\"marker\":{\"colorbar\":{\"outlinewidth\":0,\"ticks\":\"\"}}}],\"bar\":[{\"error_x\":{\"color\":\"#2a3f5f\"},\"error_y\":{\"color\":\"#2a3f5f\"},\"marker\":{\"line\":{\"color\":\"white\",\"width\":0.5},\"pattern\":{\"fillmode\":\"overlay\",\"size\":10,\"solidity\":0.2}},\"type\":\"bar\"}],\"scattergeo\":[{\"type\":\"scattergeo\",\"marker\":{\"colorbar\":{\"outlinewidth\":0,\"ticks\":\"\"}}}],\"scatterpolar\":[{\"type\":\"scatterpolar\",\"marker\":{\"colorbar\":{\"outlinewidth\":0,\"ticks\":\"\"}}}],\"histogram\":[{\"marker\":{\"pattern\":{\"fillmode\":\"overlay\",\"size\":10,\"solidity\":0.2}},\"type\":\"histogram\"}],\"scattergl\":[{\"type\":\"scattergl\",\"marker\":{\"colorbar\":{\"outlinewidth\":0,\"ticks\":\"\"}}}],\"scatter3d\":[{\"type\":\"scatter3d\",\"line\":{\"colorbar\":{\"outlinewidth\":0,\"ticks\":\"\"}},\"marker\":{\"colorbar\":{\"outlinewidth\":0,\"ticks\":\"\"}}}],\"scattermapbox\":[{\"type\":\"scattermapbox\",\"marker\":{\"colorbar\":{\"outlinewidth\":0,\"ticks\":\"\"}}}],\"scatterternary\":[{\"type\":\"scatterternary\",\"marker\":{\"colorbar\":{\"outlinewidth\":0,\"ticks\":\"\"}}}],\"scattercarpet\":[{\"type\":\"scattercarpet\",\"marker\":{\"colorbar\":{\"outlinewidth\":0,\"ticks\":\"\"}}}],\"carpet\":[{\"aaxis\":{\"endlinecolor\":\"#2a3f5f\",\"gridcolor\":\"#C8D4E3\",\"linecolor\":\"#C8D4E3\",\"minorgridcolor\":\"#C8D4E3\",\"startlinecolor\":\"#2a3f5f\"},\"baxis\":{\"endlinecolor\":\"#2a3f5f\",\"gridcolor\":\"#C8D4E3\",\"linecolor\":\"#C8D4E3\",\"minorgridcolor\":\"#C8D4E3\",\"startlinecolor\":\"#2a3f5f\"},\"type\":\"carpet\"}],\"table\":[{\"cells\":{\"fill\":{\"color\":\"#EBF0F8\"},\"line\":{\"color\":\"white\"}},\"header\":{\"fill\":{\"color\":\"#C8D4E3\"},\"line\":{\"color\":\"white\"}},\"type\":\"table\"}],\"barpolar\":[{\"marker\":{\"line\":{\"color\":\"white\",\"width\":0.5},\"pattern\":{\"fillmode\":\"overlay\",\"size\":10,\"solidity\":0.2}},\"type\":\"barpolar\"}],\"pie\":[{\"automargin\":true,\"type\":\"pie\"}]},\"layout\":{\"autotypenumbers\":\"strict\",\"colorway\":[\"#636efa\",\"#EF553B\",\"#00cc96\",\"#ab63fa\",\"#FFA15A\",\"#19d3f3\",\"#FF6692\",\"#B6E880\",\"#FF97FF\",\"#FECB52\"],\"font\":{\"color\":\"#2a3f5f\"},\"hovermode\":\"closest\",\"hoverlabel\":{\"align\":\"left\"},\"paper_bgcolor\":\"white\",\"plot_bgcolor\":\"white\",\"polar\":{\"bgcolor\":\"white\",\"angularaxis\":{\"gridcolor\":\"#EBF0F8\",\"linecolor\":\"#EBF0F8\",\"ticks\":\"\"},\"radialaxis\":{\"gridcolor\":\"#EBF0F8\",\"linecolor\":\"#EBF0F8\",\"ticks\":\"\"}},\"ternary\":{\"bgcolor\":\"white\",\"aaxis\":{\"gridcolor\":\"#DFE8F3\",\"linecolor\":\"#A2B1C6\",\"ticks\":\"\"},\"baxis\":{\"gridcolor\":\"#DFE8F3\",\"linecolor\":\"#A2B1C6\",\"ticks\":\"\"},\"caxis\":{\"gridcolor\":\"#DFE8F3\",\"linecolor\":\"#A2B1C6\",\"ticks\":\"\"}},\"coloraxis\":{\"colorbar\":{\"outlinewidth\":0,\"ticks\":\"\"}},\"colorscale\":{\"sequential\":[[0.0,\"#0d0887\"],[0.1111111111111111,\"#46039f\"],[0.2222222222222222,\"#7201a8\"],[0.3333333333333333,\"#9c179e\"],[0.4444444444444444,\"#bd3786\"],[0.5555555555555556,\"#d8576b\"],[0.6666666666666666,\"#ed7953\"],[0.7777777777777778,\"#fb9f3a\"],[0.8888888888888888,\"#fdca26\"],[1.0,\"#f0f921\"]],\"sequentialminus\":[[0.0,\"#0d0887\"],[0.1111111111111111,\"#46039f\"],[0.2222222222222222,\"#7201a8\"],[0.3333333333333333,\"#9c179e\"],[0.4444444444444444,\"#bd3786\"],[0.5555555555555556,\"#d8576b\"],[0.6666666666666666,\"#ed7953\"],[0.7777777777777778,\"#fb9f3a\"],[0.8888888888888888,\"#fdca26\"],[1.0,\"#f0f921\"]],\"diverging\":[[0,\"#8e0152\"],[0.1,\"#c51b7d\"],[0.2,\"#de77ae\"],[0.3,\"#f1b6da\"],[0.4,\"#fde0ef\"],[0.5,\"#f7f7f7\"],[0.6,\"#e6f5d0\"],[0.7,\"#b8e186\"],[0.8,\"#7fbc41\"],[0.9,\"#4d9221\"],[1,\"#276419\"]]},\"xaxis\":{\"gridcolor\":\"#EBF0F8\",\"linecolor\":\"#EBF0F8\",\"ticks\":\"\",\"title\":{\"standoff\":15},\"zerolinecolor\":\"#EBF0F8\",\"automargin\":true,\"zerolinewidth\":2},\"yaxis\":{\"gridcolor\":\"#EBF0F8\",\"linecolor\":\"#EBF0F8\",\"ticks\":\"\",\"title\":{\"standoff\":15},\"zerolinecolor\":\"#EBF0F8\",\"automargin\":true,\"zerolinewidth\":2},\"scene\":{\"xaxis\":{\"backgroundcolor\":\"white\",\"gridcolor\":\"#DFE8F3\",\"linecolor\":\"#EBF0F8\",\"showbackground\":true,\"ticks\":\"\",\"zerolinecolor\":\"#EBF0F8\",\"gridwidth\":2},\"yaxis\":{\"backgroundcolor\":\"white\",\"gridcolor\":\"#DFE8F3\",\"linecolor\":\"#EBF0F8\",\"showbackground\":true,\"ticks\":\"\",\"zerolinecolor\":\"#EBF0F8\",\"gridwidth\":2},\"zaxis\":{\"backgroundcolor\":\"white\",\"gridcolor\":\"#DFE8F3\",\"linecolor\":\"#EBF0F8\",\"showbackground\":true,\"ticks\":\"\",\"zerolinecolor\":\"#EBF0F8\",\"gridwidth\":2}},\"shapedefaults\":{\"line\":{\"color\":\"#2a3f5f\"}},\"annotationdefaults\":{\"arrowcolor\":\"#2a3f5f\",\"arrowhead\":0,\"arrowwidth\":1},\"geo\":{\"bgcolor\":\"white\",\"landcolor\":\"white\",\"subunitcolor\":\"#C8D4E3\",\"showland\":true,\"showlakes\":true,\"lakecolor\":\"white\"},\"title\":{\"x\":0.05},\"mapbox\":{\"style\":\"light\"}}},\"title\":{\"text\":\"Metrics Over Time\"},\"xaxis\":{\"title\":{\"text\":\"Date\"}},\"yaxis\":{\"title\":{\"text\":\"Count\"}}},                        {\"responsive\": true}                    ).then(function(){\n",
              "                            \n",
              "var gd = document.getElementById('8404cb59-ef05-4c7c-8fc8-120f9b567dbd');\n",
              "var x = new MutationObserver(function (mutations, observer) {{\n",
              "        var display = window.getComputedStyle(gd).display;\n",
              "        if (!display || display === 'none') {{\n",
              "            console.log([gd, 'removed!']);\n",
              "            Plotly.purge(gd);\n",
              "            observer.disconnect();\n",
              "        }}\n",
              "}});\n",
              "\n",
              "// Listen for the removal of the full notebook cells\n",
              "var notebookContainer = gd.closest('#notebook-container');\n",
              "if (notebookContainer) {{\n",
              "    x.observe(notebookContainer, {childList: true});\n",
              "}}\n",
              "\n",
              "// Listen for the clearing of the current output cell\n",
              "var outputEl = gd.closest('.output');\n",
              "if (outputEl) {{\n",
              "    x.observe(outputEl, {childList: true});\n",
              "}}\n",
              "\n",
              "                        })                };                            </script>        </div>\n",
              "</body>\n",
              "</html>"
            ]
          },
          "metadata": {}
        }
      ]
    },
    {
      "cell_type": "markdown",
      "source": [
        "The code creates an interactive line chart showing Instagram 'Likes', 'Saves', and 'Follows' over time.\n",
        "It uses Plotly to plot these metrics from a dataset, customizing the chart for clarity.\n",
        "\n",
        "Finally, fig.show() displays the chart, allowing users to analyze the engagement trends."
      ],
      "metadata": {
        "id": "CebFOX9kyR4X"
      }
    },
    {
      "cell_type": "markdown",
      "source": [
        "Now let’s have a look at the distribution of reach from different sources:"
      ],
      "metadata": {
        "id": "_ZzeyRPjzTA_"
      }
    },
    {
      "cell_type": "code",
      "source": [
        "reach_sources = ['From Home', 'From Hashtags', 'From Explore', 'From Other']\n",
        "reach_counts = [data[source].sum() for source in reach_sources]\n",
        "\n",
        "colors = ['#FFB6C1', '#87CEFA', '#90EE90', '#FFDAB9']\n",
        "\n",
        "fig = px.pie(data_frame=data, names=reach_sources,\n",
        "             values=reach_counts,\n",
        "             title='Reach from Different Sources',\n",
        "             color_discrete_sequence=colors)\n",
        "fig.show()"
      ],
      "metadata": {
        "colab": {
          "base_uri": "https://localhost:8080/",
          "height": 542
        },
        "id": "ZN0JLmufrWO8",
        "outputId": "ccff8f1d-239d-4484-f6cc-86e2378107ec"
      },
      "execution_count": 13,
      "outputs": [
        {
          "output_type": "display_data",
          "data": {
            "text/html": [
              "<html>\n",
              "<head><meta charset=\"utf-8\" /></head>\n",
              "<body>\n",
              "    <div>            <script src=\"https://cdnjs.cloudflare.com/ajax/libs/mathjax/2.7.5/MathJax.js?config=TeX-AMS-MML_SVG\"></script><script type=\"text/javascript\">if (window.MathJax && window.MathJax.Hub && window.MathJax.Hub.Config) {window.MathJax.Hub.Config({SVG: {font: \"STIX-Web\"}});}</script>                <script type=\"text/javascript\">window.PlotlyConfig = {MathJaxConfig: 'local'};</script>\n",
              "        <script charset=\"utf-8\" src=\"https://cdn.plot.ly/plotly-2.35.2.min.js\"></script>                <div id=\"10a65483-341f-4857-9d9a-8a98fe3b7249\" class=\"plotly-graph-div\" style=\"height:525px; width:100%;\"></div>            <script type=\"text/javascript\">                                    window.PLOTLYENV=window.PLOTLYENV || {};                                    if (document.getElementById(\"10a65483-341f-4857-9d9a-8a98fe3b7249\")) {                    Plotly.newPlot(                        \"10a65483-341f-4857-9d9a-8a98fe3b7249\",                        [{\"domain\":{\"x\":[0.0,1.0],\"y\":[0.0,1.0]},\"hovertemplate\":\"label=%{label}\\u003cbr\\u003evalue=%{value}\\u003cextra\\u003e\\u003c\\u002fextra\\u003e\",\"labels\":[\"From Home\",\"From Hashtags\",\"From Explore\",\"From Other\"],\"legendgroup\":\"\",\"name\":\"\",\"showlegend\":true,\"values\":[294619,224614,128294,20360],\"type\":\"pie\"}],                        {\"template\":{\"data\":{\"histogram2dcontour\":[{\"type\":\"histogram2dcontour\",\"colorbar\":{\"outlinewidth\":0,\"ticks\":\"\"},\"colorscale\":[[0.0,\"#0d0887\"],[0.1111111111111111,\"#46039f\"],[0.2222222222222222,\"#7201a8\"],[0.3333333333333333,\"#9c179e\"],[0.4444444444444444,\"#bd3786\"],[0.5555555555555556,\"#d8576b\"],[0.6666666666666666,\"#ed7953\"],[0.7777777777777778,\"#fb9f3a\"],[0.8888888888888888,\"#fdca26\"],[1.0,\"#f0f921\"]]}],\"choropleth\":[{\"type\":\"choropleth\",\"colorbar\":{\"outlinewidth\":0,\"ticks\":\"\"}}],\"histogram2d\":[{\"type\":\"histogram2d\",\"colorbar\":{\"outlinewidth\":0,\"ticks\":\"\"},\"colorscale\":[[0.0,\"#0d0887\"],[0.1111111111111111,\"#46039f\"],[0.2222222222222222,\"#7201a8\"],[0.3333333333333333,\"#9c179e\"],[0.4444444444444444,\"#bd3786\"],[0.5555555555555556,\"#d8576b\"],[0.6666666666666666,\"#ed7953\"],[0.7777777777777778,\"#fb9f3a\"],[0.8888888888888888,\"#fdca26\"],[1.0,\"#f0f921\"]]}],\"heatmap\":[{\"type\":\"heatmap\",\"colorbar\":{\"outlinewidth\":0,\"ticks\":\"\"},\"colorscale\":[[0.0,\"#0d0887\"],[0.1111111111111111,\"#46039f\"],[0.2222222222222222,\"#7201a8\"],[0.3333333333333333,\"#9c179e\"],[0.4444444444444444,\"#bd3786\"],[0.5555555555555556,\"#d8576b\"],[0.6666666666666666,\"#ed7953\"],[0.7777777777777778,\"#fb9f3a\"],[0.8888888888888888,\"#fdca26\"],[1.0,\"#f0f921\"]]}],\"heatmapgl\":[{\"type\":\"heatmapgl\",\"colorbar\":{\"outlinewidth\":0,\"ticks\":\"\"},\"colorscale\":[[0.0,\"#0d0887\"],[0.1111111111111111,\"#46039f\"],[0.2222222222222222,\"#7201a8\"],[0.3333333333333333,\"#9c179e\"],[0.4444444444444444,\"#bd3786\"],[0.5555555555555556,\"#d8576b\"],[0.6666666666666666,\"#ed7953\"],[0.7777777777777778,\"#fb9f3a\"],[0.8888888888888888,\"#fdca26\"],[1.0,\"#f0f921\"]]}],\"contourcarpet\":[{\"type\":\"contourcarpet\",\"colorbar\":{\"outlinewidth\":0,\"ticks\":\"\"}}],\"contour\":[{\"type\":\"contour\",\"colorbar\":{\"outlinewidth\":0,\"ticks\":\"\"},\"colorscale\":[[0.0,\"#0d0887\"],[0.1111111111111111,\"#46039f\"],[0.2222222222222222,\"#7201a8\"],[0.3333333333333333,\"#9c179e\"],[0.4444444444444444,\"#bd3786\"],[0.5555555555555556,\"#d8576b\"],[0.6666666666666666,\"#ed7953\"],[0.7777777777777778,\"#fb9f3a\"],[0.8888888888888888,\"#fdca26\"],[1.0,\"#f0f921\"]]}],\"surface\":[{\"type\":\"surface\",\"colorbar\":{\"outlinewidth\":0,\"ticks\":\"\"},\"colorscale\":[[0.0,\"#0d0887\"],[0.1111111111111111,\"#46039f\"],[0.2222222222222222,\"#7201a8\"],[0.3333333333333333,\"#9c179e\"],[0.4444444444444444,\"#bd3786\"],[0.5555555555555556,\"#d8576b\"],[0.6666666666666666,\"#ed7953\"],[0.7777777777777778,\"#fb9f3a\"],[0.8888888888888888,\"#fdca26\"],[1.0,\"#f0f921\"]]}],\"mesh3d\":[{\"type\":\"mesh3d\",\"colorbar\":{\"outlinewidth\":0,\"ticks\":\"\"}}],\"scatter\":[{\"fillpattern\":{\"fillmode\":\"overlay\",\"size\":10,\"solidity\":0.2},\"type\":\"scatter\"}],\"parcoords\":[{\"type\":\"parcoords\",\"line\":{\"colorbar\":{\"outlinewidth\":0,\"ticks\":\"\"}}}],\"scatterpolargl\":[{\"type\":\"scatterpolargl\",\"marker\":{\"colorbar\":{\"outlinewidth\":0,\"ticks\":\"\"}}}],\"bar\":[{\"error_x\":{\"color\":\"#2a3f5f\"},\"error_y\":{\"color\":\"#2a3f5f\"},\"marker\":{\"line\":{\"color\":\"white\",\"width\":0.5},\"pattern\":{\"fillmode\":\"overlay\",\"size\":10,\"solidity\":0.2}},\"type\":\"bar\"}],\"scattergeo\":[{\"type\":\"scattergeo\",\"marker\":{\"colorbar\":{\"outlinewidth\":0,\"ticks\":\"\"}}}],\"scatterpolar\":[{\"type\":\"scatterpolar\",\"marker\":{\"colorbar\":{\"outlinewidth\":0,\"ticks\":\"\"}}}],\"histogram\":[{\"marker\":{\"pattern\":{\"fillmode\":\"overlay\",\"size\":10,\"solidity\":0.2}},\"type\":\"histogram\"}],\"scattergl\":[{\"type\":\"scattergl\",\"marker\":{\"colorbar\":{\"outlinewidth\":0,\"ticks\":\"\"}}}],\"scatter3d\":[{\"type\":\"scatter3d\",\"line\":{\"colorbar\":{\"outlinewidth\":0,\"ticks\":\"\"}},\"marker\":{\"colorbar\":{\"outlinewidth\":0,\"ticks\":\"\"}}}],\"scattermapbox\":[{\"type\":\"scattermapbox\",\"marker\":{\"colorbar\":{\"outlinewidth\":0,\"ticks\":\"\"}}}],\"scatterternary\":[{\"type\":\"scatterternary\",\"marker\":{\"colorbar\":{\"outlinewidth\":0,\"ticks\":\"\"}}}],\"scattercarpet\":[{\"type\":\"scattercarpet\",\"marker\":{\"colorbar\":{\"outlinewidth\":0,\"ticks\":\"\"}}}],\"carpet\":[{\"aaxis\":{\"endlinecolor\":\"#2a3f5f\",\"gridcolor\":\"#C8D4E3\",\"linecolor\":\"#C8D4E3\",\"minorgridcolor\":\"#C8D4E3\",\"startlinecolor\":\"#2a3f5f\"},\"baxis\":{\"endlinecolor\":\"#2a3f5f\",\"gridcolor\":\"#C8D4E3\",\"linecolor\":\"#C8D4E3\",\"minorgridcolor\":\"#C8D4E3\",\"startlinecolor\":\"#2a3f5f\"},\"type\":\"carpet\"}],\"table\":[{\"cells\":{\"fill\":{\"color\":\"#EBF0F8\"},\"line\":{\"color\":\"white\"}},\"header\":{\"fill\":{\"color\":\"#C8D4E3\"},\"line\":{\"color\":\"white\"}},\"type\":\"table\"}],\"barpolar\":[{\"marker\":{\"line\":{\"color\":\"white\",\"width\":0.5},\"pattern\":{\"fillmode\":\"overlay\",\"size\":10,\"solidity\":0.2}},\"type\":\"barpolar\"}],\"pie\":[{\"automargin\":true,\"type\":\"pie\"}]},\"layout\":{\"autotypenumbers\":\"strict\",\"colorway\":[\"#636efa\",\"#EF553B\",\"#00cc96\",\"#ab63fa\",\"#FFA15A\",\"#19d3f3\",\"#FF6692\",\"#B6E880\",\"#FF97FF\",\"#FECB52\"],\"font\":{\"color\":\"#2a3f5f\"},\"hovermode\":\"closest\",\"hoverlabel\":{\"align\":\"left\"},\"paper_bgcolor\":\"white\",\"plot_bgcolor\":\"white\",\"polar\":{\"bgcolor\":\"white\",\"angularaxis\":{\"gridcolor\":\"#EBF0F8\",\"linecolor\":\"#EBF0F8\",\"ticks\":\"\"},\"radialaxis\":{\"gridcolor\":\"#EBF0F8\",\"linecolor\":\"#EBF0F8\",\"ticks\":\"\"}},\"ternary\":{\"bgcolor\":\"white\",\"aaxis\":{\"gridcolor\":\"#DFE8F3\",\"linecolor\":\"#A2B1C6\",\"ticks\":\"\"},\"baxis\":{\"gridcolor\":\"#DFE8F3\",\"linecolor\":\"#A2B1C6\",\"ticks\":\"\"},\"caxis\":{\"gridcolor\":\"#DFE8F3\",\"linecolor\":\"#A2B1C6\",\"ticks\":\"\"}},\"coloraxis\":{\"colorbar\":{\"outlinewidth\":0,\"ticks\":\"\"}},\"colorscale\":{\"sequential\":[[0.0,\"#0d0887\"],[0.1111111111111111,\"#46039f\"],[0.2222222222222222,\"#7201a8\"],[0.3333333333333333,\"#9c179e\"],[0.4444444444444444,\"#bd3786\"],[0.5555555555555556,\"#d8576b\"],[0.6666666666666666,\"#ed7953\"],[0.7777777777777778,\"#fb9f3a\"],[0.8888888888888888,\"#fdca26\"],[1.0,\"#f0f921\"]],\"sequentialminus\":[[0.0,\"#0d0887\"],[0.1111111111111111,\"#46039f\"],[0.2222222222222222,\"#7201a8\"],[0.3333333333333333,\"#9c179e\"],[0.4444444444444444,\"#bd3786\"],[0.5555555555555556,\"#d8576b\"],[0.6666666666666666,\"#ed7953\"],[0.7777777777777778,\"#fb9f3a\"],[0.8888888888888888,\"#fdca26\"],[1.0,\"#f0f921\"]],\"diverging\":[[0,\"#8e0152\"],[0.1,\"#c51b7d\"],[0.2,\"#de77ae\"],[0.3,\"#f1b6da\"],[0.4,\"#fde0ef\"],[0.5,\"#f7f7f7\"],[0.6,\"#e6f5d0\"],[0.7,\"#b8e186\"],[0.8,\"#7fbc41\"],[0.9,\"#4d9221\"],[1,\"#276419\"]]},\"xaxis\":{\"gridcolor\":\"#EBF0F8\",\"linecolor\":\"#EBF0F8\",\"ticks\":\"\",\"title\":{\"standoff\":15},\"zerolinecolor\":\"#EBF0F8\",\"automargin\":true,\"zerolinewidth\":2},\"yaxis\":{\"gridcolor\":\"#EBF0F8\",\"linecolor\":\"#EBF0F8\",\"ticks\":\"\",\"title\":{\"standoff\":15},\"zerolinecolor\":\"#EBF0F8\",\"automargin\":true,\"zerolinewidth\":2},\"scene\":{\"xaxis\":{\"backgroundcolor\":\"white\",\"gridcolor\":\"#DFE8F3\",\"linecolor\":\"#EBF0F8\",\"showbackground\":true,\"ticks\":\"\",\"zerolinecolor\":\"#EBF0F8\",\"gridwidth\":2},\"yaxis\":{\"backgroundcolor\":\"white\",\"gridcolor\":\"#DFE8F3\",\"linecolor\":\"#EBF0F8\",\"showbackground\":true,\"ticks\":\"\",\"zerolinecolor\":\"#EBF0F8\",\"gridwidth\":2},\"zaxis\":{\"backgroundcolor\":\"white\",\"gridcolor\":\"#DFE8F3\",\"linecolor\":\"#EBF0F8\",\"showbackground\":true,\"ticks\":\"\",\"zerolinecolor\":\"#EBF0F8\",\"gridwidth\":2}},\"shapedefaults\":{\"line\":{\"color\":\"#2a3f5f\"}},\"annotationdefaults\":{\"arrowcolor\":\"#2a3f5f\",\"arrowhead\":0,\"arrowwidth\":1},\"geo\":{\"bgcolor\":\"white\",\"landcolor\":\"white\",\"subunitcolor\":\"#C8D4E3\",\"showland\":true,\"showlakes\":true,\"lakecolor\":\"white\"},\"title\":{\"x\":0.05},\"mapbox\":{\"style\":\"light\"}}},\"legend\":{\"tracegroupgap\":0},\"title\":{\"text\":\"Reach from Different Sources\"},\"piecolorway\":[\"#FFB6C1\",\"#87CEFA\",\"#90EE90\",\"#FFDAB9\"]},                        {\"responsive\": true}                    ).then(function(){\n",
              "                            \n",
              "var gd = document.getElementById('10a65483-341f-4857-9d9a-8a98fe3b7249');\n",
              "var x = new MutationObserver(function (mutations, observer) {{\n",
              "        var display = window.getComputedStyle(gd).display;\n",
              "        if (!display || display === 'none') {{\n",
              "            console.log([gd, 'removed!']);\n",
              "            Plotly.purge(gd);\n",
              "            observer.disconnect();\n",
              "        }}\n",
              "}});\n",
              "\n",
              "// Listen for the removal of the full notebook cells\n",
              "var notebookContainer = gd.closest('#notebook-container');\n",
              "if (notebookContainer) {{\n",
              "    x.observe(notebookContainer, {childList: true});\n",
              "}}\n",
              "\n",
              "// Listen for the clearing of the current output cell\n",
              "var outputEl = gd.closest('.output');\n",
              "if (outputEl) {{\n",
              "    x.observe(outputEl, {childList: true});\n",
              "}}\n",
              "\n",
              "                        })                };                            </script>        </div>\n",
              "</body>\n",
              "</html>"
            ]
          },
          "metadata": {}
        }
      ]
    },
    {
      "cell_type": "markdown",
      "source": [
        "this code takes Instagram reach data, calculates the total reach for each source, and then uses Plotly to generate a visually appealing pie chart showing the distribution of reach across different sources."
      ],
      "metadata": {
        "id": "KbpOdQ9d0Why"
      }
    },
    {
      "cell_type": "markdown",
      "source": [
        " let’s have a look at the relationship between the number of profile visits and follows\n",
        ""
      ],
      "metadata": {
        "id": "H5P129Yj0-lp"
      }
    },
    {
      "cell_type": "code",
      "source": [
        "fig = px.scatter(data,\n",
        "                 x='Profile Visits',\n",
        "                 y='Follows',\n",
        "                 trendline = 'ols',\n",
        "                 title='Profile Visits vs. Follows')\n",
        "fig.show()"
      ],
      "metadata": {
        "colab": {
          "base_uri": "https://localhost:8080/",
          "height": 542
        },
        "id": "Axj_ysQMreU8",
        "outputId": "8b797252-07fb-406e-ddcb-a6b480a931c7"
      },
      "execution_count": 14,
      "outputs": [
        {
          "output_type": "display_data",
          "data": {
            "text/html": [
              "<html>\n",
              "<head><meta charset=\"utf-8\" /></head>\n",
              "<body>\n",
              "    <div>            <script src=\"https://cdnjs.cloudflare.com/ajax/libs/mathjax/2.7.5/MathJax.js?config=TeX-AMS-MML_SVG\"></script><script type=\"text/javascript\">if (window.MathJax && window.MathJax.Hub && window.MathJax.Hub.Config) {window.MathJax.Hub.Config({SVG: {font: \"STIX-Web\"}});}</script>                <script type=\"text/javascript\">window.PlotlyConfig = {MathJaxConfig: 'local'};</script>\n",
              "        <script charset=\"utf-8\" src=\"https://cdn.plot.ly/plotly-2.35.2.min.js\"></script>                <div id=\"43773fce-b7f5-4d6f-a1ef-09422acd94e6\" class=\"plotly-graph-div\" style=\"height:525px; width:100%;\"></div>            <script type=\"text/javascript\">                                    window.PLOTLYENV=window.PLOTLYENV || {};                                    if (document.getElementById(\"43773fce-b7f5-4d6f-a1ef-09422acd94e6\")) {                    Plotly.newPlot(                        \"43773fce-b7f5-4d6f-a1ef-09422acd94e6\",                        [{\"hovertemplate\":\"Profile Visits=%{x}\\u003cbr\\u003eFollows=%{y}\\u003cextra\\u003e\\u003c\\u002fextra\\u003e\",\"legendgroup\":\"\",\"marker\":{\"color\":\"#636efa\",\"symbol\":\"circle\"},\"mode\":\"markers\",\"name\":\"\",\"orientation\":\"v\",\"showlegend\":false,\"x\":[35,48,62,23,8,9,26,12,36,31,29,15,8,20,181,17,16,21,77,10,9,11,144,14,10,19,69,11,19,9,57,13,11,24,81,4,7,14,18,8,330,21,19,32,19,21,14,30,39,42,31,20,12,22,306,13,26,16,15,15,39,21,8,45,50,37,25,347,26,48,16,26,17,52,22,41,155,12,22,20,23,25,17,16,21,77,10,14,30,39,42,31,14,10,19,69,11,19,9,38,42,92,75,21,26,39,74,467,24,70,22,46,61,237,73,20,34,148,611],\"xaxis\":\"x\",\"y\":[2,10,12,8,0,2,0,6,4,6,4,0,2,4,42,6,2,2,30,0,0,24,100,2,4,6,6,6,2,2,20,2,4,8,26,2,2,4,0,2,94,8,18,10,4,4,4,4,18,38,10,12,4,4,74,0,6,6,0,6,12,10,8,8,46,12,10,94,6,10,6,4,12,16,12,8,32,8,16,6,10,10,6,2,2,30,0,4,4,18,38,10,2,4,6,6,6,2,2,14,8,14,28,18,12,34,26,260,16,96,20,30,58,100,80,18,10,214,228],\"yaxis\":\"y\",\"type\":\"scatter\"},{\"hovertemplate\":\"\\u003cb\\u003eOLS trendline\\u003c\\u002fb\\u003e\\u003cbr\\u003eFollows = 0.400884 * Profile Visits + 0.46283\\u003cbr\\u003eR\\u003csup\\u003e2\\u003c\\u002fsup\\u003e=0.727868\\u003cbr\\u003e\\u003cbr\\u003eProfile Visits=%{x}\\u003cbr\\u003eFollows=%{y} \\u003cb\\u003e(trend)\\u003c\\u002fb\\u003e\\u003cextra\\u003e\\u003c\\u002fextra\\u003e\",\"legendgroup\":\"\",\"marker\":{\"color\":\"#636efa\",\"symbol\":\"circle\"},\"mode\":\"lines\",\"name\":\"\",\"showlegend\":false,\"x\":[4,7,8,8,8,8,9,9,9,9,10,10,10,10,11,11,11,11,12,12,12,13,13,14,14,14,14,14,15,15,15,16,16,16,16,17,17,17,18,19,19,19,19,19,19,20,20,20,20,21,21,21,21,21,21,22,22,22,22,23,23,24,24,25,25,26,26,26,26,26,29,30,30,31,31,31,32,34,35,36,37,38,39,39,39,39,41,42,42,42,45,46,48,48,50,52,57,61,62,69,69,70,73,74,75,77,77,81,92,144,148,155,181,237,306,330,347,467,611],\"xaxis\":\"x\",\"y\":[2.066365070422533,3.269016056338026,3.669899718309857,3.669899718309857,3.669899718309857,3.669899718309857,4.0707833802816875,4.0707833802816875,4.0707833802816875,4.0707833802816875,4.471667042253519,4.471667042253519,4.471667042253519,4.471667042253519,4.87255070422535,4.87255070422535,4.87255070422535,4.87255070422535,5.273434366197181,5.273434366197181,5.273434366197181,5.6743180281690115,5.6743180281690115,6.075201690140843,6.075201690140843,6.075201690140843,6.075201690140843,6.075201690140843,6.476085352112674,6.476085352112674,6.476085352112674,6.876969014084505,6.876969014084505,6.876969014084505,6.876969014084505,7.277852676056336,7.277852676056336,7.277852676056336,7.678736338028167,8.079619999999998,8.079619999999998,8.079619999999998,8.079619999999998,8.079619999999998,8.079619999999998,8.480503661971829,8.480503661971829,8.480503661971829,8.480503661971829,8.88138732394366,8.88138732394366,8.88138732394366,8.88138732394366,8.88138732394366,8.88138732394366,9.282270985915492,9.282270985915492,9.282270985915492,9.282270985915492,9.683154647887322,9.683154647887322,10.084038309859153,10.084038309859153,10.484921971830984,10.484921971830984,10.885805633802814,10.885805633802814,10.885805633802814,10.885805633802814,10.885805633802814,12.088456619718308,12.48934028169014,12.48934028169014,12.89022394366197,12.89022394366197,12.89022394366197,13.291107605633801,14.092874929577462,14.493758591549295,14.894642253521125,15.295525915492956,15.696409577464788,16.097293239436617,16.097293239436617,16.097293239436617,16.097293239436617,16.89906056338028,17.29994422535211,17.29994422535211,17.29994422535211,18.502595211267604,18.903478873239436,19.705246197183097,19.705246197183097,20.50701352112676,21.30878084507042,23.313199154929578,24.9167338028169,25.317617464788732,28.123803098591548,28.123803098591548,28.52468676056338,29.727337746478874,30.128221408450703,30.529105070422535,31.330872394366196,31.330872394366196,32.934407042253525,37.34412732394367,58.19007774647888,59.79361239436619,62.59979802816902,73.02277323943662,95.47225830985916,123.13323098591549,132.75443887323945,139.56946112676056,187.6755005633803,245.40274788732395],\"yaxis\":\"y\",\"type\":\"scatter\"}],                        {\"template\":{\"data\":{\"histogram2dcontour\":[{\"type\":\"histogram2dcontour\",\"colorbar\":{\"outlinewidth\":0,\"ticks\":\"\"},\"colorscale\":[[0.0,\"#0d0887\"],[0.1111111111111111,\"#46039f\"],[0.2222222222222222,\"#7201a8\"],[0.3333333333333333,\"#9c179e\"],[0.4444444444444444,\"#bd3786\"],[0.5555555555555556,\"#d8576b\"],[0.6666666666666666,\"#ed7953\"],[0.7777777777777778,\"#fb9f3a\"],[0.8888888888888888,\"#fdca26\"],[1.0,\"#f0f921\"]]}],\"choropleth\":[{\"type\":\"choropleth\",\"colorbar\":{\"outlinewidth\":0,\"ticks\":\"\"}}],\"histogram2d\":[{\"type\":\"histogram2d\",\"colorbar\":{\"outlinewidth\":0,\"ticks\":\"\"},\"colorscale\":[[0.0,\"#0d0887\"],[0.1111111111111111,\"#46039f\"],[0.2222222222222222,\"#7201a8\"],[0.3333333333333333,\"#9c179e\"],[0.4444444444444444,\"#bd3786\"],[0.5555555555555556,\"#d8576b\"],[0.6666666666666666,\"#ed7953\"],[0.7777777777777778,\"#fb9f3a\"],[0.8888888888888888,\"#fdca26\"],[1.0,\"#f0f921\"]]}],\"heatmap\":[{\"type\":\"heatmap\",\"colorbar\":{\"outlinewidth\":0,\"ticks\":\"\"},\"colorscale\":[[0.0,\"#0d0887\"],[0.1111111111111111,\"#46039f\"],[0.2222222222222222,\"#7201a8\"],[0.3333333333333333,\"#9c179e\"],[0.4444444444444444,\"#bd3786\"],[0.5555555555555556,\"#d8576b\"],[0.6666666666666666,\"#ed7953\"],[0.7777777777777778,\"#fb9f3a\"],[0.8888888888888888,\"#fdca26\"],[1.0,\"#f0f921\"]]}],\"heatmapgl\":[{\"type\":\"heatmapgl\",\"colorbar\":{\"outlinewidth\":0,\"ticks\":\"\"},\"colorscale\":[[0.0,\"#0d0887\"],[0.1111111111111111,\"#46039f\"],[0.2222222222222222,\"#7201a8\"],[0.3333333333333333,\"#9c179e\"],[0.4444444444444444,\"#bd3786\"],[0.5555555555555556,\"#d8576b\"],[0.6666666666666666,\"#ed7953\"],[0.7777777777777778,\"#fb9f3a\"],[0.8888888888888888,\"#fdca26\"],[1.0,\"#f0f921\"]]}],\"contourcarpet\":[{\"type\":\"contourcarpet\",\"colorbar\":{\"outlinewidth\":0,\"ticks\":\"\"}}],\"contour\":[{\"type\":\"contour\",\"colorbar\":{\"outlinewidth\":0,\"ticks\":\"\"},\"colorscale\":[[0.0,\"#0d0887\"],[0.1111111111111111,\"#46039f\"],[0.2222222222222222,\"#7201a8\"],[0.3333333333333333,\"#9c179e\"],[0.4444444444444444,\"#bd3786\"],[0.5555555555555556,\"#d8576b\"],[0.6666666666666666,\"#ed7953\"],[0.7777777777777778,\"#fb9f3a\"],[0.8888888888888888,\"#fdca26\"],[1.0,\"#f0f921\"]]}],\"surface\":[{\"type\":\"surface\",\"colorbar\":{\"outlinewidth\":0,\"ticks\":\"\"},\"colorscale\":[[0.0,\"#0d0887\"],[0.1111111111111111,\"#46039f\"],[0.2222222222222222,\"#7201a8\"],[0.3333333333333333,\"#9c179e\"],[0.4444444444444444,\"#bd3786\"],[0.5555555555555556,\"#d8576b\"],[0.6666666666666666,\"#ed7953\"],[0.7777777777777778,\"#fb9f3a\"],[0.8888888888888888,\"#fdca26\"],[1.0,\"#f0f921\"]]}],\"mesh3d\":[{\"type\":\"mesh3d\",\"colorbar\":{\"outlinewidth\":0,\"ticks\":\"\"}}],\"scatter\":[{\"fillpattern\":{\"fillmode\":\"overlay\",\"size\":10,\"solidity\":0.2},\"type\":\"scatter\"}],\"parcoords\":[{\"type\":\"parcoords\",\"line\":{\"colorbar\":{\"outlinewidth\":0,\"ticks\":\"\"}}}],\"scatterpolargl\":[{\"type\":\"scatterpolargl\",\"marker\":{\"colorbar\":{\"outlinewidth\":0,\"ticks\":\"\"}}}],\"bar\":[{\"error_x\":{\"color\":\"#2a3f5f\"},\"error_y\":{\"color\":\"#2a3f5f\"},\"marker\":{\"line\":{\"color\":\"white\",\"width\":0.5},\"pattern\":{\"fillmode\":\"overlay\",\"size\":10,\"solidity\":0.2}},\"type\":\"bar\"}],\"scattergeo\":[{\"type\":\"scattergeo\",\"marker\":{\"colorbar\":{\"outlinewidth\":0,\"ticks\":\"\"}}}],\"scatterpolar\":[{\"type\":\"scatterpolar\",\"marker\":{\"colorbar\":{\"outlinewidth\":0,\"ticks\":\"\"}}}],\"histogram\":[{\"marker\":{\"pattern\":{\"fillmode\":\"overlay\",\"size\":10,\"solidity\":0.2}},\"type\":\"histogram\"}],\"scattergl\":[{\"type\":\"scattergl\",\"marker\":{\"colorbar\":{\"outlinewidth\":0,\"ticks\":\"\"}}}],\"scatter3d\":[{\"type\":\"scatter3d\",\"line\":{\"colorbar\":{\"outlinewidth\":0,\"ticks\":\"\"}},\"marker\":{\"colorbar\":{\"outlinewidth\":0,\"ticks\":\"\"}}}],\"scattermapbox\":[{\"type\":\"scattermapbox\",\"marker\":{\"colorbar\":{\"outlinewidth\":0,\"ticks\":\"\"}}}],\"scatterternary\":[{\"type\":\"scatterternary\",\"marker\":{\"colorbar\":{\"outlinewidth\":0,\"ticks\":\"\"}}}],\"scattercarpet\":[{\"type\":\"scattercarpet\",\"marker\":{\"colorbar\":{\"outlinewidth\":0,\"ticks\":\"\"}}}],\"carpet\":[{\"aaxis\":{\"endlinecolor\":\"#2a3f5f\",\"gridcolor\":\"#C8D4E3\",\"linecolor\":\"#C8D4E3\",\"minorgridcolor\":\"#C8D4E3\",\"startlinecolor\":\"#2a3f5f\"},\"baxis\":{\"endlinecolor\":\"#2a3f5f\",\"gridcolor\":\"#C8D4E3\",\"linecolor\":\"#C8D4E3\",\"minorgridcolor\":\"#C8D4E3\",\"startlinecolor\":\"#2a3f5f\"},\"type\":\"carpet\"}],\"table\":[{\"cells\":{\"fill\":{\"color\":\"#EBF0F8\"},\"line\":{\"color\":\"white\"}},\"header\":{\"fill\":{\"color\":\"#C8D4E3\"},\"line\":{\"color\":\"white\"}},\"type\":\"table\"}],\"barpolar\":[{\"marker\":{\"line\":{\"color\":\"white\",\"width\":0.5},\"pattern\":{\"fillmode\":\"overlay\",\"size\":10,\"solidity\":0.2}},\"type\":\"barpolar\"}],\"pie\":[{\"automargin\":true,\"type\":\"pie\"}]},\"layout\":{\"autotypenumbers\":\"strict\",\"colorway\":[\"#636efa\",\"#EF553B\",\"#00cc96\",\"#ab63fa\",\"#FFA15A\",\"#19d3f3\",\"#FF6692\",\"#B6E880\",\"#FF97FF\",\"#FECB52\"],\"font\":{\"color\":\"#2a3f5f\"},\"hovermode\":\"closest\",\"hoverlabel\":{\"align\":\"left\"},\"paper_bgcolor\":\"white\",\"plot_bgcolor\":\"white\",\"polar\":{\"bgcolor\":\"white\",\"angularaxis\":{\"gridcolor\":\"#EBF0F8\",\"linecolor\":\"#EBF0F8\",\"ticks\":\"\"},\"radialaxis\":{\"gridcolor\":\"#EBF0F8\",\"linecolor\":\"#EBF0F8\",\"ticks\":\"\"}},\"ternary\":{\"bgcolor\":\"white\",\"aaxis\":{\"gridcolor\":\"#DFE8F3\",\"linecolor\":\"#A2B1C6\",\"ticks\":\"\"},\"baxis\":{\"gridcolor\":\"#DFE8F3\",\"linecolor\":\"#A2B1C6\",\"ticks\":\"\"},\"caxis\":{\"gridcolor\":\"#DFE8F3\",\"linecolor\":\"#A2B1C6\",\"ticks\":\"\"}},\"coloraxis\":{\"colorbar\":{\"outlinewidth\":0,\"ticks\":\"\"}},\"colorscale\":{\"sequential\":[[0.0,\"#0d0887\"],[0.1111111111111111,\"#46039f\"],[0.2222222222222222,\"#7201a8\"],[0.3333333333333333,\"#9c179e\"],[0.4444444444444444,\"#bd3786\"],[0.5555555555555556,\"#d8576b\"],[0.6666666666666666,\"#ed7953\"],[0.7777777777777778,\"#fb9f3a\"],[0.8888888888888888,\"#fdca26\"],[1.0,\"#f0f921\"]],\"sequentialminus\":[[0.0,\"#0d0887\"],[0.1111111111111111,\"#46039f\"],[0.2222222222222222,\"#7201a8\"],[0.3333333333333333,\"#9c179e\"],[0.4444444444444444,\"#bd3786\"],[0.5555555555555556,\"#d8576b\"],[0.6666666666666666,\"#ed7953\"],[0.7777777777777778,\"#fb9f3a\"],[0.8888888888888888,\"#fdca26\"],[1.0,\"#f0f921\"]],\"diverging\":[[0,\"#8e0152\"],[0.1,\"#c51b7d\"],[0.2,\"#de77ae\"],[0.3,\"#f1b6da\"],[0.4,\"#fde0ef\"],[0.5,\"#f7f7f7\"],[0.6,\"#e6f5d0\"],[0.7,\"#b8e186\"],[0.8,\"#7fbc41\"],[0.9,\"#4d9221\"],[1,\"#276419\"]]},\"xaxis\":{\"gridcolor\":\"#EBF0F8\",\"linecolor\":\"#EBF0F8\",\"ticks\":\"\",\"title\":{\"standoff\":15},\"zerolinecolor\":\"#EBF0F8\",\"automargin\":true,\"zerolinewidth\":2},\"yaxis\":{\"gridcolor\":\"#EBF0F8\",\"linecolor\":\"#EBF0F8\",\"ticks\":\"\",\"title\":{\"standoff\":15},\"zerolinecolor\":\"#EBF0F8\",\"automargin\":true,\"zerolinewidth\":2},\"scene\":{\"xaxis\":{\"backgroundcolor\":\"white\",\"gridcolor\":\"#DFE8F3\",\"linecolor\":\"#EBF0F8\",\"showbackground\":true,\"ticks\":\"\",\"zerolinecolor\":\"#EBF0F8\",\"gridwidth\":2},\"yaxis\":{\"backgroundcolor\":\"white\",\"gridcolor\":\"#DFE8F3\",\"linecolor\":\"#EBF0F8\",\"showbackground\":true,\"ticks\":\"\",\"zerolinecolor\":\"#EBF0F8\",\"gridwidth\":2},\"zaxis\":{\"backgroundcolor\":\"white\",\"gridcolor\":\"#DFE8F3\",\"linecolor\":\"#EBF0F8\",\"showbackground\":true,\"ticks\":\"\",\"zerolinecolor\":\"#EBF0F8\",\"gridwidth\":2}},\"shapedefaults\":{\"line\":{\"color\":\"#2a3f5f\"}},\"annotationdefaults\":{\"arrowcolor\":\"#2a3f5f\",\"arrowhead\":0,\"arrowwidth\":1},\"geo\":{\"bgcolor\":\"white\",\"landcolor\":\"white\",\"subunitcolor\":\"#C8D4E3\",\"showland\":true,\"showlakes\":true,\"lakecolor\":\"white\"},\"title\":{\"x\":0.05},\"mapbox\":{\"style\":\"light\"}}},\"xaxis\":{\"anchor\":\"y\",\"domain\":[0.0,1.0],\"title\":{\"text\":\"Profile Visits\"}},\"yaxis\":{\"anchor\":\"x\",\"domain\":[0.0,1.0],\"title\":{\"text\":\"Follows\"}},\"legend\":{\"tracegroupgap\":0},\"title\":{\"text\":\"Profile Visits vs. Follows\"}},                        {\"responsive\": true}                    ).then(function(){\n",
              "                            \n",
              "var gd = document.getElementById('43773fce-b7f5-4d6f-a1ef-09422acd94e6');\n",
              "var x = new MutationObserver(function (mutations, observer) {{\n",
              "        var display = window.getComputedStyle(gd).display;\n",
              "        if (!display || display === 'none') {{\n",
              "            console.log([gd, 'removed!']);\n",
              "            Plotly.purge(gd);\n",
              "            observer.disconnect();\n",
              "        }}\n",
              "}});\n",
              "\n",
              "// Listen for the removal of the full notebook cells\n",
              "var notebookContainer = gd.closest('#notebook-container');\n",
              "if (notebookContainer) {{\n",
              "    x.observe(notebookContainer, {childList: true});\n",
              "}}\n",
              "\n",
              "// Listen for the clearing of the current output cell\n",
              "var outputEl = gd.closest('.output');\n",
              "if (outputEl) {{\n",
              "    x.observe(outputEl, {childList: true});\n",
              "}}\n",
              "\n",
              "                        })                };                            </script>        </div>\n",
              "</body>\n",
              "</html>"
            ]
          },
          "metadata": {}
        }
      ]
    },
    {
      "cell_type": "markdown",
      "source": [
        "This code takes Instagram data and creates a scatter plot where each point represents a data point with its 'Profile Visits' value on the horizontal axis and 'Follows' value on the vertical axis. It then adds a trendline to this scatter plot to show the general relationship between these two metrics. Finally, it displays the plot to analyze"
      ],
      "metadata": {
        "id": "QBEcrAfw1I5s"
      }
    },
    {
      "cell_type": "markdown",
      "source": [
        "Now let’s have a look at the type of hashtags used in the posts using a wordcloud"
      ],
      "metadata": {
        "id": "ZcRFf_iG1NoK"
      }
    },
    {
      "cell_type": "code",
      "source": [
        "from wordcloud import WordCloud\n",
        "\n",
        "hashtags = ' '.join(data['Hashtags'].astype(str))\n",
        "wordcloud = WordCloud().generate(hashtags)\n",
        "\n",
        "fig = px.imshow(wordcloud, title='Hashtags Word Cloud')\n",
        "fig.show()"
      ],
      "metadata": {
        "colab": {
          "base_uri": "https://localhost:8080/",
          "height": 542
        },
        "id": "n_JD8SPxrp1t",
        "outputId": "77d3670e-4e71-4a19-f46e-a241727fd4dc"
      },
      "execution_count": 15,
      "outputs": [
        {
          "output_type": "display_data",
          "data": {
            "text/html": [
              "<html>\n",
              "<head><meta charset=\"utf-8\" /></head>\n",
              "<body>\n",
              "    <div>            <script src=\"https://cdnjs.cloudflare.com/ajax/libs/mathjax/2.7.5/MathJax.js?config=TeX-AMS-MML_SVG\"></script><script type=\"text/javascript\">if (window.MathJax && window.MathJax.Hub && window.MathJax.Hub.Config) {window.MathJax.Hub.Config({SVG: {font: \"STIX-Web\"}});}</script>                <script type=\"text/javascript\">window.PlotlyConfig = {MathJaxConfig: 'local'};</script>\n",
              "        <script charset=\"utf-8\" src=\"https://cdn.plot.ly/plotly-2.35.2.min.js\"></script>                <div id=\"f743beba-730e-4312-97aa-07cbbede644a\" class=\"plotly-graph-div\" style=\"height:525px; width:100%;\"></div>            <script type=\"text/javascript\">                                    window.PLOTLYENV=window.PLOTLYENV || {};                                    if (document.getElementById(\"f743beba-730e-4312-97aa-07cbbede644a\")) {                    Plotly.newPlot(                        \"f743beba-730e-4312-97aa-07cbbede644a\",                        [{\"name\":\"0\",\"source\":\"data:image\\u002fpng;base64,iVBORw0KGgoAAAANSUhEUgAAAZAAAADICAIAAABJdyC1AACx0klEQVR4XuyddXTcVtbAr1ga5hmPmWPHTuIwU5OUKWXYdtvtdrvFLbdb2Ha7vF1m\\u002frrdcptiypA0DTODk5gZhkn4\\u002fSFHHmtmZGjAaf07OTnSpXff1cyz9PSkARhjjDHGGGOMIYIgqFo0EAQQtQgAABAEHdR3jDFOU4w2Qi0CGPu4n1RwlKJxI46SCIKiCGagHFYmx2saT+EGAMAQnMINOErKuzIYSnhM42jCRONGAJB95TgUpvcYxyU5UrINimA0bsRQgiZMSpwxxji9WHx9tloEgKsFY5xIcq01vBAHgAQf6YnWywMTjRtdhtK24F6vuVoQWT1pi3HBtuBeXmQBwGsajyJ4nmUyiTEHOj91G8t4MWGi3BRuOND5KYAEANmWiYLIMoQlwYdag3sLrNMYwhxmu33R5jgXHJjCGGOMRhgjfuufx3MJUZF4ipg3f1PfbwEAYwPWSQYFlMDo7kidTZffGa6Nsn67Pj\\u002fGBRJCBEMJSRIIjIlxgSjnx1BCHrBESaRwOsGH\\u002fbEWQWQjbI+Zzopy\\u002fkC8nSaMBsqJIAdlRwRBCIyWJDHOh0KJLhyjAvE2dQYjhch2oTqGa+nAzEaurQszGwBAjMRRo07w9Y2JCI5jFgNCkaiOSdQ2ICSBMhRq0Mm7qI7GzEa+y5dsIwu5jh7cYeW7ehEMwywGvtuf3PQYXwdQDNn6fteq51oVyUX3FCbp+0g\\u002fOTLGCSLLVNke3G\\u002fT57N8JJToAgAEEAkkxUC1myzUtkQA8Zgq2oP7ZWHaOF8GuqoUJJE90szUVETW7zCeMRN32RACRwjC9\\u002fw7YiwBAPqZEyWOExMcSGJ87xEyL8uwaHp06z55F6UppqYCJCnZRhYiFMEebWYb2+QI0a371M2P8fXDkUN3N8dVwq\\u002fXHNZdb84747ZStfQk0hbcJ4HUE6mXRysAUA0raUcZWahtKYEkB0+rHRkEjT3w0cLCqTYA4Du6cacNs5oIrxPBMMEf5Dt6xEgstn2\\u002fGGdle661k8jNki0BgCovlBKcsiv7ch09yTayEAQRd9oAQeQI\\u002fRmMiFN+lIeOp8z44KeLDHZKrfh6g2IIiiG9bQm14it8SciYCIET2ZigVowxTHhOBAC+yxdevQUkyf\\u002faRwDQfxKEICD1DY5sYxvb1A6SFF69BQBCH6+XVfIu19Yl+7L1LYqNIgQUBUnqizBkvgJHGQFQCvgl+QpUw+qhvvP7SsaI+zsSJIP9\\u002fIrtKoOv7BnW+Y9Ulsx2qKVjDAcuLvxi6aqmnf6+\\u002fbTfK5VQ3k3+P3kjeVclFI\\u002fNtqZtJQOn+1FuPxT62eLPwr19p6hfkuFWA0HQTJNCCIqdkhUzxZNNK\\u002f\\u002fcsHll52++uat2SyA1hRTBVwIERUpm2dXSMb5ajB3lZIZbDRQjbLkTKJ2ZZMwAgOEUgmIYQcu7BGWw501EMYJgTIoQRXGSMaMYQeosykiHkzqdxYtiBEEblTg4yci7KIpTeiuCoLTBDoDIvjjJMCaXEpYxuY2OAjmary1hdpI9zfHF38jOrdBjuHqASj++jhLueWf+qn8eKZvrrFjkSkSFjS82fvrnWkkCb6Xp9lfm\\u002fGH5F20HQ7JlVrnxjhVz\\u002f3T5upa9gZufnekdZyJ1mBLns78d+ej3hwDgrjfnHVzdaXLTFYtcAicd+qLrrR\\u002ftjYd42Wz2NwpmX5NvzmL8LdHP\\u002f123+dUmWX7Xm\\u002fPW\\u002fOdo8Qx75RlulVemDAGANhKPb1jy8zM+W3J7adVSDyCw7tmGj\\u002f5wSLstAFh0S\\u002fG0S3KNTgojUACIh7h\\u002ff3tz8+6ARkB7vv6MW0sKp9n0VjLUmdj8atOqfxwBgKplnonnetkIP36Z58PfHqQM+IJvFR9Y3fnifTs0VHIaj61fQhsJBIH\\u002f3rr1wOpOJT2NakDm5BX3VDLV8Ct8lG25uttemk3qcQxHAOCf39x4dHOvrAKAiedkLfxOiT1PF2iLbXq1ae0z9aLQd9bpKNQvu6useLqd1GGhrsS6\\u002fzV88UwdAGhUAwBmXZM\\u002f66p8SzaTiPBtB0Jv\\u002f3hvV13EVTwDxUiSMeGUvmH7W7acKoGL663ZBGNu2P6WwMXteZMISi\\u002fwLGWwcbFgV\\u002f3WrPL5lN4WC7SFuhvCPY1ycIyg7XmTIr2NrqKZdVtXOAunClyci4cc+VPqtq6w502SRB6n9JHepoiv1V0yK+JriQU6rNmVpM4icPGu+q1GRwFIUqCjFgAQBHAS5Tlx1kWerqZY7Wb1J2e0z2Gd\\u002f3Dle08f+PhPtfmTrBc+Pt7XEt32RkvrvmDTTv\\u002f0y\\u002fPefGqvbDb5opyOw+GWvQEA+L+bN+MU+ujaJS\\u002fev+PAqk4AELj+q4xZ1+Sv+b+6v1y13uyhL\\u002f\\u002f5xEXfKXnv6QMAMPOq\\u002fCW3lb71473NewK5EywXPFKJEciGF\\u002fqOygWPjv\\u002fimTRekCFDpbmrf12z453Wz\\u002f911GCnBL4vDY22Jp3vnXt94V+vXt\\u002fdEJ1+ee459497+qzVUT+nHZCN8MGO+Ev37wh1JfInW5f\\u002fsLr1QPDQmi4AKJ\\u002fvfP2JPZ1Hwsu+V779rZZ\\u002ff3vzzf+dkTXOpKFqOxAEgKdmfUwy2BNblilNK2SqxqDJZyJtDb\\u002fCR7m3KfrU7I8BwOikHl61WIkDAKVzHBc9UfXGk3ub9wScBfrlT1VhOLrq70cAwOSivvPszPaDoefu2hboTHhKDZFj15Ia1SicZjv7vnHP372983DY4CCLZ9iDnQkAkEQRZxg2Fgh11wt8IhbsMthz4+GecG+zwCcYk0tn9rCxIE7qEATBCEYSBTbqj\\u002frbMIJWRisAELi4KHBGZ5EosAAgxyF1Fnk3Huq0esfHI72U3hbxtwk8G+5pZIxOxuSWJBEAkUQhHuo2e0qhAwDAW6ZfcJW3syHWsCfUuDestKIw2geswxt6Nr3SBADddZHCqbZZV+fLH5T1LzRc+Nj49351gI0KKIZMPM+75j9HZRc2JoiiBAB8QmSj6gnI5j2Bj\\u002f9QCwCdR8I7V7bl11hk+eLvFn\\u002f+76M73m4FgO66iC1Ht+iWEuWj3LI3vRdkzlDmyMae9c83AEBXXUQRarSVN9HavCcgG+94p\\u002fXCx8a7ig31W32Kb9qAoe7E+78+KG\\u002f3NEbnfKMgu9IkD1h8Qtz+ZovZQ595T\\u002fmml5vaDgQD7XFrNqOhkgcsAJDLmEqmagyafCYy1fCrepQVxGOjm8IZt5asf75h58pWAOhpiGx6uWnGFXnygDX98jyQ4Nk7tsr97Wnob0ujGqQOAwlCXYne5mhvc7Rxh1+Wd9Vt7rthgiAgSeGehnBPA0DfXZRYsLNp9\\u002fvyriNvUnfjDpCkrrotyfdYZAz2PEng2w+tBZAA4FgcRN6N+Foj\\u002fjaQJARBQZK667cCQCzU1bT7fUd+jRw2EentPLpJjtZyMPLiU4cnLLYvvSEnv8r44PwNSU0BjP45rM7D\\u002faNs28GgPU8vb+9+v51LiBPP8QJA+XynzkzIn4xBadnTf5IZC3KUgQAAvY002KnmJFXzbr\\u002fRQZlcffeb03rJZMpQplGZsT6GdludR8LecSZLFgMAlYvdXFxI\\u002fg5AuoAAQOqwxd8tue3l2Y+sOeOxdUvcpUac6rs6iAU4AOATIgBEfCwACKyIU6i2SptM1Rg0+UxkquFX9Shr4C41Lvx28U\\u002f2ni3\\u002fW\\u002fzdErOHlq8cvRWm5j2B1NFZm0NruresaP7uC7NueW7WtEtzBxzftHc\\u002fUna7G7b3C1NuiYR7GnuadsrDUxJJu5IEAJLUv4RdJm3YkqnmH6ycml9lWPF03UML1KMVjP4zLJRABgr6OiZw4pZXm6Zfnrv51aaaC7MPr+sOdaVZtZFKIt3xJigMVPN5CAAAG+urclovmUwZyvAJtaN2W5tebsyfbL3vgwXxEB9ojz1313bltF8mNSAAXPbTia5iw+uP727ZF+Tiwu2vzlFUUtInTDo2FdK3m1mlTaZqDJp8JjLV8Kt6lDOBoAjJYB\\u002f94dC21\\u002ftP3wCg7zITGXDIhogkSm\\u002f9aO\\u002fqfx6ZclHOGbeWzP9W0d+u3RDuGVIZTz6HtwT+\\u002fN09xTXmpTfm6Ez43+5ULyEe7QOWq6j\\u002fMWDvOFN3Q1TZ3fhi4\\u002fxvFRVMto5b4Hr1+7sUOQBIgiRJgGKqD1lGAu2xcC+bM8Fcu65bluRWWwLt8Xho8PkXjQzTMmhbOVXmf39rU\\u002fIs7KCUzXW8\\u002f+uD9dt8AICTqC1Hp7Y4WYwgedCs4Vf1KKdFEqW2gyF3sTHQoV7hDQAdteHJF2UTNMbF1eMjDFaNQHv8078e\\u002fuKZurtXzq+5wLvmP3Vqi9FBfpVx4TVeLiG2H4nW7+m72ZLMaB+wimfaZ16Vf3hDd\\u002f4ka\\u002fXZWW\\u002f+cK+iCnTE93\\u002fWee5DFXxC2PdpR5ITCLzU2xipuSC7\\u002fVBIkoCN8tp\\u002fmSUJVv3t8NI7ynwtseY9gdxqy5zrCt752X61XTo0MkyLdlsWL2PL1QU1s02ltzlWOsex96N2Uo8vvb0UU58OjBD5pjKKDzXayJIHzRp+JY+yBp\\u002f8qfaa301efKRk78ftCIq4Swwojm5\\u002fqwUANr7YOOOKvKt\\u002fXfPZ349EehPWHB2lw\\u002fZ+3FeTTNWoWuqhjHjrvmAizGePN+nMRI\\u002fmaOtcVNH1WX+elNuc6Agk6TNCOo3ORRUtL\\u002ffNRqkYYhyzizyw3rfxrU614hijfcBa+9\\u002f6wqnWs+8rZ2PC5\\u002f8+uu2N5mTthucbvvXv6ZtebpInYpJ59ZHdFzxaeeeKuVE\\u002f++HvDm17c8A5dirr\\u002ftcg8NKS20rNWYy\\u002fNfbBbw5tXTGgrUxoZ5gWjbbC3YnOI+F7Vs4HAFGQepuiH\\u002fzmoPKhzMRrj+y66AdV932wMNLLrvnPUe3v7VBYemfZ3OsLCBoDgGt\\u002fP1ngpc4j4T8s\\u002f0JtN5CRJQ+D1fCrd5Q12P9Z57N3bF38nZKFNxcLvNhdH1n9j777DP622N+v27Dse2U3\\u002fG0qTqHBjsTnx25ByKStBs+Ji64tsOUwGI76WmMf\\u002fPaQatxXMI7P1hc6SZueybWZJ+VFDndKvJB10eSWVzZLgihL+HBc3qA9ZkxHRuu7uWBMloT2t8pTUbbZJb3rDtvnlCa6Qrp8e2h\\u002fK8aQcpxofd\\u002f5ZiZ6muPlMyxq6enCPe\\u002fMX\\u002fSdYrU0iZxq80\\u002f2np03yaJWnCwGzXBYYAR65+tzz7y73J6nM7tpW65u4beLn9y6DCcHnwg\\u002f5Yw4+UFr+BU7ysnoreRP9p5dNM2mVpwKcq6YIf9vKPfYZpdkXz4dwVDv8ikAoEiUjdxrZgGAd\\u002fkURQIA2ZdNAwDbrBJTdY5jfrmh1O29eAppNyhxBiW7TP\\u002fEyqn3PDvxzn9W3\\u002fnParV69J9haa9snXiOt\\u002fNIWLlTe2rQzHBYeMqMnjLjX69erzwOdvDzzmXfK9NZCHntzGjmSyWvWcOv2FFORl7qGTu2qPXUwvqjrmVVKIWbqnL4UFwSRUkQCZueybUpEmVDOHaUFYmuwKErcuqLXb6NR8Y9efHBH76pK3ZxwZhpQk73ZwfkOLGmQSY3Ww5Fnjh3i1qaxKgfsNJBMpjBTmWNM06\\u002fPHfFY7vV6tMWX0uUiwuzry3Y+nqzJErOYsOyu8pa9gYG\\u002f8KPAo578l\\u002fVo4wgUDrH2dMUxXDkjNtKAx3xrqP9ayZOIZ0f7O5fZnVso+Ffa0CSYk29qSoAaF2xNVlS+\\u002fN3AYDJtfk314mcED7QFqntkARRiSN7DYpy60BZ4q9wWg5Y3grTN\\u002f82jYsLq\\u002f95dOe7x+0ddaecqJ979o5tS28vXfDtIpzCgh3xQ190ffLHWrXdqOS4J\\u002f9VPcoIipz3cIXFywis2Lw38N\\u002fvbuFZ9dzcKUMZU4ayoTBQIrJ829s7+jTCsa6leqVj0Lc1DA8UxVGkb0WiQqafSEiFwHU4RqulI2LojQ6dExFTBkOJ4\\u002f7s+4nLNhMnucUXV7rmLDw+n5ZBOZltqfjni45x4\\u002ftXqH7NmXqOs3qh7bzb8wFg+f1FqV+aFIEmHke1016pEpYUnKmSZMLjrJ5YcY1aOiKG3ujQcTsnmAzZamk6CJxhaKtampnC3EUGnVstHX6cZE5EBbQ5cfUZGePGE0vOYdTSE8OJa+umK7sP7NVanPW1YtC3NeAAoGecOE7HE36j3tvjPyxJotmYS1Nmf7AhwQYBAMdom7mIE2IACI6RLltlONYZjXUDgN1S0t3b94AoRZoQBDHpsxUtTZlNhhx\\u002fsIHlwgDQ1LbRYR0nGw9UIaoW5a83Q1u7fbUkoVeFVRpNbdGgc+t1TkHgwtF2SZIQBDHqvcFwc4INqcJKksDQNqM+yxeo4\\u002fiYw1rG83G59ZT0+ivgDzbgGJ2bNQMACYZbun2HACQd4zDpvdF4TzCsvq2u17l0tO3YucmAbhK4bmAcSNaqYiYnIElictlhYLaqmqgcUy0z1YemzMeKEwVARlwfHWPPVBxtBl3VvWgZE4sen4upk9nWGBoc3RFs3BeW39bw7l8aUy+WUQDIz56no+2TKr5h1Hs8jioUxQw6pyCwE8ddBQAYRk4cdzUgCENZAcBlr+KFeEXRBThGAQDHx4pyF8ux7JbiiuILFS1DWUryl\\u002fF8rLLkYtWVoEqlahEAqsuvsJqLcIwCkFRhIanR1BaL885g2XBB9jxBYO2W4tL8swSRHV96KYoSqrBGvac47wxeiFeWXIxhBMdHLKZ8i6kgNb0BFZAkDCNwjBYlXhBZAMBxurzw3AQXoinzsf71oWecJXlLRJG3W0sBIKWwA+Ika1UxVQnAwLKrsk2uCUkYkh1TLTPVx6BzJRWHBJBGVh8ic3HSMnEK+dqHrvfXeZ74hVV5+Gz5lbq3V7k\\u002f2uhZucZ9\\u002fnIdAHi82F\\u002f+a\\u002f\\u002fGTfobbjG+9Zn7rc\\u002fc6LGJilTjTJygtqomkS+84\\u002fxgveeTLZ6Hnuzrtd6AfP8py\\u002fvrPJ9s8bz5mdtkRgFgwRn0C+84txz21kwj+yIC5BXgf\\u002f2f4721nndWu6+4ru+JRaMJfX+d57pvG978zP3Ztqw7HzBphE0b4XRBkgAjkKwiXf3uUMSf5uYpDgAogrZ377JZSrp9h2zmIkkUREk0Gbw4RiMIajbmdvsPdfbsBQCvq6aje1dv4KjNUkJRZj7aGQy3iFL\\u002fgwId3bsVrc1cRGC0015JEjqjIcsXqFPMHLZxySp\\u002foD65RUkSWS7S1LY+bVhVo8kqSRJ5Ph5P+AUhwfExAOjq3d\\u002frP2I1FRj1nkCoKTms01bR1LYxEGo0MC6LqaDHd0jPOGWVKj0EQZUKAEA8EYjGu+OJoNwjnk+wXNhuKW1qUz+rabMUtXXu6PEftgeOAoCqsKo4yVpBYJNjJh8CmeQKqLKFpJo4beXJjqmWmepTlLtIVZxAqHlE9UEyFScVFIOf\\u002f9H2mx8HPngnNnEK+cxrfc1t2cB++kGX3ycWleDPvuF8e0W0vVX47nU9P\\u002fq19fBB7v\\u002f+NuAWW6pxslbhxLX1ze8Y3ng5+tJ\\u002fIySJuDx9Y9t9j5r1RvSiMzriMSkrGwsGRABY\\u002fUl89Sfx1z92KQFRFJ7+i+2JB3z7dnMmM\\u002fry+659u7nd21kA8OZgNINcuKjD6cLeXOV+67Vo\\u002fRE+NaxGhIygKEjSECfFRwaCopLyRllN3IXMNU+W1u0Mybuv\\u002f6p\\u002f0JDpu0soSSL0\\u002fZVBslw1GEYdbfpM\\u002fnMqClzy+ZEg9g17aadgk7WCwLZ3727r2jHAAgAAVCqva3JyiwAgHosjo9FosioS6wYEcdgq9h15UxbiOAUAGEoKAgsDw\\u002fJ8AsdpAMBxWhAG3HpXpWcx5qnOEOWLTWVvb+1rBp17QvkVm3f\\u002fI9lMEDgMIwEAQwkAUBUWBsZRaZNjqg6BClW2jKtGqYkoCgOOXYplpvpoFAdS4mjWJ2NxUsnOwW029IN3YgCwcyvbVN+XTGExft3NBvlrZTShGA5Cmj+9fQzR+MS1teLF6GM\\u002fsVRUkW+9Gtm2qW+kmL+EvvW6nnhMAoC2ljRPAsp4c\\u002fCyCuL3\\u002f7IrkoJCXBlunv9PBAC6OoWmet7tweqP8KlhtSOkghCkfnxlvLFR4jghFCLdbpTRJVpaUJoSQiHMaAQAiecxo1EIBBCKEoJBlGGSdxEMw2023ueTeF52j9fXITiO6fV8KERYrVxvr2HylOihg0Kwbz4BAFCaFhOJ1FEyq0T\\u002f7l8aD6z3q+QKaZY1xOK9hTkLadKEoSQA+ENN2e6pFcUXIQgSCDUD9B9AmjLnuKfrGUdx3pLm9o39IQAAoL179\\u002fiS5SZjDoYSB46+TZHGbNdU2bilY3Np\\u002flmKStWiNsmNclxUEPsGYwBAEMyk9yIIqmectQ0fAIDdUqZjHBRhDEc7+kMAAEBr17aKogvslhIco\\u002fzBxmSVKvPkChysWykIbDDcUlpwltmYe7jhI4a2FmTP5\\u002fl4JNadHAQAunr3V5VdZtB7GNoGKYUFgOQ4yVqGsuRnz1NiqhIgcCa57KpskxMIRdps5iLFMdUyU300igPDqU9Lx5ZMxRkU+WVcFhv69F9tl5\\u002fVWXeEt9nRVduz1HZJDMs4mePY1rrV8QsXdSxcSt\\u002f1oLmjTXjg9l4AQFEk5buZBgQBnpeWzWoX041p4VDfSYokgfznIDWsdoRUDJMnoyRB2O366uruFSswsxkkiXA6TTNndK9Yoa+uJuz2yO7duNWGT5ggRqLhbVtBFKnsHGVXXz0B1THBL74AANkdACwLF+E2K9vaGjtaB5KEWcz68VXhbVvFRAIAMIvZcsHS2K790Z37lDELJ5BJyxy0Dpt\\u002fZZbVQ3GsCABbVnb156oBiuKqcxkUxSHl7GYoYCiRelokk6xKbXEEFOUuMhm8AJCbNcNhLfO6alz28SiaZlBWSNZmu6c5bRXKripzVQVQBFNWeCAIJp9JpSV5IUhqN5PjJGtTY2ofAo06qxwVy0Hro1KNrD6pHckEhsOHGzxnnscAQGU1saMue85COjsX23zIazCiAPDdu427GrOxY0k9+KT5+09Z+v0BNIxVnLi2xk8gcRwBgOIyYv0+r2z81K+sP\\u002fu9laIQAHB5MJLsL9TrH7uUOSwUhRUfuW66zSjvllcSsqXRhO5q7L8\\u002f++JK18y5FKQLmylCJozTpluXLbMsWWI\\u002f73wAwG0244wZ5rlz5V19VZVp1mz9xEnWs84yTp3GlJZhRiPhdCXvGiZPNs2ZI4+gsjsAGKdO04+vMk6dqq+qBgQxTJkiG8uNIjhuPvcMw6wp\\u002fXkA4CQ662K36l+ygYxWZ047rKYCj3MCx8cxlDzc+KHDWi6KXFfS3bRM2C0lTlslgdP7j7zJp1wBfVVxO6pHW31qppKP\\u002f8xCM+iGNXGHC3vxv5G1q+L3Pmo+63wmEpHefCVy6dX6CxZ1yJdphcX4L\\u002f5kM1tQv0+8\\u002fOxOOUIm41ROUFuP\\u002fsRyxlkMz0mRiPTX3wbffysGAAYjet+jplnzaRwHv0+88fLugF\\u002f80a+tpeOI4jK8o03o7hKffiqwezubk4c\\u002f8APzuPEETkDdYf72G3piUcloQtfuyZqQ13eb9cWVrt\\u002f+NLDhi0TasGkj9PU5LfLZmnKqptodDOPUqQhJRXbsEKIRAADVgngU7f89JAVZlbRiXsFoI8J+Tp6dyi7TtxyKqAzGGEMLFEczvWIplaFbKmi4DKvptAw9whDNxjgu4E47mevV1VQBiqpU3lL95d8vBoDqhbYbn+5bAjXGGIOD05jOThtcTPnZ+QCAEagl30gZSb2DkbVGt44ykdYCk63IlDXJAQAV5xfqnYzOTuvsNABgJGrM6rutrgjlsAiKmHMMgPS5UEbSWmACAFKP650MRqIGF9PfNIkaXIzsqDRN6ok0jgRqyTdiJJqcfL+QwvQORnYHBGRfOXk5DSXP5MzHOP6gqHHRbOOi2Wo5AACMm2W57a9VlzyYZpk7pJ10V8j0zi3HoorupFd8JUM6jM5FFS2vbFIrTjDGcVmhA21q6RhfAmu+afzFRat+tlUSJQAoOyufNpGiKLERrn5Na8kZuZ0HfIm6gKvCGvMlZBuDiylakI1TmN7FHFhZbys0CawYaosAQPHiHHOO4cDKegRBxl9c1HXQ37mvF6Q+l6OrWlwVVl99cOKVZfEAa3AxOgez5lfb5bCTr6swefX73jpaflb+qp9trTivsPOAb9x5BfEAq3KUJCBobOeLh2yFZiV5OfOdLx6qurSYjfGMhWrZ1hXqiEqiqCQvp3HwvXo5z5gv4W8IyZmPcdzBTAYQRa6zJ1lI0uj5dxUAAEiAEYjJTi6\\u002fv+i1nx9NtgGNActQ6vFcOLn11U0IjhkrsyNHOjh\\u002f1DqtMLSvlcmxuc+ZGG3oplwmjCGjDd0gSroCR+RIZ\\u002fhQu3xVaqzwyhIERXQFTiHBiQm+d12tbU5p79q+B2IdCyvkd4AhOEpnWWJNPSCByovtCcsqPhg31+RHDnfo8h24kU70hDESlzeCuxr1pZ7QgTbHooq+fARRds80sJ4IvI\\u002ffF922y\\u002f\\u002fOh2rF6UBq8t4aJx8XrAUme7EZxRBREAVOlESJNpECJ3JRvmNPj7XAaCs07d9bnz3FBdARaotGemIGt45PCDiF+epDhQu8Rz5rBoBodxwkwCnMPd7OxwWBFUxefXetX3Yx5ehthSYUR+VdlEA79vUa3IzcdLgj2nPY76qw8XEBAPqazjOmOlrzTQIniqKUnLy\\u002fMSQLBV6iTSQb5jr29ACA3skoycvuOI3LeXIx3l5qljNPC0IQ3ifu7\\u002fm\\u002fF+O16m\\u002fUGIMixROYxSQmBiy24Dlp7SvtyZK0ZBywIkc7I0c7o\\u002fXd+d9aEK3vNpR5UBJveWkjAFimFna8uzNr+VSMJpqfX5+1fCqCIK2vbc6+fEb4UF+TxspsWcL5IgLL8+E4imOm6lwE6z\\u002fPo1ymlpc3Zl8xg+0OB3c3x1t93kumqbwop0lWGcqz2J6wqSpHiHN8lMVoAsFQeYPtDiMEBgB0lkXORwjFZXelreMLqmMkQZAGVvx0YYjJ73zpkPxLC+v\\u002fvBsAUBQBgNqPmhIhVhKlA+\\u002fWA4CvPiRrA81hAJCFyXTX+uUN5cvfvqdHDougiBIHANp2dMOxCE0bO2StHHz\\u002f23UIikiSJDvKNmkdDU6G0BG0iUpOvuK8AgCgTdSe1w7LYWXH5OQVoZIngmrOaskT0\\u002fzQ1g6MMRCEpjGziW1oSZ53FwWp\\u002fWgUAGgDZvNQfXP\\u002fKaS7TAQAAEkQSaueybVHjnZiOjK0rzXW1Ou9ZJqhPEuI9z2rqWywvWHnkvFsd0iX79AXOvXFLkXCRxK0y8R2hnwbj2RfPt23\\u002frDSBKYjXWdWc\\u002f4oAAhxNjmO4qWoTOOzcQMliRJIEogiSP0bTK5dX+zSl7iVfJLdTwS2Ky5ixpWppacJQ01+4A2c\\u002fe\\u002fU73q5Nh7ou\\u002fpTkVYIaeXHBGlUSai0ktg3WmmjJJls3C9MCSszdKGCxHItj\\u002fwkUdegVoxu5N+jTCvJm2AZoNBUfUnEcITv8aEMnXqX0F3I3Prn8TMudM+4wDXjgv5nAIbGsUFO+Wuj9WcndUREEADIuXqWvsSdfeVMJtfuOb8mWZ918ZRBvVJVQyG9+\\u002fECQXJ+\\u002frhuYpVK7H38Pst5y1TCUcdpnfwYwydnvHnKhdmOAn32eNNlP672lBqchfqZV+blTbQoErObnnVVXlpjReXI1825Jj9nvFmxUbc0TBCsf32iwqSljnGzLGppEhkvCQH612Iof220\\u002fuykDJaypPXVzXSWpfWVTaTD0P7OjmR992f7B\\u002fVKVQ2F9O4D8T7xQPCDT+nKcboJlWIiEf58vX\\u002flRyBJZF521sPfa\\u002fvxb9jmVtmSzPFmPXJ3209\\u002fxzY2e+69lcz1IhTlvOV6WRt47xP\\u002fW+\\u002fL2whBOG64ipkwHgQhtvdA74uvi7G+y1Lj4nmmhXMwm0Xo8QU+WhX+YqMs9z5+X\\u002fCjVXR5CTOxKtUrE6M\\u002f+UwZAgDKMLm\\u002f\\u002fmHL939sPn+ZrqYaAAl9tsb\\u002f1gfabQGA+ewlhrnTMZMJwTEAEGOxzt\\u002f\\u002fI1HfpBEQdzks5y6lS4tRo17wB8NrNwbe\\u002fxQAdJMn6KdOkhKsrqba9+Z7KE2bz1wY3X2g+1\\u002f\\u002f01DJaeT+6ocoQwOCdP7537Hd\\u002fZOkGtWAzMkr7icISZIYE85G+d6maNvBUHttOKfKHOyMF06xrnmmXpYAAEagaY0VVdUSz6p\\u002fHQWA7EqTbDOgmeFAeFxkXjaR5fK\\u002f2XfQFRr3hK75YanGSnfNAet4ILJ8tKEbABId\\u002fU8SycgXg2lRvEbGEN2tl1\\u002foe21l4J0PqKIC29XL+Z7e8PotbGNLoq7BMG9m7wsrZDP9rKlcWwfb2AwAHX\\u002f8J4LjuU8\\u002f2f2v56LyhzVpYaJx0ZzgR6vbf\\u002fEH3Gpx3HCV+ewlvhXvAIBxwWzLect6X3ydbWgiC\\u002fNsV1yMYFho9TrZy3bFxcFPPk\\u002f10mb0J582Q6U5x7evjWzaHvxwFWY0KO+l1GhLP32yacn89l\\u002f+kevoMs6bab30\\u002fJbHfiZG+j9CaQNK8YTgD3b9+zkhEKJLCuzXXsY2tcb2HgAAprqi57lX2bYO64Vnhzdu7fj9Pz33fjf4gVdDJf8ZaLr3cYQi8377Y6VphUzVGDT5EweKIREfVzjVtvPdNqODdBbqCydbY0FOFCRRkGQJAHjHGbMrTanGiqqzLjzv+gL5ty8VG1VbQ0QIhmK79rFNfetgk5Ek2PJuF4IiJJ3m\\u002fAtOwoA1monvrw1\\u002fsQEAuI4uqrTIuGCO\\u002fI0KrVpnu2q5b8VKKZEAFNVPqwl+tFp2kRKsvHJX4ngpoV7znahv8r\\u002f9AQBwbR2Rzdup4nxZbj5nSfDDVZFN2wCA6+giHHbzOUuU73yisTmtlzajP\\u002flMGfZpDx4OrVoLAFx738Jx0GyLKspPNDTJxpFN221XLSey3InDdYpv2oBCMOR7faW8He7qNi6eR+ZlywOWxPGRDVtxq8V68TnhNRvY5lbeF8DtNg2Vct6aZvU2AGSuxqDJA4DbM7GjfWeyJBmTOTcYGMnpWNPuQMu+oPxy9Pd\\u002fWyuJUlddRLn5IEsA4OXv75btVcaKqmVfEMUQWaXYjAxUr0NpCnfYuI7u1EouuMqrvCJ53Wt9N\\u002fEUMk66fx3g2jv6t5tbcZdD3o5u2ylxnH7aJABgqiowvU7+Cg0K29D\\u002fkRKjMZRhAAAz6DGTMZGkStQ3YiYjZjbJu2m9BmX0J58pQ5lEnfqZau22uLYOMjcbt1kAgJk4XuI4PmlggnQBAQChKPO5S7Meuivnl0\\u002fkPv0k6fUgBCGr5BMckeMAQAhHAEDieYTAtVXaZKrGoMkDAKNzeLNnmM35DmcFADicFUZTjidrsk7noCiT0ZgNAG7PRG\\u002f2dLMl32D0ZufOMlvyFRtlQxUWoP+nHFLndlIneVKNFRTVlxmtAIDv8ZH5OQhFpo5WxZNNK\\u002f\\u002fcsHll52++uat2SyB17ejgx+ArzIBpPwSBY\\u002feWJF4Ir91onDcz\\u002fMVGw8wpsf2HhID6ejYtadcKICQBoHpoEwEAie27p5nWa1BGf\\u002fKZMpRRIihotxVas4EqLsh+6mExFud9\\u002fq6\\u002fPSMPJQqpAQHAcf0VRJa757lX2YZmieOyvv+9fl3ylKjqm6Oh0iRTNQZNHgBEgWtt2ZhXsEASeQBgGHsiHsAJRhDYRCKIopgsrK\\u002f7NDdvDkkaw5EOoykn4KuTbTCMlDdUYUcjohj+Iv38sq8tkVWiS35Fsuqlo1\\u002frAYvwuJRtMsfLd\\u002fZPe4U+X29etogqKWSqK3qeeVGRAwCIEkgSJC0o04b3BYRQmCzIi+0\\u002fJEuoglze5xdjsYGGw2P0J6+RYVoGbYsqyO343d\\u002fjh470+wwGUzXO9\\u002fpK+eILwXHcYVdbnCwGTR7FiCzvFI4NS5LkyZqM4zSCYBwbMVsKw+FWg9FrNHqVd5OFw204zgT9DYpNPNYrb3R2ZLyuHCXgdiuZ6yVysgIrP1HdSRv0Fclf6wGLLi81LpgdP1BLFRXopk7sfX6FohJ8geiufbbLLpA4Lrpzb5ITSILAd\\u002fUYZkzmWtokSZIS7CCnMJIUeO8TywVn8j29bEMTWZBnPGO+75U31WbDZPQnr5FhejTbwu1W3GEfJNsU+O5epqI8um03SlOW889Meyt9BMhxEOVlyYMxlOTrj36CIIj8dnllIxRqkSQRAPbvfQUAQqFWAGhqXAsA8rt5k22UjVGOEAwhBBFLehmWAoohk890mOwkIKC3GGs3B1QGQx2wcJPFVFXTu+4ztWIgdHZ+vKUBAAiLjfP3mqomB\\u002fcMMoFy4iIPSvDTNXRpkXX5eRLLBj9cFd7QPyUMAKFVa93f+05ozQaJU9\\u002fB7f7vS7YrL8565B4xEvG\\u002f+b7KMZXQZ1+AIFjOW4bZLEKvz\\u002f\\u002fGu+F1m9VGw2T0J6+dYVo02hKCIa690\\u002fvEAwAAosh19fjffC+6fXeyeyrdz7xkv\\u002fqS7B89LITCwY9Waw8ZQ8FywVmmJfPliTDnLddLgsC1dbT9+Ddqu4EMMXnltzCSNjIOQIoqdeO4QOfkx5sb1NIhYKyeHNq9TcMdMxr47h626dgdjCQq51ptWfSez3vVimMMnDFIgbS7dIUlifaWWHODbdai3vWf0dn5lMsjcRzn7yGdWYmOFpQgCauD7e7gAj5DeZV\\u002fy1o6K8cyfZ5v\\u002fSpDxQQhFEx0tZMOF8bo+GBAGWWOe2S2t4t0uOMtDWyPeu1GWrxPPBDZuDXw3idqxTGoglzPg3e2\\u002f\\u002fKPiaPp634KGf3JD5rhsEBwLOuhu6J7DoTXbpJ4DsFx\\u002fZSJ5nOWNN3zuMSrR+TRxslM3lhdg1I029EGGEbaHImuDpAkyp2VaGsBFKVcHpHj+FBAVomxqK6wJN7WQrk8KKPjQwEUJ+SNWP0Rw7gq\\u002f6a1xurJKEWxne2SKMruod3KV9ipKxkXb6oHFJWbQDCM9HhxgzGwdYOGO0IShllTxAQb2aA+5zA7ydv\\u002fVtV6OCqKEgA889BBlcEgcxkoRfOhIJNXpEgoh0viOCEepXMKAts36ApKcZMl1ngk1lzPhwLyqXKiozXR3pLobANR9G9bT3tzEQwXE3GEJE9gZEnCGJ3Iqu\\u002fWa6I1Xuum1XBtHafqCz8ERn\\u002fyWhkOCyI7i8jOCrz3Md\\u002fVLfgCfFdPbM8BhCBQvU5tOvo4mckTZmtgy3omv4gwW6L1R+JN9UxeQWDrBl1RKelwiTwnxqKKqu87mF+E4LiYiKMEqWzwwb5vHGGzB7asp7NzFXelLUNFtX\\u002fjmnhrk9IEk18U2LxO4jhtd4nlIht3RDZuV0Ip2Lz0x8+0PPPwwWceOpg6WsGgAxaTV4jRjCSKlNNDubMoT7aQiBMWKx\\u002fwC+GQacJUPhQAAHmYIB0uypNNZ+VIoogbTKTD1T98SJLqcbDjHxlFhWiEySvub2NEIBSJO+y6SVXGeTOP1wnCSeO0Tl4DvrtX4jjTormYyYgZDXRpke3Ki9nG5i9\\u002fiXcSOJnJoxRtqpnOR8IAILEJAOBDIdPEqXwwIMbjhNnKBf2KiskrRBkGJFGS+n41R9mQv3FUVo5sCQDJ7jJsd6d19gI6O09pgo+ETZOmIQSh7Y5ZzNbLz9NNrEx92C4W4sfNtHzzZ+U3\\u002fnLcjb8cp9LCkP4GDnyTqX3e0nDtPn3xuN61n6hUA9BQKRzvyEP\\u002fNSHou2bZFnjvY5WcKil03\\u002f4tkeNDq9YGVn6k0o4SRn\\u002fymTIcMXRFmeX8ZUSWByFwwR+M7T0QeOdDIRRW241KTlry1pnzfRvXqL8gCAKSZFuwNHJon75kXO+apL9kmb9NKtK7K29AVuJkCJjsjuC46cwFQq8\\u002fvH6r2g4AoP8FsKkLvoYwYA0EwXHS6mB7Ooc+NAyRExd5jDG+JmB6gxBJPw4iOE7YHFz3CL9fx9GdKilAcBx32MJrN6tGN6uH+s7vK5WV7j+\\u002fYnuydowxxhjjZENke\\u002fTTJlKFuWoFwNRznNULbefdng8Ay+9P85bkFAEAACCphscDBEGVf2rdaULR958yjJ+olqYl5fr85EA6XYUPPlHy5C8LH\\u002fiBWjcimMLi\\u002fLsePL7d+SqXMUPCJ6KMpyl8Z48QjjIT0sxh+doSZieZvNJdZaDel\\u002fHqK2jMgKEEhuAIICiCMbiJQCk9YQMAHCUpzIAiGI0ZZBUApLUxEHYrnS1bAgCF6jz6cvl\\u002fAJCNUQTTE1b5Z+xozCA7IoDoCIscVvY97ci\\u002f80Ek5UdBTgJsV2fdz5\\u002foeH3gAvcvhyQIaScmTgKnXRk1Ej6FZRxdoAhmNvJdPanVOLojuPGtzg1vdcQjwjBWulO4wakrkkCK8cEw222jc0WJ74k3mih3hOvNN9WwQpzGDRSm9yVaeSEe44NuXWmqTUIICxJXaJ7G4KYDvaviQhgkSf4fACSQTJTbQmURGN0Q3F5kns7gpoQQifNhBEH98RYAUHx58XR4SOoYuMlMOvsfTDmtidUdafzj02rpSeG0K6NGwqewjKMNKcFGt+8BIc0LpiUJuIQIAOtWqN\\u002fTIJN+wAIAAqNZIWajc8Jsd4TrdemKw1yvgbAhCBrjgwkhiiJYINER50MuXVFH9HBaG15MGElnnA+F2G5B5PSEzUDaDZzdQNqRKEphBgNhi3I+URIkSZTNcJRMCBE9YWNwc4jtUnzV+Z0sEAxznn+JcUKNxLK+NZ9KfF8mdE6+fclZVHYugmKJ9taud1Yk2loAAMHx3JvvJJ1uACh54heyce0TD4AoZnLRiFb00JOd76ywzl5AeXP4YKD7o5Xh3Ts07DPBFBZnX\\u002f+doz97XIz3vU\\u002fOc+k1AND+6nMAAAjiWHqusWYqxuiEcCi4Y2vPx+8CAG6x5n7nLozRSTx\\u002f5Eff7w+XwV6DTGWEDH3RKGMmFw15pjJquGQiUyU73ngpU8IZywgAAExhiX3J2bQ3R5JEtquz9b\\u002f\\u002fECLhEVT4NAKzmHUTKlAdE\\u002fhgVepJ1giRf4W8\\u002f5fT091PHIFNKtmGyjzTJAJlYKCZdtiThm3h0sL7HqO8ObjJknXV9aVP\\u002fUqefCHsTtPkabjZgukN7kuuyrv1nmQvOje\\u002f9Ee\\u002fVl0aaLhkUhU99GTRIz\\u002fSl1diOr113uKSH\\u002fwc0xs07BWMk6aoJl\\u002fyv\\u002feweepMeRvB8eLHfqIrKpV3jZOmFtzzCOlwojRD5+brisv63QD05ZXFj\\u002f4kWaJtn5ZMZQTNvqQtI2R2ySTPVEYNF5nUMoJmJTMlDOnKCACE3VHy5C\\u002ftZ5yFW6y40WQYP0GWj6DCpxEoTVsvP99+7SX66ZPUusFIU1kZeZWnstYz7W8AjMAmlZbwvsbgDk6MwUAz7bAnDdOUGb51qxOtzXzQ3\\u002fXeW8o0IdfTFdy2mQ\\u002f4hUg4sHk96c5KnUFUoeGioQpt3xw5uE+IRnxffCY\\u002fA6Ftn4ngto3Gmmnytq6kXIhGo3WH5V2UJAFATCTEeCze1BA90veyhEwM1x4ylxFG1JdMLpnkkKGM2i6Z0KjkcLHOWRhvrO\\u002f55H3e7+NDwfDeXbJ8BBU+jUBIHCSJbWqJbNqh1g1GxkvCMQAAQVHCbGG7OuVd3u9THv7C9AbbwqW64lKUogFBEAxTnrDPhIaLhirRcexiXpIkjkMpWts+E8Ftm+1nnE3Y7Fxvj7FqUmh7\\u002fxKY0I4t+rKKgnsfDe\\u002fb7V+7Ot7SONBVzXDtNcoII+pLJpdMcshQRo1Qx5pKg0Ylhwvpcscb69XS4Vc4E4zHFGsPqqUZsFR6\\u002fPvSzxxpkKkJ7xllrZ9kHGf5zh4hEFJLh8DYgDUYyICVu9KxmcKsq28QE\\u002fGW\\u002f\\u002fsbHwzQeQW5N9+p2GRCw0VDJXFp7jZo2GdCCIcih\\u002fYZJ031rf5YP66y8U+\\u002fUlQiy7b+71+UN8cyc27OzXf0fvp+72qtx3qGaw+QsYwwor5kcskkhwxlBE2XTGhUctggaNqxLlOF9TkW5\\u002fR83942BEONRfZgbZepxEGY6HhXGCTAdWSorocw0Z3r6lyzCxM9kfyLJ9S9tB3BUWtVVvBwF4KhOq850tAr8qKhwObf1w4SyAETPVFzmdO\\u002fr91U6pSNGZcR15Gh+h7WF5NtJFGSVb7dfW9zN5e7VE0oxvpcS975VaH6HsVYQQiGo9t2jexXHTNeEo4BAJIocn6fPJMKAJjBiFIUACA4zuQV+Neu5oMBACAdzmQvAOh7XiFpLkPDRUOVluHaKwS3bDRW1+iKyxKtLZyvV6VNtDZ3rHix47XnbQuXqlRpGbp9pjLCoH1JKSNkdskk12AELjIZK5kuYQ3Yrg46J836SZnUCnvmF9ev2Bk42Gmtymp6Z699cg5KYHyExWiCdhka395jm+DVZ5sBQJ9jDh7uDh3pDtX1ZC0u5SMJc7mLcRl6d7b49raDJBFGSohxSsB4dxglMABQjHXZ5sa391jGuRUbRaVkmNqEYiyJkuyuGCtgZhNTXWGYOz316ju\\u002fyliz1GFxU\\u002fe\\u002fMOm6n6SZuRtqZb+2BLdtss5ZQHlzcKPJceb58idS4nkhEmaKShAMo7NzrfOXqLy43h5JEIzVk1CSwk0WbRcNVVqGa68QqT2AUqR5xpzAtk3Jcv248UxhMabTY3oDnVvA9fYka1MZrj1kKCMM1pfUMmq4ZJJrMAIXmUyVTJuwBv61q5mCYtuCJbjRhBmM+ooqlKYhc4XDjb7Cy2ssFe5ETyR72bh4d0SSH\\u002f4HwPVkztkVCV+UDcZzzqrA9ZQkiKRNZ8izhg53Ywzp29MOAEKMAwAEQ9lA3DYxWwloyLMaSxzmMqdiLFsmN5ocRya1CcVYcU9FjMUQipRYNvVS2pXPRIP8omu9zz1eG\\u002fbxFKN+ReJpc0lIUWa3e0Jj4xq1AgAAaNoaj\\u002fvU0iTc7okdI3p1rG\\u002fNp4TVlnPT7RKb6F31cdzukOXtr73gOu9i69xFbEdb5+svZt\\u002fw3WQvIRbtfOtV+9JzXBdcyvZ0ywtwNFw0VGnRsHcvv1JfXonSDIJhxY\\u002f9VEzE2l95PibPCoticOsmy+z5bS\\u002f+V7EHAExvcJ59IW4yS4IQb25se+lZWe4892LjhJq+UI\\u002f\\u002fVIzHO998JXJwXyZ7DTKVETT7kraMGi6Z5BpkctEqI2SsZNqEM5URANiujtb\\u002f\\u002fct+xlm2RcskUWDb21ob6iDzEen44qj8gzf+\\u002fR3KL9\\u002fIFFw6seWDA7JEUR36x3pJlMKNPlkSONAhG\\u002fv3dwQOdck\\u002fhqYY7\\u002frpxwAQONSVbFz3yg7FJrVRSG0iyVhxV4GZTYnD9bjD1v\\u002fs9DEa94aueLQk1MO21kYYI8ZzA7QAp3TFgNs9EcOoSKRDFDizOS8UbiMIprv7gMMxjucTDGOLRrs4Lmq1FodCrcFgU17evMbGNaleosjn5MxqbFxDUUaGsUej3YLAGvSeULgVw0g5jsmY09m1R6dz+HxH1Xl8nXAsOw9lmM43X1Erxhgmo62SpJVhfYO\\u002faH9UgKKG2VMlnk99gR+CAGPEYyFeksCRQ3c39y12UziVl4QMY2tt3WQy5bjc1TwfNxmzGcYOAAxjpymz318fCDTiOJ1IhCyWAg2vcLgtHG6LRDoYxm4y5jCMzWLOb23bbLMWK3EkgPy8BV\\u002fb0QrBcZSidEWl5umz\\u002fGtXq9VjDJlRW8nTZrQCAFEMf7EpdbQCgKoFtpxxBvlKce7lWTihPqM6lZeEyk8ShcPtOE4Hgo06nTPLMxnHaY6NyFqzOZ\\u002fnYiBJer3boPcYDFmpXpIkkqRBp3OSpKGtbavVWhyNdXs8NYlEUGkFQZCW1o0e96T2jh2y+9cKprDEe82NQjTc+fZrbHff8oIxRsBYJU8cjhy6oNrIJURKhyIoUlBtVFuc2kvCZJSfAEldBZMqURiZ1xhjjHHqSZnA0pvxRd\\u002fIZgx4R31UEqF+T6hpXzjZAEbPgDXGGGN8LUBR\\u002fdSJIEmE1+1\\u002f8wOVUm8hSAb1tfW9WHmM0xXvI\\u002fdZzlmmlo5KCG9Wzo8ew4xpzue\\u002fYozOg2I+a4n3sQfV0lEDgmGYxUzmZOmnTVTrAFCs\\u002f115lE69pgFO7aT7GGlBdUzyzwuddhxbDHh8rsdHSTVGSRpfASRBAFHQz5qC6hi1DqB0qnnWRR55+4pHilMWlo4NWKMP22UXM+PSrPE9XWBb2poffep4\\u002fcLCKKnGKEnjK0OmZwkZEx4L9z1nKoqAk+oBSr2fjPJL3DZPxUCNGoLU55QvwvC+5y2GjsGaixNpBtohMvQMAcBoyydIvVqawoj7cnxAEHpc37tKxhgt1RglaQyR43NqewIRguHQ6vXRHXvVCoCDG\\u002fwLr\\u002fEu+1bOhXcXYAQiv8wvGRwASNqI4bQocomon9JZE1EfhlMkbfIUzuxu2RXqbTDaC6PhLgRBYqEugzWHjQXYeIikTShOykKOjYgCj+GkwCf0lmwuEWZjAQTFjNa8RMzHszEUI2m9LexrIiiD4oXhJIaTosglhwIAoy0fAGKhTp7rW1ry5TM02vKMtjyOjXBsRMlQCYUgKKW3ycLkviSF6k8AAOQIAhdX+qX6lXDvYw8GP\\u002fqUrizXVY0XE4nwmnX+9z4CSSJzs7MevLvtp79mW1r7upbtzXr4nrZf\\u002fJZtbPbcfRuZ40UoynnzN2Vt4IOP\\u002fW+\\u002fL28jJOG4\\u002fmqmejwIQmzfgd6XV4ixvmV1xoXzTAvnYlaL0OsLfPxZeO1GWe595L7gJ6vpshJmQpXKK1OGAIAyTO4vn2p57Efmc8\\u002fUTaoGQEKr1vjf6UsjU1u4w571wF0IRSEYBgAdv\\u002ftLvPaIrAIA\\u002fdQa85ln4E6H4POH1m4Ifvq5coeIcDst559Nl5UgFCUEgqFVXwQ\\u002fXQ0A2tUwLphrnD8Ht1uleIJtae19+XWuY5BFBpm6PHoOCmSuhkZAQBDL2UsN82ajFBXbu4\\u002fr7O6TA4Bm5U8VGr+aEwvxf75lb1GNiY0LR7eneQkEDgBZxXPCvmazq7Rh73uO7AldTduduTWBrsM4yYhC3wNBBrPX4i6PBttj4W5HzqTmg59mFc+O+Fst7vK63W8LXF+5nXmTQZJMhTMa936AYDiCovmVZ7cdXefKm9LdskuSpGQvSeAtrrJ4pNdTOEMR2jyVosDassYf2bFCyfJLZhgJtLKxgMGS09u+PzlDZ25NR\\u002f1GV95UUeR5NioLOTYiB\\u002fQUzkzEAsdC9Sdgy6qUI\\u002fS27rVljZf7paSqYL30Qt\\u002fr7wRWfkAVFtiuvITv9YU3bGabWhJ1DYa5M3tf6uudfuY0rq2dbWwGgI4\\u002f\\u002fQMh8Nyf\\u002f7D7P\\u002f+L7tkPAJD0GhbjgrnBj1e1P\\u002f173GpxXH+1+awlvtffAQDj\\u002fDmWc8\\u002fsffl1trGRLMi3XXYxgmGhz9fJXrbLLw5+sjrVCzJkqDTnuPEbkS3bgh99hhkNyi87abTFd\\u002fc0PfA4AGBmU86PH1fiAABTUW678tLeF19NNDQRbpf9mssQDAt88Ils7Ln7draltesfz\\u002fD+AOn1COG++mtUgy4ttl58Xte\\u002f\\u002fsu1dWBGA11WKgQCfY1pkrbLo+egaFRDI6BhxlTTssW9L61IHK2nK8qsF57L9\\u002fplL43Kn0LESAx32bmWttRnCQEAxRGBl45sC+IkmuGd7gja274fJxmKMXc2bnHlTSUoQ9jfwibCkUArAAAC3S27cVKvt3hbD69BMZwxOAFBZSFOMMqAZbBkJ6L+eKQXwXCDJYfW2zCSAQB\\u002fZ22g67DcluKV4HxsPKgSRkMdrtzJkUCrMhLJBl8mQ73F23ZkLUEbVRl2NW13ZE8kKAOCogkElYVKm7Te3l63QQmlJNAfAcX6+5VC\\u002fEBteO0GAOA6uqiSIuP82fJwEPp8ne2K5b43VkqJBKCofmpN8JNVsovEsiCJACBxvJRQ39lNNDT5V34AAFx7R2TLdqqwQJabz14S\\u002fPizyOatAMB1dBF2m\\u002fmspcp3I9HYnNYLMmfYpz10OLR6LQAkn7lotyWT\\u002fOoYGfPZS0Ofr41s2Q4AfFd3+IsNhrmz5K+Nce4sCaTOv\\u002f+f3F++q\\u002f\\u002fsQKMaCEWCBEIgxHf38N09ibqGZK0Gmbo8Sg6KRjU0AhrnzY5s3RFevwkAuI5OZlw57ux7VFOj8qcQMRbDLSaOTfN0tMlBXvfjMoOV+Nnl269+ouTZRw8NvHSR57AkyVs812griIW7uUSEoI2h3kYAQBHMUzjzmKUEAKGe+pzyM8yO4r5h4tjlss7kNtoLnLmTfR0HcVIHAFw8ROvtST\\u002fnlTyU9m0zRpfJXuDMnYSiuCJEEBSn9JIooGjSKvwvl2GotyG\\u002f8iyzswQAelr3Khkmoj69xRvyNSULlb4Ek0MlJdBvzEYH9msAXHtH\\u002f3ZLK+7se3VJdNsOieP0UycBADO+AtPrIpu3KZYasA1NyrYYjaIMDQCYwYAZjYkkVaKhCTMZMbNJ3k3rJZMpQ5lEvXoUGLStTBDeLPOyxfl\\u002ffFr+Zz57KW61yFeOZE4229CUOhBoE9t7ILx+U9Z9d3juvcMwewZCJH1UNMnU5VFyUDJVQzsg7nJyzS2KimtvV7Y1Kn\\u002fKQFGmohTV6zFzmoUvxZNNH\\u002f2nuX53CADYmEikTLrLRxppPbxGkiQACUFQSRR72\\u002fcBQN3ut+VZ7YY97wJAe916gP7F5clCADi48Vl5I9B5WAIJJKn18OcIgrbUDnjeSu216TlFJQuzimYf2f6qM3eKzuQO+5XD8GUzVITxcHeop17OEAAOb3tVbkARRoMdSl987fuPTU71JxDsPpocIRMDPhYIogxtkiCE1200zpkVXrvRMGNK7MAhIZDmWj2V1M8xAMjf1QF3fxEAAOnYn6+0XjKZMpRRIigM2lZ6EASlSP877yefvgEcOxFDQLuM6ZGk3pdXBD\\u002f6VD9zmuWcZeali9p\\u002f\\u002fSchFFKbpZCpy6PloGSoxuABk5z6X4ynXflThShm+oV6AGjYHbr4vkLGiM+8yG20EWx84PmVfIbla98nSaJ88Cyuss6GTZLY1yVlQ0E1u5yKJIlK\\u002fQY1TqXt6DpX3tREzJ80Wh2HDCVJVH7MIjlDhYxCABiYQJ88xVgF4XEp22S2l0+aCg2tWUfmeKniQqaqMrJhiyIHABAlkCTA1H9YMsH7A0IoTObnKRIqP4\\u002f3+cXY4I\\u002fCamSYlhG2JUlsSyuR5RH8geR\\u002fspJtbSfzchGCGOhzDM1q8D5\\u002f4L2PWn74c4Qg9NOnqNXp0OjyaDgomaqhHZDv6iZzvIqK8Lj7tjQrPzrpbUu88ev6vZ\\u002f7UBT5v4cPqtXyGVawp17Z93UcULZPCYmor71ug0o43AwNqBkHKij2EAiVkKIIIAxisGCuHqE1IfV9aGRhXIpSCB2TIihg8sbASH0kJzBE6PJS4\\u002fw58YOHqMIC3ZRJvS++pqgEfyC6e5\\u002ftkgsljovu3pPkBJIg8N09hulTuJY2SZIklh3kT70kBT742HLeWXyPj21sJPPzjIvm+157U22WDo0M0zPStvwrP3R9+3qufWl0x25AENLrARSNbNoKAOE164zzZju\\u002fdV3gw0+EUBi321CKjO7sq0mmaugmTUAZmm1qFuMJMjcH1en4rq7kFjOh0eXRcFAyVkMzYOiL9bbLL04cPpqoq6dKiujyUiHYd7KpUflRS09L\\u002fLP\\u002f9Z+sqBjqxf\\u002fpBYXoJJAKiEoGMRzktrix\\u002fKDYSyM6F5bbJtTxEgcAXrw4KPa60FwRhJgQcWF9G+pYIyX42ed0SZH1ovMklg1+9Fl444A\\u002f2qHVX7jvvCX0xXqJ67\\u002flJNP97Iu2y5dnPXyvGIn4335P5ZhKaNUXIIiWc5fJN7z9b70rz78OinaGaRlZW7Hdezv\\u002f\\u002fh\\u002fzmUvMy86QBIHv7Ax8+Jms4n3+9t\\u002f8yXrB2a5bb0IIQvAHgh+vSvZNWw1J4I0L5+J2O4JhfG+v7613o7v2JntlQrvLp\\u002fygaFRDI2B4\\u002fSbcbrNedB5CktFde3yvvmFadoas0qj8KCS\\u002fyujvTJROMysSPiEe2OCPh9VXUV81GMSQjZd48WIXlosA4sWLXFieFy+yY1kUwsg2stCE2oqJCQBgPLZxXPA+9qD5zCVqaRJUfl7+H5+mCvPVipPFoBmOGNSgz\\u002f\\u002fj03RpsVpxqhm0y6f8oHydQVCYfr6reqHt4nsLZ13slv\\u002fNuyLrpl9VJJt9Nc+wYlK4lT8igYQAIoHUyh+VN5JtFGFI9AFASOwNi75kgy9L8hRpCrqpNVx7x9Dvx58QNDMcMfIPTAw6X3Nq0OzyqDgoX1ckETa93Vm90Lbj4+66nf33T3IrDElWX9EBCwDk4UkZpFSjVbJQ2+b4gpAkZjKS2VnGuTN7nntZrT59QRCmopzr6kYwzHLuMsEf4NoHWXc+evjKHpTTkD2re1V3s3Z8POBe0IABS29AY1HxVC\\u002fc\\u002fypD5ma7b71J5LjAh5\\u002fKy\\u002fm+IiCI9dILcZtV4nm2sbnzL\\u002f9K\\u002fqnUUc5X9qCchkgSUDqsdKo5HhGObAtIEuz7IsN1j9ODPfxzx7yluiH\\u002fqNoYJ4zU12oAAIBpQm7NP7+V9rqGzrJUPX3VjDe\\u002fN+2V2z3nTVLkGi6ZGJYLk2uf+uKts969d+rzt6p1wwzVR4a+pyVT65nkCiNJbFTylemIjN5C3PqX8Yuvyz73tvzrflymVie\\u002frcHfK7Y18wYTOnaGdcqp+eeNSIZVPxIvpr1yzbl2tiSK267\\u002f+87vPtO9esDKj0wuGgzdJdbUs+XKPx\\u002f+1ftqxTGGHkpGo++pZGo9kzyZ4SY2avnKdAQAyqabP3u29dP\\u002ftqz8U0M8IhCU5iehpIIcX0OppelAj410TrJ\\u002fMdtwseAuEul\\u002fUmQoyO0O2iiJ0IXMJBxRL8AbFDPuxBFSLT25kA7D7A8fGPqXVqbq11fnXDNbLT1ZOM8Yn+lcZliMrO+ZWs8kH2PU4sxjbnx6XHGNqWq+7aZfD7g\\u002fKNM\\u002fh2VzYGctNzTXc3u39z83QKE6HCEESYiLYQY1xMQwjhAUqsuhKzoSR\\u002f18pxV3RwQ\\u002fAkhECJhwZ0KMJMQoheowBJeFAKDDTARCBfluI+6QDQDAjLvMuIuV4jSiZ8V4XBywAEppFwGQG0UARRC0kJnYkTia3CgApG1XlHgMIeQlVybczopxVoyZcVdMDMfFMIYQGILrUFNcDKMIJrtgCI4huAiCnIASyoK7AaSw4OclNjnJQTGOy8q9fp6hzIPgaORIZ92fPo4c6QQAfbGr\\u002fLGL9j\\u002f6asm9Z+vLPJwvsvvO\\u002f7G9YZTEq397DZNrB4CZK++Vg2w452lJlCiXqfp31+ImRmL5jRf\\u002fLrmViX++ns6xYTRhGp+d+405ALD9xn\\u002fEW\\u002f0aLuaJebnXzzWUeiRRjDX17n\\u002f0Vc4fBYBMLpk6okGmUNNeuu3onz72Lp+qL\\u002fWwXaHG\\u002f3wunw9q9B0Asi+b7rloCm6kI4c76v\\u002fyabi2\\u002f3G54ZIpMZTEC289wzKtCDfSGE0IUbbzwz11f\\u002f4YMreeqS+QucIa0dKiUflMHTmt6W2Nf\\u002fTv5gmL7PEw\\u002f\\u002fwTtWp1MjYHdvG1poVn65OFpbppLrKgQj8HR8gCZgKF6gqYCSbcUWVYYMTtAFCmm+Yhi8Yb5ufTVU4yr1w3g0Do0mNCHCFthLeQmWgnsnPpCsUghxrnIguqDYsKmAlZVEmlfq7qVEtpt5ipkRulUB2N6uV2lUZxhEwOm9xuPl1FoToA8FIlchNGzGYjvNWGRQBgwV2V+jk2wpvsgiJYqW4agxrlBGR5Di2nugBDhn1Hlc62upZVUU4jYdGV3H\\u002fOhD9dJ8v1xa6Z79wz7ofLjRVe3EibJ+cnexkrvJnOMqwzime8fpdaCgAA1b+5JufqWWppOhfaa5317r25182lXCbSZrDPU88UpHHJ0BGFTOcyqaGmvXTb9NfutM4oxk1M9uUzZr59D2HWKdq0fXefNaHmn9\\u002fSl7hxE5Nz5czpr95BmPsW08lkaj2THNIllnPlzAl\\u002fug6jCQTHKn96edEdS2W5RuuZ+qJRYY1oaRm08qkdOa2ZsNg+44L+x6dS6f9kGM1oJCSWVg64IEIA6WIbg3w3jepbE4eyqBISoYN8NyvGQnyPbNLOHg3yXXrM0sU2+vlOPWZGjgkJhDLjztZEbQ\\u002fXwqBGxUCHmTvZej\\u002ffYcCsJELHxCCKJD2VmtRuL9cmN5oQo3Excqzd\\u002fvjJYZPbVUKZcIfchAl3GjEbceyKr4dr6eVak11ESZDP\\u002fuQEZHlCjFoJT5DvEaRh3\\u002faKt\\u002fg6P9yT6Apx\\u002fmjHyp36QpcyOYqSeNuKraH9rXwoHtjWMMDtBOO9dFpoX2vTf79IdAbZ3nDPmkNqixQ0OjICOj\\u002fa49t4hA\\u002fGWl7ZhGCornDAWyJS8V4+vem5dZHDHXww1vziBkAQ6\\u002fTjvyrVUJ4V3NkkxDmJFwLb6pWstFtP2xeNCmtHS+X4Vn7009Mc15u1ZnL6zxp6uoQvPo4e2D1g4JBAymeq9JilLVErgkghjJ\\u002fvAAAEQXPocc3x\\u002fsldP99RxEyiUN2h6CYX9J8ydLGNhczEuBjx8e2KAc6Rpbqp8rClx6yCxCkjhUxyuy4yX24UjrWbbNnLtaa2q8PMFsKNIGhTfF8H22AnsgWJI9AB03Op05R6zGLB3RhCNMX3KUIEEBKhYxBEEUyUhveIAGHR5Vw9y1yTj+koBEEQHEVQVBL6bmpEjg5yVXWC0OXbQ3szPquVFu2ODJdo3bHn\\u002fiRJTHCYTmvSEMExJtta9vD5ZQ+frwgptynJ5PgQa+oxTchFCUwSRGN1jnzlNWjrafuSqcKDRkvl+Fb+tGD+lVmTljn4hAgAv79pt0rbP2CFgyIANB4dUAsEoCG2W15RiQAqgdjJNgLAwcgGef77UHQTADTF9ysGKiEAHIisl9eUd0OzbNDNNfVwLfI2AgikLNpU2k1uFI61K4IIx+LHxFAP15rabg\\u002fXLLv4uDY\\u002f1w4AcrR62AUAfr5vsFCluiv8qUpeppu+N7LGS5YaMGuQH+R9BirG\\u002feBiPpLY9\\u002fDLbHfYWJld\\u002fdtrkrUSN7zh77iBIKmDtTbaHRkuYmIY56oIigAg+x95NbCz7zMAACfiG9v8wobxNflTX7yND8fDh9qbnlkDQ2g9fV8yVHjQaKkc38qPfloORZ44V+s5zf5LwglT6alzmPOvNCavw+pkG5WhxE5kNycOyUMDAMijRjKKKpVja8r7DZRtCaTUJeZKu6pGYZjtyihNDGqZSlN8XzZVFhfDwx2tUBI3Vma3rtjMdocBgMmxqi0yIH+CEfREnfrHGnuMZVlqaWZG3JERkNp3keXjrT5dsUtkeeWf9pd8ZFAeM+kwbrvhH9uu\\u002f\\u002fuhH7\\u002fFhxMw0tYzVXi40U5E5W0LK5N3Kbc5eTcZfblXLRoI6TB6Lp0pb2sYK01o2CRD0GjhRFN22YDJdIX+wSkYEBAUtqyNJa\\u002fDUq7FAKCba4oKgX7diURp92Q2mpaYGG6K7+8+dr42dESW53wR88R8BMcMZZ7sK\\u002fsO7aDE2\\u002fwSL9oXjsMYknQY1eovTeuKLaYJuTlXzSTtBsKqt80uxfRaa1lG3JERkLbvTc+ty75sum1mCW6gaa\\u002fFfe4kjNaa5hgZYoJDKWL6q3fM\\u002fvCBGW9+r\\u002fzxizCGhBG1rlHhYUU7vpU3VOQ4z6mhs+10jt157mT9uGxdiSfr6rlMvlORWGaWAoB1dhlpN+pLPQCgL82yn1FNZ9ssM0oBwDKjVDFmu0PyW+EUYzrXbl9SbZ5ektpEf8Bx2Y4zJ+pLs2wLK51nTzJU5iQnaXaRt\\u002f+1qmqBbfZyzyDLGuprufravhcYjnFcqH363aLblmRfNi1a333k1+9X\\u002fvwKtUU6+FD86O8\\u002fzL9hfvGdy+It\\u002fh23\\u002fAcACm89w7GwAjdQCI7NePN7QoQ98rsPfBuPqJ2TyOQSa+zZ\\u002f\\u002fhredfPzbl2jsQL0bqu4J6+4TiTi0ZHSu492zqzGNfTCI7OePN7QiRR+\\u002fOVgZ2NmUIpjmlJ2\\u002feuj\\u002feiFJF\\u002f80LaY+FDseCelq6P98j2mVrPJIcMfQzuaqp6+uqjv\\u002fvAt\\u002fGIJEqEmSn\\u002fwcWeCye3vLhBo\\u002fVMaFR4uNE0Kp+2IxoVNlTltL+ywXPZTExHcj0hY1Vux+ubYnWdsYYufVmWLGE7Avpx2QiGsT0hBMcAQJIk3EALcZbKsgAA5bVyvrBsHDnQN0+nGMebekwTC3yf72cKnKomAEC2MVRkd7y+yXPpTITA2l5Y675oWnhf\\u002f9lA4QTj+39v2r\\u002fOBwCXPVyc+jsUJ+q6Y4wxTiPME\\u002fPKHr1g82V\\u002fVCRlD52X6Ak3\\u002fGNVv9FpjmPpBEmSKLdFiCaEcBwz0B2vb8q5YVH3x7vMU4tlSdfKbSWPXXL4qddItznrslkdb21BMJT2WiVRQnAMEEh2D2476rlsVseKTSLHy8ZMvpOw6gNbjphqClVNAIBsQ+fYEBQFScLNuo43NrsvmtbxRv8bnG1Z1CUPFO38pIc2YFULbOtf7xA4addn8oKEgXiy8fnLdDfcZfkyzxJe96vqwskWtXTIzL8u794VM5feUqRWHA\\u002fGL3Ke8e0CtfTEkz\\u002fR\\u002fM3fTlRLR5TPV6k+N\\u002f99MmPKeDWUlpLpx2ESJy2U0zjr3XttM0sQDMV0pGNx5Yy37jZPzFPbne4oz2lqbKTQvyxuCMb9aBinSo5h9VDKy7Dkf1PPzbDqhSCRJefrVeuwhsuXHLAAYPYVOSfoC3mqyDRgjYyvXn2Gzh3\\u002fm6YWHT\\u002fs88sn\\u002fe2GmW\\u002ffM\\u002f21O6t\\u002fe419rno97RgnB8aIl023AKT5nXpInsPiWGn9Z7FYNOM9Cw3OvK1o3FyHvyNutPeNd7Muz6k5241gyJHNvvf\\u002fcCRVUjjZsvCGfIEVrV7m4Loe2SaV1DiXPVHhzNeROuzAF31eN\\u002f2lpnZjb2GNxeSk\\u002fvbtbZ4S\\u002fZKbCwVeMtpJX2v8uQd3SxLMvTp32kXe2g297\\u002fy6FgDyJ5pTbc6\\u002fv8yWTduzGZ2FWPHjg\\u002ftWqV8TfsH9ZSSDFdSYd3\\u002fcOWGZ+42fHKzd2JuaT8l065m3F4uCRDLYX2\\u002fcCgAGO3H9byeYHJSvLf7cA0PNJ7XvqaTapOZzguoTC3KpR1DVViLCL72lqGy2DQD2fdb12X8aAOCMbxfkVJqKp1n\\u002fcsPWttpw2l6oamjLZs74dmFOpemmv9QAwL9u2yGJ0pKbC8tm2RAU6W6KvvRo\\u002f9K5kdHz+cGezw+qpWOcXAb9XcJ+Rvx6GVeh\\u002fu6XZyAogmLIQytnF0622HOZ256ZKp\\u002f3ffffU\\u002fKqTKmSwsmW+9+chaAIgiJ3vzzDVdR3FzP5DCLVCwAwAgUAFEMe\\u002f2yerLrpLzVzrsqVXQAgf6L5sY\\u002fnycPz7c9O9ZT0vbFwyvlZ591TmskGI9CH3pkNAIyJuHdF+tsxF9xfNmGpa\\u002f51eWfeVlw2yyZHU+WDYshjH88zu\\u002fvvu6W2Jcu180nbdxhN9Ul7BFVtFU623Pz3yQgCCAI3\\u002f31y\\u002foT+m+g3\\u002f31yVqkB0vUitYYAfYVNljy0cnZ2hRFO5BKQMU4yNcsc5TMtVz5WAgBXPlZC0urBqP8MS369jNmKDff1Mo48pq02LImSBNB+OAIAnhKDI093y7+myAaUHjc6KZWE58Suuqj8aGt7bdiRy3QejRwL2UdqHJxCL364nNLhHCswRgJBEUmQAKBumy\\u002fZsXl\\u002fUL65EO7hKP2AtfsKKhuBEw9v8n3zdxMB4PNnG9XWxwj3cjozwSdELiHiFJqaj8lJRfxsoKP\\u002fAXJIaStZpaCysecyqr4PsAaAUVCftEcwuS13sb5pT0B+h2Tz3mBWuaFhV0DRyqT2Im0NU\\u002fnPHTsXfavAls2s+k\\u002f9vtXDWyU3xuhk0N8l7P8aeHPx1kY+v2R486AA0NMUyyo1yH\\u002flXIU6AGg\\u002fHPa1xf\\u002f27W2iIGE4Iopgy6ZVkoJJZneJHsUQSYKsMsMn\\u002f6xXhYV0ccbNtessxDPf26UzEzXneBRL1XnjUB6hSbUx2Mh3f3u4s049biYjDXyBa+kMmyqfUHdCbyWNDjLUzcKx6cXUtlJR2aT2PZVUm5Ncn7RHMLmttkPhCUvdchFyq0z7VquvsiFdL1AUVDWUJJAkIGgUQRF5iASA7qbYi4\\u002fs1ZmJB9+Z\\u002fYN5qwcEPYmgCCpKIgA4qfyuRINanYKFcEeFACvG1YokSJTOoSsaY3vk140cR+Rsh5hqWpT8zYQrygc4aZC\\u002fK8NC\\u002fl3CCYvsWr9LKJP2WcKh0HE0cnBdz53PT+ttjvU0xQCgpym2\\u002fuXmW\\u002f41RRIlBIF\\u002ffndHqgQAon7uG09XW7LofZ93d9ZFKB126RMVWaUGjEDdRfqVv61N9WrcHVj6ncJv\\u002f7Um2JVoOxhWZZIJFEOu+sl4d5GeMuCWLPrDPx9VWwBQehxB4dIfVEiiRDLY8w\\u002ft6WoY8HhjWlLzEXjp5cf3ffO3E3lOxHDkX7ftVPsMLZ\\u002fUviMojKr6QMoRVPsANOwMHNniu\\u002fWZqQgC+9f01O9Qn15Bup6ycUFVw1iQk0Rpx3sdd780vbcl\\u002fn\\u002ff24mgyG3\\u002fN4VnRQRF1j7fpA56Auh75REIcSHMYMaYEJJftZTLjG9PHPFzHVbCE+Hltx75zbgz3v\\u002fKI0IWAoCFcFkINyvGadzAirG4GFFCIYAymFEWsmJcBEF5P5IcDQCUBADAhDtYMcZJLIbgOswU4DqTnxhRskUAUeIjCFqkq2lPHElONTl+cqo6zEygVJDrkkBSuqPkLyA8huAC8CkddANAhPePbCBDMaS3re93CSldmrGo\\u002f+Jf\\u002fjt20iicbJl3Te5\\u002f792tVpwiFlyfz7Pi2heaAODc75V01kc3v9GqNvoak1qf7sbolzmC33tp+n\\u002fv2d3bElMrRitl+ukBvstO5hwKb8xlKlrjtV66tIdtyddVNUT3BPnuMsOMINftIHPDQm+ED9hJ75Ho9kJmQpDvcZC5B8LrPHQxJ8bdVGGQ70mIURuRVRvZlENXNMcPZNNlgiRwUkIWsmK8QDehLX44IUZzmcq4ELGTXgDEx7XJCbioAgkkG5HVkahzUQUdiaM9bEvabBNitDm230uXtsZrEUBKDdMaons8dLGc6oHwuiy6RInv5zpkoZlwmnBnkO\\u002fqYVuUBOJiJCaE3FTh4cjWuBgu0U9tiu3LpSuUDrqofEHiXVTBvtCaEbzdBADKZ1js2fS6Fe0AcN2Py5599JBqUOo\\u002fw3J6cIcL27dzJOPiV4B9q7su+0HFuLl2FEeifu7jf9SrLb7epNbHW943Wz8sSmbYlt1SiBFow67gaTRaAQAgSGeigUAoGjO0xA956TISZYJ8d0KMKc+ZtieOEChlwh310V0ogukxMyCILCRQSo+ZD8b2U6jOTDiBl6JCEAWsLXHYQxWTKIMAGhfDsjC5WR1maortQxHMTRUoCZhwR58xgvawzarRCqA\\u002f24jgz6JLSZSRX4giZ+uBYiWr5PiK0IQ7W+OHZJckg8L66C75NXOiJMTlXx1O6mCY93npstCI3sUkw5jwWLjPVxQBJ1EuMWA6o3\\u002fACvqFRWfr8oqJ91cM9VLiy1C3zV+3za+Wnjq66qN\\u002fvmGrWjrGMVLrM7IjeHhj7+GNvWrpaUKBrlqPWVsTh0RJpFGdj2sHABSwXKayKda\\u002frsLPtRfpJ1Oo7lB4g4sqUOQ9bEupfroeN3ck6gyYlZe4hBiVQDLh9m62iRVjdjJHFhpwm4VwAyBNsb09bIscLSFGlQQ6E3WyMSsmKDT9KwAVYzdVKKcKx7JNNlPis2L\\u002f348utrFIXxMTwg3R3YpBe+KInH8326zHLFbCgyNE8vCKICiB0lFhJO9ikjm4wX\\u002fLHyuduTRjwjECUY1WAxjxsoYxxvg6UGaYIb8KCQAQQMsMM5Bj7w5AEfV3RlGpUOQIIEo0hbRCOOaVnABkNpZRjFWpwvCy7e+vaiMt5YaZKILlMBUm3KHWDRmKwSpmW4snm+R7NSr6mx\\u002f71ZwxxtCgK9GgzGo7yJzm2IH+Vy2lrG7M9CIj7bcqpRXCMa\\u002fkBCCzsYxirEoVhpdtX\\u002fyktNNbyjTG9mbT5XFh2O9iSgbBINCZiIWErJL0b5jpQ\\u002ftZQsxqNp25QC3NDG63qkUDUQION\\u002fKJgyrMU4vGGGOMk4i7kLnnvxMuvrdQ\\u002fqdWq5Y1kBTyxUfR5DMs\\u002ffRJCE1xrR2Jw\\u002fXyaKufNglhKK6lPXGkbx2HYiOGI3R5CdvUIgmicdHs4Eef4w5bbOc+ZmKlFIvjTjvX1ilGo7JN4mijHFDwBeQNwuOUVbjDJgcEQSSyPRLLiglWjsN3dMk2IIGs4tq7qOJ8tqkVt1rkxBAMk9sCkAivh21qFWNxpqo8caQBJEk2ljie8LrZo40ITckbYoIl87MTdY1Kd5TWI5t29JVjjDHGOJFklejf\\u002fUvjgfV+teIY\\u002fWdT8rOERw6wSVrAnfbw5xupgv6HLTCbJfz5Rqq0f\\u002fBTbBCaFgJBqrSQbWrlmtu4lnbCaQcAwmnHbJZ47dHE0QbFRnFXUFRKQMLjlFhOjMSUOIqNotJPnSjG4mR+jpKY0hZVXBD+YhM9rkQ3uSr06Vq2oVkxBklCdYyYSCgbgj+A4DgkdUdpQp2oJm9tK1pw9pBun6U9kz0J5BWTr20s\\u002fOhQyavr0xwFDTIlPHEG88xH+WlnHE4Eo6rCx7HvGtmOoBWNaKOZxj2hpTfmyC9pSPuehv5uOT3YnY\\u002fZ5pwxYNJdSvSNX4TXTeZkkblelKEMc6aKof47iYoNXVKA6hgQJRBFzGQkPC4hEjXMmoIyNABIcTbZRgmobCgqJaAYi+N2C+\\u002fzK3EUG0XFNreiFJU40pCcmNyWEAjqZ04W\\u002fAG+vcu0dD5VmKsYIxgqhiN0aZGyQXhcRK6XzMtObV3ePe7834f5GDacz+BxovEIe8mMul880P8u2SGikTDPqx4BGBVoJHwcOV591852uK1oRxu1SBLs+rTXU6QjSJROt3C0H4JE7vmh\\u002faZ7Bpl7Mp4xV+N1NmlegpNqnCpRGKgyn3sGmZdtPmvRABWCqFUoCpkSUyTKMKyxMZABTQyZIf79d3jwVXWlp\\u002fAjtfQi47DOsE55wgqnS4WHxfHN9vhGO5mYHOTtf6t66OUaALjuJ2Up9zOT5rCMJpRNSN0dg6z4im7aobUiXlGlbiikShQGqoIfrsad9sCHqweoJEmtEkXIlJgiUWbmNDYGMqCJzBAE8r2nnIvPN8aj0gt\\u002f8yUSfS1WTKJvvMdeXk3hBHJkf+J3P+g6vC8BACSF\\u002fPHV3PwSEgA+OlgiGy8prxWFjC4a0V7fXPS7H3ReeqO1vJrqauP\\u002f8cvuz1aGNewzMXEG88tnsi+edjQS6qvGI7\\u002fxAMCP727XSNjtxf+0ItdsxdiEdO6EI8eCAQBMmsl86157WRUtilLjEfahG1p9PQIAoCjcdL9j2cVGsxXr7RY+XBH81696kh1TOQkV1s4qbV80+g4AV95sXf5Ni8mMHtqb+ONTXYd2ZzxYGtkCZKxwpoS1o41+iiebPvpPc81SBwCwMZEg0dTnn\\u002fuQf\\u002fl5\\u002fjKdWjGGJt+43fbS2sKyKsrpwZ\\u002f8c9anR0rlv\\u002f85BcRZl5pcWbjVjj30tPvvbw24BVlZQ6f+DdRwyaR6fXPRW9uLZi3Wm6zYVd+xfrC\\u002fxGLDNOwVUs+wnv00\\u002f7wrzfI2QSIrdxdPnt3\\u002fYUibsMysxfqVu4qTJdn5xEeHSm642+724nYXPj\\u002fphGjZxcbnVxfkFpIGE1pZQ0+ZM\\u002fjn7SRUWCMrjb5Aur4DwLlXmJ75KL90PGWyYtfcantrW5HZikHmgwUZslVIbUUjYRgs2skBQVAk9QRpMGxZ1Ld+Ne72v1fNvMj97d9UqNWp4Pip7OTpyAufF1x6o0XednvxVXV9X6dkqqbQH9eWJF+wDvqRSnVRSFa9vrnotkf75iZRFD6uLUkeZWTShkodsK6+xfqHV3Lk7TlL9C+uKRhiwqlfp3t+5Prdi32hVFxwjfn51QUOd\\u002f+p\\u002faCchAprZKXRF0jXdwB49tP8My4wKrtvbS866xITaB4s7WxTW9FIGFKiYQhBYnoCpfSkXbExkHYrkw0AspzE9CSmRxGMxg0AgCIYg5uUXQwhaNxIoLSetKts5OAAgKMkhRuUXRo3ZBkrcZREEBRHSQY3KW3JjkomKuzZ9KJrs2cv9xApL8OC5EvC\\u002fGKivIrKLyH+8StfksEYWmAY4vYSDYf75uk7Wnn22AWL1Y5de7ttymydzoiiCOA4gqKIIKRctCah4aKhqjvUd60nipCISToDqm2fifdeDd54r92bR7Q2cgvPNb7\\u002fWij1CnuI5JeSe7emf33Kh6+HZi7Sv\\u002fB5wZoPwi\\u002f\\u002f039gV3ozhZNTYY2sNPqSFoJAsvPJx37neex3\\u002fa\\u002f3cWf3fdHSHqwRoJFwKnrSmmOeeKh7tYlyR9i+S10KNwJIACCBZKLcBErpCAuKYCiKH+j61KkvFiXeQDoYwnyg69MsY2Uw0RFhe0yU22Mok4WyTYwL5Jgn7uv8KN8yhRViYbYry1i5r\\u002fOjOB8GkNyGMk5IEBjFi4lYOCi3ZaJcosTHwsEBWR6jp6XvbQ1mJxmID1i0AMl3CeXXy3zwev\\u002ftv9ORBWfQybtVE0mjKc1nYsJk0mIbICeI9H\\u002fcBgeRj3sfPN+389Rfs7Lzifuub7l8dt0Tt7f1W2RGw0VDFY+l+Ypq2GfC1y1s+DSy7GIjQSCzFus\\u002feC3952kooChkuqcVj4rfv6n1tkubEnHpj6\\u002flXHOrTW2RyomvsEZWGn1JC4ICgsCDN7QuG3dY+fe\\u002fP\\u002flkbdqDNQI0Ek7FyuQIIkfhBgNpVy7TopyPIcwAIMsTQiTC+Tgx3hk+IohchO0xks44H5J3BZELxNv6LPlwso0cHABiXDDK+WxMnryrJ+0G0hFMdOhISyjRaSSdSltRzifvarPwWq9alHyGVVRGkhSSlYs313MZpqGPA3POt65921c6UV+7M83rk748E6eS9XU8m5DaWgRGhzA6RP6DPHEKKUlQd5gPBcXqGnJCDRkOioXFeHur0NYi2OzojbcaP1wZ27WNJQikahIhy9XRUxAEqbOVyy8hN6+JAoDVgen0KACQFDJ+CnPfN1q623kAyClU\\u002f7SHwAMAoBgIxxrRcNFQpWW49grvvBS89fuOA7sStXsTbU0DXh2XmrAGDYfZcRMH\\u002fOVQcWh34ucPdGxeE33g5+7n\\u002ftyrVidxcioskzarQfuigk1ILQ1ccQW5cdUwPuGp2Q6FtAlDSrQG\\u002fzZZXtuzRrGJcYGWwG4AiLC9yXIEEAmkYKIzlOiSQJJ3W0N7ky1VNrKjbNMTbZB3I2xPbc8au66gJ1ofSnSFEl3JEYJx9aoaBIXl9xft+rTn\\u002fDvyeVYCAE8R8+Zv6lVm\\u002fWcZaX\\u002f5ecRkFVBnX+csrtaVTtKfcbmjuFpXPlm\\u002f9GqHt5C2uYmiKh0AzDnfuuRKR\\u002fkUQ+lE\\u002feLL7HPOt6qjjIjiUvzG7xoNBkTgYdZ8yu5Ez71YZ3egl1+rZ1lp+VV6pwutrCbMVpQgkDvuNwEAQSImMyoPbTZHv3wovPty8LJvWcuqKIcbv+Vhh3w7hk1Ivm6hZhZDEEh5NX3NrequtTVxPC8tPs\\u002fI6FCnB9d20VClZbj2CptWRxg9euG15vdeCahUqQlr8Mq\\u002f\\u002fBNnMNfeZnO4casDm7NUrzf2fdLmLNFPnMGYrZjVjo2fTKuGxbSchAprZKXRl0z89\\u002fc9V95snX2G3mhGvfnEBVebad0gLqnZaqORMAw5WtpHEZOeH5SSd5NR2Wggj1aQYpnqKInw2s+PEhS64pd1v79p9+9v2r3pnTTvp+3vzPH95efpZ1re\\u002fFsHAJx3o+udf3deeLMbEHjzbx0Xfsfd28HhJAIAnjzqtT+1n3uDKxwQ2IQUCQznj0sGUBQ+\\u002fyRhtqBuL37kENfVIQDAkUPcect1B\\u002fZyibhUUIj\\u002f+oWIw4WVlhMEiRjNKAB0tAm9PcKBvRwAVFYT3hxclg+FF\\u002f7my8olfv9STiwqPfvH3uz8vtmEn97XfteTrituttYdZH\\u002fxQOevn8tO9gr6hd882nnT\\u002ffa7f+RqaWC\\u002fdXajtouGKi0a9g\\u002f+wj3rDL3BhOI48u6e4khI\\u002fPHd7Ts2xABAFOC9V4KX3GB5MuUKK23Cd\\u002fzAufh8o8GEEgTy3t7iSFB8+pHODZ9GGg6zD3+r9cZ77NffaeN56ch+dveWVjmO2Ybd+qjT4cZ5Ttq\\u002fM\\u002f7kHeqGUjkJFdbIKlNfMvUdAD58PUQz6HcfcWTlEiG\\u002fuHtz7IMVg1xfp80WMreikbBGtNHPvi\\u002f6rp0BYPULfZ+ZZEY6cTMY05aY3XnUga0Rdx6JYYgkAU4gogiuHHLdSt9F33G\\u002f+0xX5XTDyv90nnuDq7OZzSmmt3zib6rVmjscCt+92xiLSgXFxI8f8efkYd+923RwH7d7B3vhZbrdO9gVL0SnzaYmTyPzi\\u002fDGOj7gF6fOou64oQcA7nvMXH+Ef\\u002fX5yDduMqAoKPKvGzc\\u002f6DCa0V99v1OtGGOMEw+KIZIkya+ToHRYInocTmKGCnrsrqqyGiPTsoxLbvMUVuouuqX\\u002frsqXAcXUK97vfthMUcjyq\\u002fQVVQQAYMdOK5UNGWXeXSX\\u002fOkCQiE6PTp6te2dncW6RenJnjDFODuUzLLOX940D1\\u002f24LO2ynlMPQaG5pXSmRShfHm82dtk1+tkLhjF1+nVj+gLdhwdKXllfuOTC\\u002fgVEX08YnR3DKbU0BRTFHa7xjK5\\u002fZdPpjsE0yDzDSWDSUkfNMoe8fe1TZQSV4RxHg3lzHnU5q9TSdCAnfjy0WApnTP\\u002feibuS\\u002ffKMqnKlRadzzp398ML5T82Z9ZBaNyJG\\u002f0EZCk5PtXzLP7dgvt7gVqtTQRC7syInf65aftoyrvoylUSpyUmDMeJ3PzNh2bdyLry74PqflavVyZPuX54Z0763cfPv+i5ATxiSKA5YlnPacnLKlUo02vXFup963JOKi85S60bK6X5QjKbsnIL5jM4R8NUBgCd7KoqRXe27QsHmvMKFKIp3tG4Lh9oAQQpLlqIo4e892tO1PxEPyGdYGE4pZmZrYXvrVoFP5BUtamlcl+yOE7rsvFk4Tgf9DYCgNGOlaHNb86ZEPKjI\\u002fb663MIFCCBtzZs4NpJXtAjDqUi4o6VhbbK731efWzAPJ5iWxnUWaxGjs8djPgyneS6qbDc3rMnUelfHHqXvBKErKFmaSAQlCQjSoIRFEUypScBXn6yKhNoV9+NLLMT\\u002f+Za9RTUmNi4c3Z7mTsVxGz4pyqTTDb4Y7Evi99dt2vJ7tfQ05OSU6+TwFTgooWBLNNTeVLc64KsHgN7ug0cOvuP21niypyYSQV9PbV7RIgCwO8qjkZ4jB1f2dO1Pdk82i4TbnZ4JBlO2ILAqdxTFdHrHkYMruzr20LQl6Ks\\u002fevDdnLw5yfLsvNmtjRuOHnovt2C+yZIf9Dd2d+xlEyGVO8eGWxrX+3vrHK5KvcHd3rpNlAQMJ5O3NVpPTt7tndzesrW1cT2K4slhVTVJViW7H3cSMWH\\u002fOt+RbcG0y3XTnGGhKFZWeoHbNVEQ2Mamz0Wxb62DyZRbVLDEaMxBUTQUbjtU+3Y43AYAKIpPqblFr3cCwML5P5SNV33+uCSJmVwAAEGQosJlHncNQehYNtzesf1o3UeyymopKixcYjJmS5IUjXbt3P0My4Zp2jKl5haC0Iki\\u002f\\u002fkXfa0o5OXOy8mZTeBMKNxae3hlKNQCAHNnf\\u002f9Q7du5OXOMRm8iETxS90Fn527FJW0rmUJpcHLKlUmVqY+Z7DNhsRROmnDDF+t+wvN9N2orKy4HgH37X4bMByvTQclkP5pJ\\u002fnawiZAocAiC4Dgdj\\u002flEkW88ugoAMJziuTTLQZPNwqG2cu9kRmdvrvvcmzcr2R0AEvH+swZB5EVRQFAsWY5hpCAkJElEUMzfe2TchCtC\\u002fqaWxnUqd7e3hiSN0UgXgqCiyEsiLwosAkjytir5ZPdkMJwUhIQgsABiclgYWBOV6gSRX2W0ZVF1u0Lf\\u002fm1FR130v98\\u002fpDJIM2Dl5c63WUu37fg7y0ZKS84lyb4llDwX7ejceeDgClESiovOqihfvnnrnwBAFPnNW\\u002f9oMuVOnfxd+YunhMrkAgBu1ySXs3r7zn+ybFinc+JY3zQnw9gnTrihoXH1vv0vi6JgNufL40g87l+7\\u002fmcO+zj5i5SMN2tqVtaU3bufjSf83qzpkybcsGHTbzguAgDlZRftP\\u002fBKINjozZpaOe5Sn++oLM\\u002fUikaoTJyccmmo0vZRwz4tfn9dPO53Oatb2zaDPKNsr9i993+yNtPBynRQMtmPZsLB5qLyc7ra+\\u002f+kAUBH67b84jPisd5QoBlC0Nt1sLTyIqM5NxRsiUW63NmTGZ09GukcaCbFoj0kZeS4qMpdRVbONADo7tibLGxr3lxYeqYgsF3tuzGcIkgDSRnN1oLe7gFfXVEUGJ0dxUiNx4a0W1foat+TX7w4GukWBE4VVqlJ0N8wlBa\\u002fPK58JtjNLrrW+9zjtTMvclMMlogNtrJh1sz7c3PmyNs0bVm88Ceps8hmc96iBU8lz7OaTLmLF\\u002f5EY\\u002fRVuWR7Z8yacR9FqReUl5ddOHnSt1VCBYd93Py5j6uEM6ff43ZNVHbnzXksyzMZAObO\\u002fn5pybmyEEGQRQueslqL5d1MrWQKpcHJKVcmlUYfFdKG8rgnqSbd8\\u002fMWTK65Wd52OCpmz7x\\u002f0IMlk3pQtO1HLSia5u83ACAIprGrMCx5bsF8nd6Z4QOAyPLicecRhA4AKa+6TG0CIJ+aDUra1lUgCKoca1XY5JoMscUvg7uAufOf1Tf8vBwArvlhKZby8hj1EUIQlKbMkWjfusF43C+KvLxNkoaCvIVWazGG0wggCIIhCKI93Gq4tHdst9vLZ824r6t7X1PTF8FQs+yi17kCwcYBUTRBUYxh7OMrrxhfeYUipGmLvBGO9M0OSpIkCJzypz5tK9qh0nLSyqWhSttHDftMtLVvLSpcwjC2WKzX5axua9+mXBNkOliZGK79KEE5diqkgb8JqtpVGJY8Fu2WL\\u002f3UCgAAST5SHa3bcgrmSZLQ0rhWbQIgDe2lfGlbV5Gchipsck2G2OKXoaM+9s979sdCPAB88Pcm4diD7grqAQsAVH+KlQ5Xj7+G5+M7dv0nkQiazXlTam5JNkuLhosgsLt2\\u002f9dozM7Jnjll8neO1n3S0LgKAABBBl47DwqCILBz1\\u002f\\u002f5\\u002fEcVkXIARKFvRklN+la0QmXmZJRLQ5W2jxr2mWDZcHfPQY+7pqFxlcM+bvOWPyiqjAcrA8O1P71AUAwkSZ5mkjfUFkOgu3OfWpRCONgaDqZ5PGVYIAgqZ6hsaPBlenS8iAZ5FEMQgN62NO\\u002fIVZ+RSpKYSPj1x25gkaQBwygAQFHcbM5ral6bSAQBQMc4kr3g2Bc7+RR3UBcACIVa9h94bd\\u002f+VwryF8mSaLTLaMwZaKWFKPLRWK\\u002fBkCWKvPJv0IqnbWUEoU5OuTRUaRmuvUJr22a3a4LVWhIKt8biPpU29WBpM1z7UwuGUyRjQjGCoI0AwJjcRkcBhlMoRiAIimIEqbOgOEnQRoIy2HMnAoC8objIERAUo41OnNQpjgRtlIUoiqMoTjJmjKBJxgwAfWExgqRNCILSBjsAItugKE7prAAgb+AEwxhdchMAoASUk5dbkf+p8rHnTkAxAkExR\\u002f5kpYNyuwAIipMYQROUQXZRunaqsHqoh16u+cE7U+\\u002f6V\\u002fX9z09Sq1MHLABobduamzPXaPRSlKmk6Gz5qyWKPMuGLZYiFMWMxuz8vIUqr3i8V5IEl6saw0iKMg\\u002fq4nBUWCyFBKEnSYPZlBeP98rypqa1VkthQf5CijKRpMHhqMTxQVao19d\\u002fmpc732Efh+MMw9iyvdMxbJCHSzK1MoJQJ6FcGqq0DNdeobe3FsPIbO+MtratyfJMBysTw7UfDXhK51m94\\u002fXW7JzKpQBAMmYUI2zZVUZHAU7pnQVTSdrEGBw5lUvZWEA+PZc3GKNTdpEjuAqnW7MqrN5K2VHWOvJqrFkVkiR6xy3MrTozq3Se1VuJ4qQc1lU43ewp95TOxXAKQJJtHPk1ems2ANhyqvTWbEkS9dZsuQkMp5SAcvJyK7bsam\\u002f5Qqu3MjkfnNQ78mokUSAZi9JBuV0AyV00y5k\\u002fxZZdJbsoXTtVFE82rfxzw+aVnb\\u002f55q7aLYHUKb40l4SNTZ8zjHXypJsFga1v+Ixh7LJ834FXy0ovyMudF4l0HDi4YtLEG5O9OC528NCbxYXLyksvisV65IU5Gi4EoSstPoeiTKIoBEPNe\\u002fa9KMsj0c6du\\u002f9bVLC0IH+xJInhcHsgUA8AZSXnuVwTcJxBUWzBvCd4Pn7g0Os9PQcBoL1jO4YRJcXnMIyV42KBQH1b+3alobRkamUEoU5OuTRUadGwrxh3icM+DsdpBMEWzPsBz8f37X9FvgqWJLGtfWtO9py9+17oj5X5YGU6KJnsRzNs1MfGgyZniSiwABAPd5vdpZIompzF0UC7yLPh3kZP6VxRYBmjizF5EASlDQ7G5CEoo+wiR2CMTkkUEASRHY3OIlFgJUmUREGSpETUHw206cxenGAkUZDD6q3ZOKkTBZbS2yKBNtkmEfVbsyp7W\\u002fbEgp1W7\\u002fhYsIMxuePhbjYWQHFSCSgnL7fCxYMAktGeNyAfk1sSBRQjkjsotwsAOElziQhOMrKL0jXtC4sTh68tkVWi62mOL\\u002f5Gdm6FHsNRnj01mQxC8UXfZRzDe5Sp7PJ7jHnj1NLhYymZWHb5PRNu\\u002feVwExgxI+jsSaO46MxxZReppV8jkmYk5WenBjxBNWC+8hgDhM6CqZ6S2TipO+aIDBACAII48moGhu1rpX+KQNV0ylNcAwICDMxBbTyQtNq0wlMAggJBowgKs5d7SqeZ1epUDJNrkndxmy15V6U9tRyvAUum4vrHRu0gchJAURzDKKu1eP7cx3W6oc55jTHG8aV6oa1sukXevuieQjzlxeX9l4R0QQHh9eJGI+FyMSUliZYWEATTvLmBVaskQZQluNNpnDWLa2sTotE+G1Ek3O5EQwNCknRhAdvSGq+rS4p\\u002fAkl9aeEYI8ZqKaquupbjIgdr34xGu9XqMcY48Thy6IJqI5cQKR2KoEhBtVFtkTxgUUVFgU8\\u002fNS9ejNIUHwzSRUXB1asTLa1sWzuVlytLJI4LrV9vXrw4frhWlsRqa1EdIyYS5hnT2bZ2MjdHY8CyVc5wTV6M4oQkCO2bPvAd3AIApoJK9\\u002fQzGXvWkTf+EmnL6Cuj9xTkLLoMJahwcy0cu4CnzI7sBZdQFqckCt07P+\\u002fevTatEKf1JZfd1bt3g61iOoLh7Rvf8x0cMLWsIjUCZOiCs2YRRlKk2WHILgZADr3wS0kSy664t3vXGvv4WRjF9O7b2LbhXcjQWYxi0hrr3HneeRchCMI4cvh4uHPrJ927vujP77jS03to1eePq6Wjg5ynH\\u002fe99FZk8w614hh0WZHtmuWtT\\u002fxK+UiMAMLjct97M6rXi+Fw8wM\\u002fVqtPCselI8cfBEnNZ9CDMgJiIV6SwGgjrR5eEuG1Xx7lOXW7\\u002fQOWGA4bpk1DCYIuLBSiMRBFSRRxk5FwuRQJQlPG6dPFcLhfgqJiJEIXF7OtrSjNJOrr+2OnEGk5cvjoHj4eoa3ukkvvlL\\u002ftwfp9wfp95Vc\\u002foLZOAUHQvDO\\u002f0bb2bf\\u002fhHXpPQckld8jS\\u002fLOvb\\u002fr0pVhnM0YxZVfeF+1sjnY2pgrZQDdldvDxyIHnfkbb3KWXfi\\u002fSepQN+dTNyKQN29GQtgsAYK+ec\\u002fSNvzZ++D+c1vPxCEYxpMmGEuSB535G6E3l1zzUe3BLwteZqbNpjb3zLurc8nGwfp+1fIq1fMqJG62+AkiCkPqlGhZce2fz\\u002fT\\u002fSz5xsXX62WncS+fIdOe54n7y39Ylfw3H5rQdNIgH+s\\u002f+1kgzqS7cCS6Z\\u002fwApt2tQ\\u002flB7b6F35LkhSoLMzVaVssM3NktwZFNXuFWV1OWsWIggiSYBRDIKifY5DgzBZcUbvP7wDACLt9YlANwCQRhtj9xae+y3FjLI4+Vg4VcgGugHAf2gbAMR7O2LdLTpPfqYBK23YaEdDpi6Em2tj3S0AwMcjikv3zjUAwEWCbKCb0JsTPq33DqcaozgpCTwAiAJ\\u002fEp6KOH2JHzra9sPfqKWnIaOwI5jFTHhcaukJI+LnIv7+lxWLKb8yOXBZgzK0D2ejf9DRHH1wWl9w9jcPvvh0wteJM4bx3\\u002fqh2mK49I2bIInC\\u002fv97KvlGLGm2pwpxWg8AgCbdiFFXI4l0YTW6ILJp\\u002fiYIbLxvSwIk5UaPilTj1i\\u002fezD\\u002fzG\\u002fGeNgTDWz5\\u002fPdl4lGOYPZUsyiM8LsLj6vrbs9ZLzsUd1s4\\u002f\\u002fh9b30QV5pkvXEbl5wCGcc1tvS+8wTb1L+amy4stF55J5meDKHHtnZ2\\u002f\\u002f7cQCgMA7rB6HryNzM8WfAHf6+9Ht+yU7XGbxfPQ7ahBJ3F80139l7Q5Tz\\u002fe+8IbpiXzUl1MZy4wLpqD6XVsY0vvy2+zDc2KVyYyuWTqC5nrdd7yjc7f\\u002f9t+\\u002fWVkQY4QDLf\\u002f9I9CIKiR1Qg6ghC47YoL6apyTK9DKFKMxyPrtva++Kbim0rub57oefY105kLydwsrq2z57+vsg3NdFmR666bmu\\u002f7oRjr+wQ6brwSAHqefdXz4G1ElgsA8v\\u002f8E1nVcOv3la952oOCYJjl4rP0M6egDB0\\u002fdLT3+df5rh7ZXqMvClYP9Z3fVzJG3N+RIBns51dsVxmkLMw6YaAkJUkSHwkCgL2672nhYcGFfEI8aimZBACMK4e0OACADfYm\\u002fF3OyYtkG8bhRTA8rVDetpVPBQDa5mbs3mhHgyxMJW2EL9+FYUHb3P7a7Ufe+Ovh1\\u002f4Q6xr8ezWq0E+f5Hvxzfi+Q67bb\\u002fC9\\u002fHZ0yy7T4jkAIESi0U072p76besjP+e6euzXXaq44C67666b4gcOtz72y5ZHfxF47zN5tAIA07IFgfc+bb7\\u002fR6HPNzpuuBwz6mU53+tvfuBHXX99VgmiYL92eaqLYe50w+xpXX9+pvmhn8T2HHB\\u002f7ybU0BcqExouGn3BLGbrpef6Xn2n+f4f9TzzihAIyvK0WcHwOwIA8je\\u002f9QdPN939g9i+Q5GN27VHKxnrZef5Xnqr5aGfsnVNzlu+ASgaP3SU7\\u002fXppk6UDRAcZyZVhtdtkTi+7Ue\\u002f6\\u002fjV3wCg4dbvN9zyUMMtDyWflKQ9KOYLlzHV4zp\\u002f\\u002f6+WR37GtXW477oJwfsvDjL1RWHQhaMpghMGG+zt2b22\\u002fOoHyq95UOI5NtA37uYuuarsinsosyNvydUll9yhc+cP9OtHEsWGD551T19Wcd2j9vGzQ\\u002fX7AQAkqW7lv\\u002fWegspvPj7+xie98y5CUDS9EEDkOYzWjbv24cLzvt28+lX5ejD\\u002frOvLrriX0Jvyz7qu5JI7aLs3U9hMXRg6Q+8sAAAgtorplTc8Pv7GJ0suuRPXpblpclwgKH12+aLUF5knX4carLk4wSQpB4Hv7GGb2+L7a4VAKHG0IXG0AbNZAIDv7A6v28L3+oVQOPz5BiInS1lkZFq6IHG0wf\\u002fWh3yvXwgEo9t2K9HC67fGdu0XI9Hgh6sBRYnsLEWVibQupjMXBFZ+zDa2iJFo4L3PAEBXPcjKGA0Xjb4gBB785IvE0UYxEo3vr1Wipc1Km0wuZEFu\\u002fNBRKcFKvBDfX0t6PQP90hNeuzlxtEEIhnyvrsTMJmZciSw0zJoiG9Djy8RILH7wyAC3dKQmhuCY6Yy5vhXvsY0tgj\\u002foe3UlQpPKUJjWJSkeAICvLWF2kskLR1UGAy8JTzCta99qXfuWvN257VN5o+njAYuqtYm01R18\\u002fhcqIRvsqVv5r0GFKEagONGx+aOOzR8lyxvefyZ5VyE1AmToQtf2z\\u002fotAABASMR2\\u002fvEeZffQy7+WN9J2Nq2x3ltsLZ+855+PSoIAADkLL7WWT01taCggKGa05SWivkTUT9ImFCcRBIlHehUhl4iIAo\\u002fiJE7qElEfhlMIiiIIll2+qKd5V6i3AcNJDCfldxPSBgdOMmFfM0iSzpwlCXws3KVuEkC+vpB4QYxGAUASBITAAQAzGsznLqbHlSI0haAIgmHKZCjhdSWOpD\\u002fn5Vra+7YkSWI5lFaPramkuiA4Rrgcjpuudtx0tWKG2a3KdiraLhp9AYDkS12F1KwGqNORyYXr6KJLixAcl0SRLilkm9sUFw34zr6\\u002fsmI8LgSCuNMOAJF1WywXnok7bXxXr37KhMi6Lf0zP5lJTQy32xCC4JRMRJFr7SCzPcq0bqrLMU0fR3cEG\\u002feFeU6cdZHn3b80pi5zP6kD1hhDB2f0ksDLnxuMpGl7Vrj5sNpoaBCUAUHQvPFn125+wVM8OxJotbjLWw+tVoSKpT1nQnfjdkdeTXfjdkAQnGDkQUoSRbO7LB7ppfV2gzUn7G8BCSzuMsbojgZa0w5Y\\u002fZ94ccBH3\\u002fnd68RYvOO3\\u002fxT8Aao43\\u002fPgbYoKQdBMs4oSy6lFg5HGBUEAoPP3\\u002f44f7K+kJKi\\u002fEgPQdNHoCwBIfJqX1aTJajAyuQTf\\u002fZS+uyTnl4+K0Xiivsn\\u002f5gdqi3QgmOqcRQIAIRiO7T6gnzkl+N6nzISKth\\u002f9bqBNelIT63tUKHm6duDUbaqLAooh2WX9V4hN+\\u002ftmA1SMDVijlGDdHmPeuPJrHpJEASTwH9oq3x4dAQZrDqWzyRd0CIL2NO8mSL3JUYhipOoqr6thizNvKkEZ2HgQALhEOOJvBQBR5LlYUA7V2biVi4cAINh1lDG6jbb8QNfglw8yCIFTxfnyNxwACHffWy5kuLYOqkD9Co3jiMTxfFcPmZMV23NArcuAhot2X04CmN2KW80tj\\u002f5CjETVuszgboe8gTI0ZjFxx2bEw2s2WS87l61vYpta+e5exV4enYd4Q5\\u002fv7pUSLJmT1RcBRYksV3hd39IfbXACmXqOE0GR8fOsBzf4SRp15DK\\u002fvWGX2ky1\\u002fxWGj0eSr7xGOZIoNn\\u002f2slo6Imi9HQY8LCYBAKWz8MfuS+pMbpO9AEHQjrr1JGMM9fRdlyEo5i6c2VG3gTG6jPYCFCeDXUdzyhcnov62I1\\u002fozB4AoPS2Y2EHR+J4IRSmy4sTtUeJ7CzT2YuStcGP12Q9frf5nMXhdVtAFKmi\\u002fPjBI8qtq+OC\\u002f52PbVdcwLZ1JGrrUL2OqSgNb9wmJVi1XRKZXLT7chKQWA4hidzfPAEAUoKN7T3U\\u002fZ8XtfsCAIY502J7D\\u002fEd3ZYLlgm+QPxA3x+b2N6D9muXGxfMCq\\u002fdnGzPd\\u002fdKgqCbNjG6bTeqYwRfIFmrRhQD76+yXHw23+sX\\u002fEHTWQsljo9u3qk2SwcbF1\\u002f\\u002fVd2ERfYD633yD9Zf8mARTiCqtaNfowHra0tr7ecIgrbWrgaAhj3vAkD70fUAoAijwY6DG5+VJZIo9rbtkx3rd70tz7vHQp2HNj0nC0O9jQiCSJIY9jVHgx1pXx+oQc9\\u002fXrJddZFp2QKutb3nmVfc99ysqLi2zq4\\u002f\\u002fsd8wZnm85aAILLNbfHauiTXNNiuvEA3bRLKMAiO5f3hR2Is1vPsitju\\u002fWq7Y0Q2bENJ0nrpubjDJkZiicN14fV9TzvYr7+cmVCB6mgEw3J\\u002f\\u002f5QUi3f\\u002f+8X4wSMaLhp9GS7D7QhKU577b+l9bkV0134QRcxocH73OtOiOYH3B5nlDH22znbZeUSOl2vr6Prrs\\u002f13\\u002fUQxvG6z8Yy5XX\\u002f\\u002fX7K9GIn2Pve69aKz7Ncs5zq7B10mFnjvU4QkXHd9C6XpxOG6zt\\u002f9M+2lcSa6mmIX3V1IMhilw7wlutSV7mOM0Y\\u002fVM4429F0yjDGaocuLc371g2SJ46arrJecmyxJJfc3T+imVKulx7AuP8d+7SVq6UnHU6RbeI139iUenSnN6ZT6ruHIII49VL1kiXraf+hMnkzYbOikiYTJ9KWyOi7JfD3xtR+Ih8eefD4N4Lt6UIZmJlYCiqI0rZ9eo5s4PnWibSggOI7SFD2uxDB\\u002fRvDjz9Xqk0770eiq51rXvdYeDaY5NUszhmngcqIGI5pISC0tQk4O1twsGAyIy4V941rd2+\\u002fEtm3jpk0jDx8WMAyOHOEnTiDa2oTOLtHlQnU6VBYCQEEBbrEgu3Zx1VV9BgBQU0NMmUxGowlGhyQSEgCovKZMISVJOnxYCAb7TmKVZBAE5EwwDCEIuO1Ww1CSCQVFpS96PaLTIXl5+I4dbNX4\\u002fqyURgVBkg327uUmTCBaWoSWFsHlRC1WFEXB75dMJgRFobaWFwSoqiJ6esS2tgFhBUGp4hhjfFn4Xn\\u002f3v16wXnSW8+ZrJJbj2ru6\\u002f\\u002fPiUBZPpUKXFztvvV4MR3qff4NrT3fDdzQxvAHrhhv1O3dy8+dRP\\u002f1Z8Lzz6BUrYsuXM2vXsmYzkjj2aEpVFb5wAXXwIH+0jr\\u002fwQuYPfwzfcIN+715u4QLqyR8GJ0wgJk4kd+3irrlG19oqyAZnn0X3+sTqCcTqzxMLFlDNzUJTk5DstXQJHY1JZ51JP\\u002fRw\\u002f5yfkkxHp\\u002fDCC9Hly5kVK2IYhgwxmWBQ2rSZlftSWopfdqnunZWxq6\\u002fuz2rRQkpptLKyz8BmQ3EcHnzQeOed\\u002fjvvNGAY0tjEz5hOtrWJjU2814tZLagowrXXkL\\u002f4ZaigAJO9hnCDZYwxhkd0667oVvVNNG2a7n5CLQKI7T3YeNv31dLRyvAGLAyDjz+OWyyoNwt75ZXYpZcydhu6ezfX3SPu3csBAILAypVxqxWtGk\\u002f8458RmkKKinAM6xNaLOjEieSrr0Q7u8QF843PPhuVDYqK8Od\\u002fHHS5UJaFjo6+L3ey16Fa\\u002fpLlzN69XDzePwmnJHP0KH\\u002fxxYzdhnZ2igAwxGTGVxJKXwBgzZrE2rXswgWUkpWqUdngzDPp3BzMbEIBoKtbjEakdevZiRPIo0f5devZkhK8uppoaREaGnmSRBQvJecxxhjjyzC82SJRhJtu0k+dQhytE3p6RLcL276dAwACR669pu9trfLasc1b2DvvMMycRcpjh7KK8NNP4rffYfjOd\\u002fQbNvYbrF2bePAB45zZVH4+Nm0qceEFjNGIJHvhONhsKMdL8iggoySzfTunZAJDTia5L3BseePatf2WqkZlg7w87NhTiel5\\u002f\\u002f241YoiCNLV1R92iEw\\u002f\\u002f0l79gS1NC2DPUr95TE5i2qW3T9wPcSXIEPCI2klQ6gTzbTzHnfkTlJLjzGSjqSDMbqmnvvYrIt\\u002fNvWcR9W6k8Xx6sup5+GHjfLjBwCA4\\u002fDww0b82LdXmepWUFQqEAQwDGCgQSZjmUe+b6Qo5OqrdNXVhCJUklFlAkNLJrkvySiWaRtNNsgEhvW\\u002fEmJYDH3Aqll2f\\u002f\\u002f7v08MJmfRpCXHbdlapoRH0EqmUCeaQQes4XZEA2fe5FM7YB3HvpxKpk0jle3Fi6jCwsG+u8eJnBzs2mt1CxcMuOunJDOyTJL7kpa0jZ5QhjhgkYx59iW\\u002fPCVf2pFxHBM+jqGGi\\u002faAdXw5tQPWaCblBGOMkwiCYkWTLnbkThIFtuXgKm\\u002fp\\u002fLqdb\\u002fW07DLa8nIrzzRYcxAUi\\u002fhb63a+IT8ig2J49cLbGaMLxQjlRV0bXn9YksRMLgAACJI\\u002f\\u002fmxn\\u002fhSc1HHxcFfj1sa978sas7NY9pIkMRbq2r\\u002f2X1wiTOks1YvuwEmdJPAb33qsL8gxsssWekrm4IQu4m+p3\\u002fVW2NcMANPOe\\u002fzojje8JfP01hw2Fmjc8153807QTDhjKxmy1QjV7zsQV\\u002f5Uoy2fMboYk\\u002fPghmfzq8+ldbb96\\u002f4T9jVplStDWaad93hb7RfWrApVHzN2JHNZIEMZFZx5k\\u002fOrztny7o+ShWldNDqit3jLZ163\\u002f4t\\u002flUy9XG\\u002fN4eLh3Z\\u002f9gY0HNbLK1JdMLiiGF0680OIZhxM6DCcFLt7ZuLVuxxuK46lH+R2LqYtNAzWnGaUTdWZ733nZyPpisuIX3+Jm9CP\\u002fa58zbsmUsx\\u002fRW7JJxlw+8xuzl\\u002f9CPsOiDQ5X\\u002flSKsRCUoWTqFRMW35XsZbTlp55laLg486ZMPushxuDECcZoyze7ShWXWRf\\u002fLLdyGaWzkLTJnj1gSaE1q2LGBU8lSwDAXTC9Ztn9eks2TupyyhdPP\\u002f9JgtIDwLTzHp9+\\u002fpPWrAqc1GWXLZx50U9kuUzahGVSW8mUrYxGqFRc+VNnXPCUzpxVOu3KGRc8ZbTnF066qHTalaBZrkxl0e5jakcgs0umMiqknmFlctHoiN7inXnRT8fNvsFoy8dJnVLJTFkppPYlk0tO+eIJi+\\u002fCcBJBscq53y6qWZ7sdSLIeOAtTsJbSDm8JAA4s0kAYPSot5C69n5v2SQ9AIybrPfkU94iCgCKq3UWJwEAVhehCJUItA61OPDyGr385lPFuLxGXzZJrzdhyQY4gVRM1Tu8pMVJ5JTQ+eU0iiHJ24WVjN1DAIAqrIziLicge5E0qgiVDHNKaIMFtzgJikGT+6JESI5vcxE2N4ETiMNLKqGCPp5LiJSu\\u002f6VRw8VVMK219vOIv4WNBep3va3MqMXD3Z0NWxIxP5cId9Rt1JuzBj0X1nDBcBIABD7Bc7FQb0Ogs1aWe0vnh3oamvZ9mIj62Xiwp6X\\u002f\\u002fVOZ8JYvbNr\\u002fccTfwrPR5oOfAoDVUyGrOhu2+Nr282y0pXY1gqA6k\\u002fpVR0MkU7YjIx7piQbaAp2H2f9v78zD26jOhf\\u002fOIo002jfLkuU9Thw7i+PEDgnZgCYhJJQ1lLWUpUso7X1u6dc+pXztB20pFEppuVAolL2llKXsCZCNQPbd2eM4cbzJsmzt0kia7fvj2GNZy1iOnRC4\\u002fj3+Y\\u002fSedz2aOZ45c2YUD4f7Tof7TlNqE8h2l0y3nEGNWU1kujEXuUxkCgEAnCDdzZ+Hfae5ZCy1J7NmJU9WE625ONTbwnNJUeCDPc20vjDdbKzJOfVz2betJ5pi0+fpXn3EPXeZcdN7\\u002fgXfNB3YGtboCTbRfxJeUaOuW6BrOx53tybmrTC+\\u002fdeeZbdYWw8zdQt0Lz7YJXnY9nFwzlLD1jUBURCX3GDp62bnrTC6WxOBXm72YsMzv+ooq1YvusqEFAw2BUFiN93jiIZ4HAdPR9LiiNcv1KPthVeRpw4zk2dp\\u002fvWn7sJSSrKS0jZYSGT+53tOX3uXHVmV93K97iQSShm2HGQcpcriiep3nvFItbz4YJdagyMPq1\\u002fplfwvvMqk1hKHtkcm1mmO7IogV1LQMwPDcIo2MuH+F70nYgGB71\\u002faq6C0rupLDAVVhILCAMNwAsMw6Wd+syJj4m3bbSysrl\\u002f2C1\\u002fnwa7mTRF\\u002fOzKh9XbpOed8wHBCrbFObLxxYuPgy6Eo2oQ2YqHBVx0JPEsoVJLOiMiV7ZnBsXEAEASOS8YAQBR49O5Zme6S6ZYzqDHTRL4bsyJjIlMIIhocvNSVyMxqSHM2spowYa\\u002feWo7jpCgKOmt51lhjS84BC8ex3RtCWiNhdSg2vO1bdJVZbyZPHmKCfdypIwwAAIZtXRPQmciyyeoPXvAqKNxZTuF4v1BrICQPRivZtCV8YGsEAOzF1Cev9SkoXEXjNQ3aU0eYZFwAAEmhcgptcylpHdF5Mh6PCYe2RYoqVYFeFm3feI\\u002fD52E97UlSiaVaSUjmACBZLbjSpDEQSChlqKLxS1Za\\u002fv1EtygO1qI1EGXVasmD5D+ZEGNhtnGxIeDlSqvVqHX0YIChdycgRLF\\u002fOXz1nFs5Nn74i2eTTFBnKZu66IeSTi5kTHgueXTLC1qTq7Bi7tRFP2w\\u002f\\u002fAn6Fw2Ajei3HTEMAwyObP570JvycqiBRbEjfQo6F7mzPSMGZ7iGVCrTXTLdcgY1ZprId2NWZExkC0FqWZ6xyMxqWLKadBxdVzv\\u002f+7OW\\u002f1+OZSL+jvZDH6drjDU5LwlFUVzxHVt1vcbdmgj5OFMB2bw\\u002fCgCkAlt8vWVABwDg2J7oNavstY0aNJBJg7vkodedlL6OA1vDSNnTntCZCJ4VFWiV04CCvVhJpFzipdFyIKYzkhgGgV4OUqwkspobLGSqUMrw1Ufdcy8zmgoUqcJUD5J\\u002fLin6e1ijheQ5UWotrlJNqtcs+KaJUufsRhlEUUgwAbXOjj4qKB16STFOkDpLaVfzpiQTBAB1xtPIaFxLnccZ1gQAIv6OE7v\\u002f3bzrX67J30ASJtyjMxUP1ZJD4Ll4pI82OASek\\u002f5k5rwlMhMelsxsEWfgKhP57hppt4yUM+jGXCbyhZwDKI1ZSRv2fPzwnjUPHd\\u002f+Kscy6RpjTc4zLAzg\\u002fRe8oiCKIhAExrPiznUhAHjxwU407\\u002f7qI10A8PE\\u002fewGAIDCeF9OEqR4k9n0ePrAlwvPiLT9zPn1fx8IrTMVVquP7opLC+y94CQJ77++Dv4jVf0I3sI0TmCiKogCpVhKp5m8+6UHCv\\u002fy0TRKmZggA\\u002f3jUnSbMTEBq2rE2CABSa3tz\\u002fI8\\u002fak1VGyme1h3Oqvmh3pNsPFw65TK01wo8x8YjBltlqPekxuAoqr44zSoe9YkCbyme7us8SChUSSYob2J21HIcw4Q8AJjOXBqP9iF5V\\u002fOmum\\u002f8xFV9SU\\u002frTlEUdZaSoLeFZ+XeP9V+ZG359G8yIU+o7xSpoA32qt62PTw3zFL+zITTNVLIlS1iRK5yId9dZ9AtI+UMujGXiUwh5wCBS+KEovHy+wGA5xIBz\\u002fETu17nuUS63tiRc8DatSEk\\u002fSjY9Hm6dW\\u002f6eK7\\u002fY+ZLatBolUaqh1SQ8pp\\u002f9F50tamnI3nyUPqonNWbRFafqWQ1zyrMhbyyfOuI6Dq2UUWbpyy8S+ATHUfWqbT9p67Nu16vqLuyaOKiWKi7ZfcbNfO\\u002fl2rFJWMn975dWruscsY18UjvvrWPyZuQFF02bYVSbRAFPuxvO779VSRnwj1HtrxQUrPUNfkbosDHgu5Q7ykAKJ9+hbW4jlSoMZyYfcVveTbesuctf\\u002fcRAPC27cZJRem0FSrazLGxUG+r9\\u002fRuKVAusiacK0qubGVcnQEy3ZWrW3KRq5B0vRRkunHCzOtMjhpSoZK8Ne98LehtyWUiU8gZMKJaCJKasnDVyT1v+buPiKKgUGonzbm1sHJu57EN6arjfIWg9eTTRxekS88J975VXzvfnC49J\\u002fz3i9OKJ2vThJf\\u002fqPShz2Y\\u002fuGF244oCSZhVMxf5KM+81HbvW\\u002fVPHpyfqZmP+YjIGiurEDHmCXyJGGyVDSv+X6pkYuONpVOXp0rGOd8prtHOWDJkKuHrPWBl1psLk4N6fPeF6K1so5uDyosH1zeOZmjIvy7IESur8OsEpTbOueohs6MGw3BCobIWz5h9xe8Mtsp0vTEl5yXhOGfG9IstiViW+zJfCvIrIcaE\\u002fOs1O6igN4neyiY7xXxekH9d\\u002f2tJMIHjO\\u002f9ZUnvpxNk3CzzLhHtO7PpX\\u002fr9IcmaMD1jDoDUpfv563RdvdM+9upBUYu\\u002f9uXX7ez1TF5kvW1Uq\\u002fY72Db+aEPaxm9\\u002fqvvmBqoo6PceK81Y6AOD+FbvQjBvPiYtvd81b6VDric1vdr\\u002f7p1YAKKnVfuu+CWYHFQtx7zx26sBGH60nf\\u002fmf+g2vds1bWUgbSElTpSGu\\u002fEn51EVmUokzYe4P1++LhbhMc5RMRZ3+pgeqVBri6NaANC7YStQ3\\u002fHpCQala4MV1L3V+9s+c62UuvLZwyZ3FShXOJYUPnmzb\\u002fq4HABbf7lJpSVuJamKDAcOxBy7fHQ2wJgeVtd6pi8wr7i4tmqh5\\u002fLYDJ3YHAUClIe76a63ZqTLaqftXNwDAn77TFPAkMjWRcmaxAJBVOWu2Wck0z9XbuerKvw+zkpkAomya7rp7KzEMK67RRnzJNX9r3\\u002fiPrsxYubLN1V2ZHqSIY0hfR1NfR1O6dJwvEa1J8fTRBXOvKQQAxwT68d0Xmh0UhsH9qxtKarUAQCrxR7fOMTv6n5G+9aFJi293pXpAl4SXrSoBAINN+fiuC+3laoomHv78gpoLTQBgK1H\\u002f4YsL7GXqrJoAcPMDVXc+NlmpwgEABcpqDgA4gT24vnHmMhsAVNTp\\u002f3p4Qe18M4bDL\\u002f9Tj7Kl9eSD6xvLp+sGskvHVqLWGBUAUFhJP7ZjLhIuvt316NY56AJHaxry7orMehG\\u002f+mDWhJmGVMmEmQY0WqWRpplZbCppylmzRWS9Iks1z9XbiLS65Pswa6yswsxu+dm\\u002f6qYuMgNA4+UFP35uKuSIlSvbrN2V1UN\\u002fvK8442dYebHzwx4AcJ+IdRyJVMzQ7\\u002frIu+6ljkU3Ol\\u002f+5fG6b1haD4R97mFu5W54tQsAgt5kTxtjKqQMNooJc4c3+wHA28Yc3RqonW\\u002fe9q4nU9Nzipl6keWJ7x5AK2xRoNIpukxzT2unpUilNSt3r\\u002fYCwMl9oZ42BgAsRSrXJO1dT9VKyRSU0af2h6WPqRRWqBff7sIwTASg9SROYOgk8di2APpty4g\\u002fywLCMSSzWBlyZZs\\u002fmb2drgEAI+zDEaFUEVxSBAAuKaCHzLLGQollZpu1u7J6GJNsv3SyDFj6KfWhg3vSpQOQeqO+doZva753LtVFpUzn6XRp3iiMZjbgg\\u002fz8SMq5kE9eJgRBYP2H6cBPkW99x7Ps+yW0npx7deGm192pyllhwlz\\u002flggYhoEoYJnv4gKATE0ADB9c1zrQJOYyTwU9tIRhGM8J9168Y9iDWWtSfO\\u002fPNb+7ak\\u002f3yZjOonhk8xypKR49RxM6WYrNgUy2+ZPZ21nJvw9HypsPt9zx6OTO41EFhb\\u002f+2xOQIxa6WZGZbdbuyurh68GQuzVqV5lx5lylxaYqLDLNmqcuLpc29LUzjPVz1K4yLhRAylKT0lJgnDlXXVRKl1Ya6marXWX6KfXG+jnq4nJSZ1A5XAAgSdRFpcYZs\\u002fVT6qWgKkexYdqs1KCSssrhsi5YShU4JD\\u002fGGbPNcy7ST6mXUZbykZokiZS8dtIUANBVT5WiSyEkiZQhAMy+wg4Ajgm0q1p7al8IANi4sO1dz0W3FDmr6Kb1g4sbmTBnKRr+yazTByMUjaNbeLYSdfVcIzpdysqhTf6l3y1WUDgAGO0UqcRzmfd1xqN+Fl0SltRqC0rVANDbwfScZpbc0X+B46rWkMrsd+lUGgJECHqTALDwBmd6czbyrDd\\u002fMotN1xjgDLLNn7S68u\\u002fDkVJYQe9a3fPn25seuXFf2+EIjDBW1u4akYevFkPOsOiSir4t6y1zL9bVzkj0uFWOYlKnRxs4SaImpqMVKUs6TEcrFwmpSyq4SIhpa0n6eunyqr7PPzXPXsC0n8IIAgAUJguS8HFGYFmeiaWEFXEVLSQThrrZ\\u002fbEoCin7d36R8HQmetwAgPxgBCkk4rhSKUXPVFY5S1A+GEmiplh7f4aDJ1CiSJdUAo5L0blwCIWQJAPpARsXNAbygY8bCBJ77f5m6cR7w6tdv\\u002f5w1uevu1P\\u002fj216zX3nY5N\\u002fv2F2JMD+7qqcJ6oJhn9y1aHr75tw82+qmAj\\u002fz183d5+Mof+imfz7wZZrflZx\\u002f5oGgsAiAfaxW\\u002fZHg1ymOQAIvPjcPUduemDiVfeUH93iP7jJBwCiAE\\u002fddei6X1T+fsNsQoF1n4w9+f1DA\\u002f+ph9DbEd\\u002f4Wtev3p+ZiPJb\\u002fuPxtmW\\u002fPkols95bH5pUNFFTUKK69fcTQ73smw+35LoYyaqZWSyXFHIpZ832u49PLihRGwqo7z4+OdSbfO2BE53Hopnmua7+EGl15erDrLGyCjMTQN2CYdjcqwtnLLbiBOZtjz9z9+FQXzIzVnp+A2TtrlzZfg0Ycg5sqGsEUVQYzck+L06p4u4OpdmKNnSTpiT9vQAQ72wzz73Yv\\u002f0zpdWOmujicj4eI9Q0F43ETh3nImHz7AW+7ZvMsxdEWo5a5l7i3\\u002fk5XVKBJGzAr7QWRI4fSnj7H\\u002f5WOUuUFhsIAmDYgMMypOzbvsl2yYrg\\u002fh0AgPyonCXoAT+BTeZS1lZORvmAKKImAAxJoi3HUPJxj9v1rds733iRsjtR9LinE4UADEeS0KG9AKA1KR7dOucH1ZsGu2kAlZZ45Is5D3xzdz4H9jjjZFLVYLj6pxV\\u002fvHkfenrkhl9P6G2Pf\\u002fp8R7peChRtSsT8AKAzlYT9benNQ5GUc6FUG2yuGZ3NG9MbACC\\u002fEJmMbYZpZFy0YwOTNBjev1oGw0EUTI0L\\u002fDs\\u002fT79cHtQZsBoOy\\u002fzF0ebDmsrqvs3rJCGG4\\u002f1Pq0sOB9tye5ZRzrQaKlFaCzRlVf5dmyE1+gCpklwDFobBirtLXdXav\\u002f4w53+\\u002fcfKBshsSniAAaCY5o8eGufsuKaehtOrMi2q739yW3nB+M2OJ9eJbiv70nSaBF9U68u5npqx\\u002fpfPYNorW2cO+NpxU6s2l0WAXpTYRJBULdws856i8sLP5M45lLI5a98kt9tJGUkkn48FYuCeXsijwBtuEaLBLRZtRE5uIIknYd7qoamFn82dmR63PfcjinJJgAig6zydRCK3JhSRMxIvSliRjleHgu2uGI+MaRDqqpbFAFAAgdGhP+hAw0ASQYjUcvq0blCZr2rT34HiRuaBQxrOMcqbVUInIsv7dW\\u002fq3M975kClJo2F5wXX3VvZ1xp\\u002f58eH0tnEy0FQ51CXWyNFOXKXQ1rhiLR5lgZ5QK5nTvSLLFVw+s\\u002fvtHXw4rqkqjB7rsi2dTujUbF+YaevNpcy09h855kU1qClyuAN9xeaFNQQ9IDnv2b+ur3ae6f7Vs3hWFEXY8UHP7tVerbGIVNA8lygobYiFurXGYoKk2o+tdU6Y727ZHA12ocMbwwkAwAmS5+I4obQWTc+lrDUVJ+MhvaUcx0nUFOprRZKwb\\u002fAuk95agWE4iCKKnoyHUAhJImlKkrHKcNDzcGQMWDngo5F00Rkhcpx0Mfglwgb96aIcRPxs5unVzg970EKHcfJBFEVCp+LjSevS6UyrVzPRQaiVXa9ttl\\u002fZ0PP+7tjJHjQAYSQBAJiC4GMJnFKYF9bIKCNUDhNqkoYnqkDvfmObY+UFX4kBS+DFV3\\u002fVnC7FcDYZ1VsrYkE3oVCFfK16SxlqEUVBQenUugIA0BicWmORKIroeQYZZb2lnEvGRFHg+f5BR5LQejutd2gMTn\\u002f3keoLvnNs+8u0wYGiR4NdKISUT2\\u002fHPmQ+5hlKr7EcloxLwnHGGWs0k5wqp0kURMCA1KiizW5tjcvzzk77lQ2ed3a6br+o99MmAHBcN8fz7i7tJIfICwDAx9lcyvH2\\u002ftuySGi\\u002fsiG095Rj5Zzut3eY5lcn3H4A6P2kKSWFrxgYhqN3DUkbqW1ZLiAAQF4502qoRK0rMNomuE9ugWx+ZCSZTVliDTAi5ax8fQYsqrS06Ec\\u002f7n7u2djRo+ltAPZv36p0FLY\\u002f\\u002fHB6w3mA6yf3KJ1OABDi8db7fpnePArOatUjShsjcDQMYTiW+kprALlddkTKCPuVDZ53d8nrjJMJRZsSTGBE\\u002faZUEzwn8uww8ydjS76XhOOcPTqfeILQaMzLl9OTJ6e35QFGENr6meGdO9IbzjIjShuNVgD9a1mHkPsgGZEywrfx0LA642Qyolt1AKAvUE1aVKDWKz5\\u002f\\u002fmSWr+ms8TVZTvaVRmSTXMAvxFLXpo0AqqTUtGRJuvTsM8q0zxJs4PzK52sJTmCVc6y0QYlhGafAZ5nxM6yvPPSkSemiccY5mwi8uPfdDo1JeY6vB2HMByycovQXztNMm6awWjGSZL3ewMYNkd27AUBVXm7\\u002f9q29b75p+9a3uGCw+\\u002fm\\u002fm5cvpyfXRA80eV9\\u002fHURRxhZh\\u002f\\u002fatQiIRO3jQdOmlCpuND4cje\\u002ff6P14j8lkecyN0OucPVok85\\u002f7b3\\u002fhIBABEjqdras3LlmXaDhva9ZN7Ivv2MseOW668gnIViywb2rbN99GHAFD2wG98H30Y2rYNAIr++yeUw3Hqvl+KyaTS4XDd89O2B38nRKPyzs8Y28rr6MmTCb0eACoe\\u002fSMSBtau9a1ZLenIVA0ApMFgvmy5enI1rqSSbrf\\u002f4zVDZgAxzHDhhbrGRoWtAEDkAoHQ9u3BjRsHFXIj45k0m0t+cW\\u002fvO\\u002f8Jbd4s6asrKx2r7up+4fnYoUPy5iD7ddhvu02IRGNHj5guXaawWjlfn\\u002f+TTyN79+Rji1A6neZll6nKyzGCSLS3+z5eE29pkVqp4mLzZcsplwtXqyWh5+WXok1NIOtcZh8b9tAYVgFG0WNnhs5GVV1oUxuUW145dS5PssZ4wBI5jq6ujh09kuzsBAwzLlxUcP0NbHd3orMTAAidTltf733rTdu1K52r7ooeOuhfvdpy5ZWRXbuYEyfkbRH05Ml0dXVg3Tq2r1c9cZLx4ouFOBNYv34wAwAAIPR656pVQoxxP\\u002feswPQvQycMetu11wbWr8+0zSe0ekKVrqEhtGVrYN06hdXKR6JInujoQHPPOEUpCwv5WExVXMy0tCidTj4W5Xw+jCCGdX5mBD7bGNy82XzpUspV7H7uOSTkw6FUHZmqcZp23v0jked9738gxGKaGTMK77iz++\\u002fPSTu67VvX62bODO\\u002fc6V+3HjiOKinhA1kWbWYi75nz+ZiWFt2shtQBSzurgQ+HmSNHhjVH5Po6AICuqaFKS4Mb1gvxhK6xseCmm\\u002fhwiDlxIh9bpcNRdPePkm5379tviRynra93fP8Hnuf\\u002fjkITWq3ju99jTrZ0\\u002fs8TuEJhveZa0mRqf\\u002fghaR+TcS6\\u002fj8kfGsMqjLLHzoB4iFPSZJLhzuVoBWM\\u002fYPF811NPSh8Tbe0l992nqqyUDs7gls3xlhZN7RS6pqbv\\u002ffdBEEzLlikK7MyJE8PaAgCh1bqfeZppbgaA2JEjqrIyuqYmdcASWZY0GByr7uICAc8LzwuJwdVuBK3JZZtPaFVlZccfH2V70heMJNrbVZUVAECVlrFeL9vrpUrLmJYWqsiVaGuH\\u002fJyfGSgZPhYTeT7Zld2bTNXGBQsJg6Hj4YfYvj4AiB4+pCwsNC29FO3lVEmJbtYs\\u002f9pP\\u002fWvWIFfRQwcH\\u002fcoi7xkAwju2F9x4k7KwMNndDQCYQqmZNi20dQtasjusOeT+OgCA0Om6nnqK9fYAQPTQwZJf3Gv8xuLUAUvG1nzpMiGZ7Hr6ryLLAkC0qcl5992WK6+KPfR7AFBVTsBp2vf++ygx\\u002f9pPC2+7nTSZk8zw+8mwu4HMoTGswih77AywlGl4VmAZfspSx8GPh39byVhxdifduYBfZFmC1kgSPhAAAD4W5fz+\\u002fqcC43FMoZAUJDJtAUBIJNCxh2B7vaTekNIOmELhuOuHbG9v93PPpo5WkIetRNbQyW531i870d6udDgBw1Tl5YmO9kRbu6q0FACUTmeivT1dO4fzs4dM1epJk5LuLrSLAwCIYvzUScrlwkgSANQTJwJAePv2\\u002ftaRIO8ZAKJNTQLD6GY1oI+aaVNxigrv6L\\u002fROaw55P46AIAPh9FoBQAgirHjxylX\\u002f3sLEDK26qqq2NEjaLRCRJuaFFarwmIBAJyiAEDkBp4j7r+yHnKKIeM8lczdYNhDQ0ZhlD12BgS7mabVXfs+6Ay4z+mDtGN8hgUYpmto1NbVKQoKCJoGksTwIWNi\\u002f5ctQuo+0b8abDhbAODDQ5\\u002f7FwGwIUvJrCuvI3Q6gWEg43cO5GzzCR3K\\u002fsqBRHsbTlGkyaQqL482NbE9HsOCBQBAOZ3BTZsA8nJ+9pCpmtBoSLNZmvySwNVqPhwmNBoA4IN5XQOmIe8ZAESOi+zdq505s++jD0EQdLMa4q2t0uE0rDnk\\u002fjoAgB9641KIRXGVCiNJaaDJZYuRJKZUCkOvldAEKK7RQF8fc+yoyCZNSy\\u002f1rf4IUygMiy5ivV7W4xmin8P5sLuB3KEBALIKo+yxM4AJ9ufQ0RQY0nCWGeMBy7x8uWHBwsDaT30ffciFQmIyWfab36Yr5SAv28znB4cS3rEj2rTf+cO7C2660fPSS0OW5OS2zSt0DrhgkA+HFTYb5XL1vfce19dL0DRVWorTdKK9DUbnfAzIXTXPxPjOmO+999LkaKWCEGMAgNDpuJGPWfKeEeGdO\\u002fRz59ITJybdbvWECd433pCa8jGXgUiZDgcAQqMRGGbwtCg3IscJiQSu1aYKCZ0OAIRoFAC4YNDz0kuFt9+hnTVLiDPxk6e63\\u002fh31ns+mZzV3WCUPfYVYowHLE1NbfzUKf8nn6CPlMuVdgYkw2hsJRKnW5Nut+eVlwvvuNN82XLfhx+ka2RjlKET7e10dTVgWLLbDYKQ7HZrZ8xAAxmM2vmwiMkkplSmS\\u002fOAOXZMP2du0t3Nx4acU\\u002fS3njhhWrpU19DoX\\u002ftpettwyHtGJNrbk263dkZ9wtYusmx0\\u002fz6pKR9zGQi9XlFQ0H++huPqqon5Txcyx47R1dWYQimySSTRTJ3G9vVJV1vaWQ3Rw4c9L7040uWpZ3U3GGWPfYUY4wEr6e5ST6rW1tWxPp+y0GGYPz\\u002f1Boo8o7FNgzl2rO\\u002ftt6zXrmS9PdLMiAyjDJ3oaNfNviDRdhrNLMRbT2unTY+3nUatwzjHcVylwlUqnKYBwxS2AiHO5HlGgIifPq2fe6Hl8stjx47hSiXr8yW7utKVshHYuFEzvc5x113Bzz\\u002fnAn5Co6FKSoQY4\\u002f\\u002fkYwCInzoZPXjAtHQpodczzcdFQVDa7YDjgbVrAYZJW96zRHjHDtPixaTJFNm\\u002fP3XCMU\\u002fzXAgMU3jHnYF1a4VoTDe7kTSbvf9+PV0pB77Vq4v+67+cq1YFv\\u002fhcZFlt\\u002fUxVaannpRclBVV5eXT\\u002ffgzH8zyxkhhmNxgdo+yxrxBjPGD1vvuu9WrCes21GEkmOjq8r\\u002f\\u002fLePEl6Uo5GI1tJqFt20ir1XrNtVxfH5OyjiYrowydaG83LVka3tE\\u002fPx0\\u002f3aqfO1eacZd3brhwnuWKK6SPxT\\u002f\\u002fOQCwfX3tv39QEsoT2bNHaSvQNjTo580XYrG+D97Pc8ASYrGuv\\u002fzZtHSpackSQqcTYrFkV1fgs42SQs\\u002fLLxsWLtLOnKlrbARBYH2+4KbPUJN82sN6RkT27DavWKGqqPCtHlw4Bnmb54Lt7Q1u+sy0ZAlptnC+vp5\\u002f\\u002fCP1FqE8rLen64m\\u002fmJcvt15zLYbjic4O97PPMsePSQrRfXsNCxehaUqR41iv1\\u002f\\u002fJx9EDBwZd5EB+Nxglo+yxrxsYhg+Z\\u002fcvGsDr2gmnpohQoylDqmp8uzY1eV5wuykGeniWHKpUJhss2F5TWDACWshnpDQMoaYOj9qJ06XlJahVaa0lKyyAjLSeXn1yk5pBnLPttt7l++n\\u002fSpWOE7fobXPf8VFtXp66sVFdW0jU1BTffUv6HR4ih015fD0qmGdNF5wFZzrAwDFepjMlEmCRViWSYwBVWS3Uw1C6CkEiE8tEhcIVCQccTIQARAAz6Eq2mkFLqdFqnQV8Sibh5gUUbFGUgSSoS9QRDbWhKQNJJslGzqTIc6cIxUq02R2NelcpIElQ02sMk\\u002fHqdMxRutxdMQxJBFLQaOy8kPT1NKENabUXmwVA78qzXFSOdeNyvoe2RqJvAlchzPBFADnXaouKiC9o6vqDV1iJHQzTaQ9M2BalOJEPdPfuR51xoLC77pHnuwxtVeltB1QWxoEfgkjpbWdTfxTFhQ1F1xHs62teO5j5ocxFqUlAaf\\u002ftBU8nURMSHJBiGq3QWJthDaUyEgooFujGcQBIQRbWxMObvwjBMbXQIXDLJhFATl4jpCyfEfJ1qYyFJ0clYECcUaIMJetI8R7ytKGfbhNlIJ9rXgcy5RBSlKlWRjPhoS3Gkt81SNoNQUKl1RXpOpZXDxaPID0aQQ6rI5gcEHlWBk0qURiLc118gTtAmp0KtkzxLsTSWYrXBHuk9HQ95B3v\\u002f7EPo9bpZszyvvJI63QaiqK2rI\\u002fQGdDPxS2f6ZQ6VhuxuDhMK3FJM95yMiCIUVmm7joRxArNXaVmGD3kTqCkWZCtnW7qOhOwTtLRBEfTEFSoCbZza5S+q1bc1Beouc1Aa0nMiIvAiMt\\u002f30blbdZXJkBurCIe9niQoR+FMs6lKqdAU2uuUSp3LObui9BKSoPLRKbTPUCp1aLQCAKOhrNO9gxdYu20qx8V1uiJpQ6Uydrp3Gg1lUnSpiSRViUTIqC+jKIM\\u002f2BoMtdEqS6d7p05XlEiEMIwAAEmioW2CwHJcXPIjmUsSScegL+nq3mUyVkqeJYeRqDsccUeiHhBF5BnHCY5PEMTws9oxX1fM38UEukVR7GneprUUW8rqODauNbtMJdM8R7+I9vVfJAKA1IThpNZaimGEJFFqjGHPyYi3Vakx9jRv0xVUSBJtQZn3xHZ94QSVwS7wLJdkpCZCQbFMSGevwAiSZ+M4qZQ2Mj1LaUg6krmUqlRFMhbEcQIAKJ01ra7MciQ\\u002fUizJKtOPVIWUhlSgrqCi5\\u002fgWgWMzY4Eokkq1wA5ZZHcOECIRPhIxLJhP19RSxcWqykrD\\u002fPnWa1cmPZ5k95d5DKdidKi2v9FePtNsKFSd3OU7vS9QWmfc8WZH5QVmW7mGjfNMiJWaKA0Z6omXzzSRSjwe4ZRqUtoIeuKEAgcASwm9\\u002fY1211SDZJ4e8tySZcASRF6lMomioFCoBZEXRIEkVYlkqLfvKM\\u002f33zqR1+H5ZCjcITlMslGHvZ7AFeGomySpYKhN2kCjXpKNaugCncau0zqkJqO+lCTVIggAgOJyA+9L1NA2ndah0zolCcfFVZQxHg\\u002f0hwSQzCXPkk4iGS60z0gkgjDgWXIoigKl1Glom+RZFEVRFNArE+URRUGh1qkMBcLAy2Rjvi6CpMLe1niop7BmocZaojYWqk1O2lwkNQU6DhZNXxroOChJAAC9jpZQqGyVjVw8IknYWMhaMTMZC\\u002fJJhtKYkrGA1KQrKCeUalEUQBRFQQBRlDYyPQ8yoCOZS6lKVagMBbTJqTG7MuvKLGcwjYFYMn4GqxhIQyqQi0eslQ04qciMBTjOJqI6eyVycs4QBcH9zNN8OGxbudL5ox877rxTN\\u002fuC6L697qeeRDdbzgdUGnLWVUURXwIAkjEeAMLeRP03nSFPIh7hTE51oDsuNZXXm2i9QuBFURBFQQQY3LCVa5zVuqIafSLWf28h1fy8A8NwAMAG5qTQhvQxfx2JQbWB9Zxoo7hobqbJoE5GUy7KSy7SaZ1lxQtThWnmqToynmWahifjRnVavakMKymsnp\\u002fpEEmcUxfT5iLHlIszm7KSGSsLA+b5KGfqDEpyp5HGMFXkzidTMg5i3i2lGJ7e\\u002f0hyyQ8qnZP1i+6syGzKh6zm\\u002f+tQKsbmCRUcJzV0gfx+nI\\u002fOeYVClXMqFydItbHwK1RLVr4eVZxXaM055y5ICrdP0OJEviNUGqM0H2ecccYZZ5xxxhnnfOX\\u002fA2i4nAxvVfDHAAAAAElFTkSuQmCC\",\"type\":\"image\",\"xaxis\":\"x\",\"yaxis\":\"y\",\"hovertemplate\":\"x: %{x}\\u003cbr\\u003ey: %{y}\\u003cbr\\u003ecolor: [%{z[0]}, %{z[1]}, %{z[2]}]\\u003cextra\\u003e\\u003c\\u002fextra\\u003e\"}],                        {\"template\":{\"data\":{\"histogram2dcontour\":[{\"type\":\"histogram2dcontour\",\"colorbar\":{\"outlinewidth\":0,\"ticks\":\"\"},\"colorscale\":[[0.0,\"#0d0887\"],[0.1111111111111111,\"#46039f\"],[0.2222222222222222,\"#7201a8\"],[0.3333333333333333,\"#9c179e\"],[0.4444444444444444,\"#bd3786\"],[0.5555555555555556,\"#d8576b\"],[0.6666666666666666,\"#ed7953\"],[0.7777777777777778,\"#fb9f3a\"],[0.8888888888888888,\"#fdca26\"],[1.0,\"#f0f921\"]]}],\"choropleth\":[{\"type\":\"choropleth\",\"colorbar\":{\"outlinewidth\":0,\"ticks\":\"\"}}],\"histogram2d\":[{\"type\":\"histogram2d\",\"colorbar\":{\"outlinewidth\":0,\"ticks\":\"\"},\"colorscale\":[[0.0,\"#0d0887\"],[0.1111111111111111,\"#46039f\"],[0.2222222222222222,\"#7201a8\"],[0.3333333333333333,\"#9c179e\"],[0.4444444444444444,\"#bd3786\"],[0.5555555555555556,\"#d8576b\"],[0.6666666666666666,\"#ed7953\"],[0.7777777777777778,\"#fb9f3a\"],[0.8888888888888888,\"#fdca26\"],[1.0,\"#f0f921\"]]}],\"heatmap\":[{\"type\":\"heatmap\",\"colorbar\":{\"outlinewidth\":0,\"ticks\":\"\"},\"colorscale\":[[0.0,\"#0d0887\"],[0.1111111111111111,\"#46039f\"],[0.2222222222222222,\"#7201a8\"],[0.3333333333333333,\"#9c179e\"],[0.4444444444444444,\"#bd3786\"],[0.5555555555555556,\"#d8576b\"],[0.6666666666666666,\"#ed7953\"],[0.7777777777777778,\"#fb9f3a\"],[0.8888888888888888,\"#fdca26\"],[1.0,\"#f0f921\"]]}],\"heatmapgl\":[{\"type\":\"heatmapgl\",\"colorbar\":{\"outlinewidth\":0,\"ticks\":\"\"},\"colorscale\":[[0.0,\"#0d0887\"],[0.1111111111111111,\"#46039f\"],[0.2222222222222222,\"#7201a8\"],[0.3333333333333333,\"#9c179e\"],[0.4444444444444444,\"#bd3786\"],[0.5555555555555556,\"#d8576b\"],[0.6666666666666666,\"#ed7953\"],[0.7777777777777778,\"#fb9f3a\"],[0.8888888888888888,\"#fdca26\"],[1.0,\"#f0f921\"]]}],\"contourcarpet\":[{\"type\":\"contourcarpet\",\"colorbar\":{\"outlinewidth\":0,\"ticks\":\"\"}}],\"contour\":[{\"type\":\"contour\",\"colorbar\":{\"outlinewidth\":0,\"ticks\":\"\"},\"colorscale\":[[0.0,\"#0d0887\"],[0.1111111111111111,\"#46039f\"],[0.2222222222222222,\"#7201a8\"],[0.3333333333333333,\"#9c179e\"],[0.4444444444444444,\"#bd3786\"],[0.5555555555555556,\"#d8576b\"],[0.6666666666666666,\"#ed7953\"],[0.7777777777777778,\"#fb9f3a\"],[0.8888888888888888,\"#fdca26\"],[1.0,\"#f0f921\"]]}],\"surface\":[{\"type\":\"surface\",\"colorbar\":{\"outlinewidth\":0,\"ticks\":\"\"},\"colorscale\":[[0.0,\"#0d0887\"],[0.1111111111111111,\"#46039f\"],[0.2222222222222222,\"#7201a8\"],[0.3333333333333333,\"#9c179e\"],[0.4444444444444444,\"#bd3786\"],[0.5555555555555556,\"#d8576b\"],[0.6666666666666666,\"#ed7953\"],[0.7777777777777778,\"#fb9f3a\"],[0.8888888888888888,\"#fdca26\"],[1.0,\"#f0f921\"]]}],\"mesh3d\":[{\"type\":\"mesh3d\",\"colorbar\":{\"outlinewidth\":0,\"ticks\":\"\"}}],\"scatter\":[{\"fillpattern\":{\"fillmode\":\"overlay\",\"size\":10,\"solidity\":0.2},\"type\":\"scatter\"}],\"parcoords\":[{\"type\":\"parcoords\",\"line\":{\"colorbar\":{\"outlinewidth\":0,\"ticks\":\"\"}}}],\"scatterpolargl\":[{\"type\":\"scatterpolargl\",\"marker\":{\"colorbar\":{\"outlinewidth\":0,\"ticks\":\"\"}}}],\"bar\":[{\"error_x\":{\"color\":\"#2a3f5f\"},\"error_y\":{\"color\":\"#2a3f5f\"},\"marker\":{\"line\":{\"color\":\"white\",\"width\":0.5},\"pattern\":{\"fillmode\":\"overlay\",\"size\":10,\"solidity\":0.2}},\"type\":\"bar\"}],\"scattergeo\":[{\"type\":\"scattergeo\",\"marker\":{\"colorbar\":{\"outlinewidth\":0,\"ticks\":\"\"}}}],\"scatterpolar\":[{\"type\":\"scatterpolar\",\"marker\":{\"colorbar\":{\"outlinewidth\":0,\"ticks\":\"\"}}}],\"histogram\":[{\"marker\":{\"pattern\":{\"fillmode\":\"overlay\",\"size\":10,\"solidity\":0.2}},\"type\":\"histogram\"}],\"scattergl\":[{\"type\":\"scattergl\",\"marker\":{\"colorbar\":{\"outlinewidth\":0,\"ticks\":\"\"}}}],\"scatter3d\":[{\"type\":\"scatter3d\",\"line\":{\"colorbar\":{\"outlinewidth\":0,\"ticks\":\"\"}},\"marker\":{\"colorbar\":{\"outlinewidth\":0,\"ticks\":\"\"}}}],\"scattermapbox\":[{\"type\":\"scattermapbox\",\"marker\":{\"colorbar\":{\"outlinewidth\":0,\"ticks\":\"\"}}}],\"scatterternary\":[{\"type\":\"scatterternary\",\"marker\":{\"colorbar\":{\"outlinewidth\":0,\"ticks\":\"\"}}}],\"scattercarpet\":[{\"type\":\"scattercarpet\",\"marker\":{\"colorbar\":{\"outlinewidth\":0,\"ticks\":\"\"}}}],\"carpet\":[{\"aaxis\":{\"endlinecolor\":\"#2a3f5f\",\"gridcolor\":\"#C8D4E3\",\"linecolor\":\"#C8D4E3\",\"minorgridcolor\":\"#C8D4E3\",\"startlinecolor\":\"#2a3f5f\"},\"baxis\":{\"endlinecolor\":\"#2a3f5f\",\"gridcolor\":\"#C8D4E3\",\"linecolor\":\"#C8D4E3\",\"minorgridcolor\":\"#C8D4E3\",\"startlinecolor\":\"#2a3f5f\"},\"type\":\"carpet\"}],\"table\":[{\"cells\":{\"fill\":{\"color\":\"#EBF0F8\"},\"line\":{\"color\":\"white\"}},\"header\":{\"fill\":{\"color\":\"#C8D4E3\"},\"line\":{\"color\":\"white\"}},\"type\":\"table\"}],\"barpolar\":[{\"marker\":{\"line\":{\"color\":\"white\",\"width\":0.5},\"pattern\":{\"fillmode\":\"overlay\",\"size\":10,\"solidity\":0.2}},\"type\":\"barpolar\"}],\"pie\":[{\"automargin\":true,\"type\":\"pie\"}]},\"layout\":{\"autotypenumbers\":\"strict\",\"colorway\":[\"#636efa\",\"#EF553B\",\"#00cc96\",\"#ab63fa\",\"#FFA15A\",\"#19d3f3\",\"#FF6692\",\"#B6E880\",\"#FF97FF\",\"#FECB52\"],\"font\":{\"color\":\"#2a3f5f\"},\"hovermode\":\"closest\",\"hoverlabel\":{\"align\":\"left\"},\"paper_bgcolor\":\"white\",\"plot_bgcolor\":\"white\",\"polar\":{\"bgcolor\":\"white\",\"angularaxis\":{\"gridcolor\":\"#EBF0F8\",\"linecolor\":\"#EBF0F8\",\"ticks\":\"\"},\"radialaxis\":{\"gridcolor\":\"#EBF0F8\",\"linecolor\":\"#EBF0F8\",\"ticks\":\"\"}},\"ternary\":{\"bgcolor\":\"white\",\"aaxis\":{\"gridcolor\":\"#DFE8F3\",\"linecolor\":\"#A2B1C6\",\"ticks\":\"\"},\"baxis\":{\"gridcolor\":\"#DFE8F3\",\"linecolor\":\"#A2B1C6\",\"ticks\":\"\"},\"caxis\":{\"gridcolor\":\"#DFE8F3\",\"linecolor\":\"#A2B1C6\",\"ticks\":\"\"}},\"coloraxis\":{\"colorbar\":{\"outlinewidth\":0,\"ticks\":\"\"}},\"colorscale\":{\"sequential\":[[0.0,\"#0d0887\"],[0.1111111111111111,\"#46039f\"],[0.2222222222222222,\"#7201a8\"],[0.3333333333333333,\"#9c179e\"],[0.4444444444444444,\"#bd3786\"],[0.5555555555555556,\"#d8576b\"],[0.6666666666666666,\"#ed7953\"],[0.7777777777777778,\"#fb9f3a\"],[0.8888888888888888,\"#fdca26\"],[1.0,\"#f0f921\"]],\"sequentialminus\":[[0.0,\"#0d0887\"],[0.1111111111111111,\"#46039f\"],[0.2222222222222222,\"#7201a8\"],[0.3333333333333333,\"#9c179e\"],[0.4444444444444444,\"#bd3786\"],[0.5555555555555556,\"#d8576b\"],[0.6666666666666666,\"#ed7953\"],[0.7777777777777778,\"#fb9f3a\"],[0.8888888888888888,\"#fdca26\"],[1.0,\"#f0f921\"]],\"diverging\":[[0,\"#8e0152\"],[0.1,\"#c51b7d\"],[0.2,\"#de77ae\"],[0.3,\"#f1b6da\"],[0.4,\"#fde0ef\"],[0.5,\"#f7f7f7\"],[0.6,\"#e6f5d0\"],[0.7,\"#b8e186\"],[0.8,\"#7fbc41\"],[0.9,\"#4d9221\"],[1,\"#276419\"]]},\"xaxis\":{\"gridcolor\":\"#EBF0F8\",\"linecolor\":\"#EBF0F8\",\"ticks\":\"\",\"title\":{\"standoff\":15},\"zerolinecolor\":\"#EBF0F8\",\"automargin\":true,\"zerolinewidth\":2},\"yaxis\":{\"gridcolor\":\"#EBF0F8\",\"linecolor\":\"#EBF0F8\",\"ticks\":\"\",\"title\":{\"standoff\":15},\"zerolinecolor\":\"#EBF0F8\",\"automargin\":true,\"zerolinewidth\":2},\"scene\":{\"xaxis\":{\"backgroundcolor\":\"white\",\"gridcolor\":\"#DFE8F3\",\"linecolor\":\"#EBF0F8\",\"showbackground\":true,\"ticks\":\"\",\"zerolinecolor\":\"#EBF0F8\",\"gridwidth\":2},\"yaxis\":{\"backgroundcolor\":\"white\",\"gridcolor\":\"#DFE8F3\",\"linecolor\":\"#EBF0F8\",\"showbackground\":true,\"ticks\":\"\",\"zerolinecolor\":\"#EBF0F8\",\"gridwidth\":2},\"zaxis\":{\"backgroundcolor\":\"white\",\"gridcolor\":\"#DFE8F3\",\"linecolor\":\"#EBF0F8\",\"showbackground\":true,\"ticks\":\"\",\"zerolinecolor\":\"#EBF0F8\",\"gridwidth\":2}},\"shapedefaults\":{\"line\":{\"color\":\"#2a3f5f\"}},\"annotationdefaults\":{\"arrowcolor\":\"#2a3f5f\",\"arrowhead\":0,\"arrowwidth\":1},\"geo\":{\"bgcolor\":\"white\",\"landcolor\":\"white\",\"subunitcolor\":\"#C8D4E3\",\"showland\":true,\"showlakes\":true,\"lakecolor\":\"white\"},\"title\":{\"x\":0.05},\"mapbox\":{\"style\":\"light\"}}},\"xaxis\":{\"anchor\":\"y\",\"domain\":[0.0,1.0]},\"yaxis\":{\"anchor\":\"x\",\"domain\":[0.0,1.0]},\"title\":{\"text\":\"Hashtags Word Cloud\"}},                        {\"responsive\": true}                    ).then(function(){\n",
              "                            \n",
              "var gd = document.getElementById('f743beba-730e-4312-97aa-07cbbede644a');\n",
              "var x = new MutationObserver(function (mutations, observer) {{\n",
              "        var display = window.getComputedStyle(gd).display;\n",
              "        if (!display || display === 'none') {{\n",
              "            console.log([gd, 'removed!']);\n",
              "            Plotly.purge(gd);\n",
              "            observer.disconnect();\n",
              "        }}\n",
              "}});\n",
              "\n",
              "// Listen for the removal of the full notebook cells\n",
              "var notebookContainer = gd.closest('#notebook-container');\n",
              "if (notebookContainer) {{\n",
              "    x.observe(notebookContainer, {childList: true});\n",
              "}}\n",
              "\n",
              "// Listen for the clearing of the current output cell\n",
              "var outputEl = gd.closest('.output');\n",
              "if (outputEl) {{\n",
              "    x.observe(outputEl, {childList: true});\n",
              "}}\n",
              "\n",
              "                        })                };                            </script>        </div>\n",
              "</body>\n",
              "</html>"
            ]
          },
          "metadata": {}
        }
      ]
    },
    {
      "cell_type": "markdown",
      "source": [
        " this code takes Instagram hashtag data, processes it to determine the frequency of each hashtag, and then visualizes this information in an engaging word cloud format, where more frequent hashtags appear larger. This allows to quickly grasp the most prominent topics and themes being used in your posts."
      ],
      "metadata": {
        "id": "GhfZSdUm2BbY"
      }
    },
    {
      "cell_type": "markdown",
      "source": [
        "let’s have a look at the distribution of engagement sources"
      ],
      "metadata": {
        "id": "yxPhEOkL01Ds"
      }
    },
    {
      "cell_type": "code",
      "source": [
        "engagement_metrics = ['Saves', 'Comments', 'Shares', 'Likes']\n",
        "engagement_counts = [data[metric].sum() for metric in engagement_metrics]\n",
        "\n",
        "colors = ['#FFB6C1', '#87CEFA', '#90EE90', '#FFDAB9']\n",
        "\n",
        "fig = px.pie(data_frame=data, names=engagement_metrics,\n",
        "             values=engagement_counts,\n",
        "             title='Engagement Sources',\n",
        "             color_discrete_sequence=colors)\n",
        "fig.show()"
      ],
      "metadata": {
        "colab": {
          "base_uri": "https://localhost:8080/",
          "height": 542
        },
        "id": "TEv1alDw0xzQ",
        "outputId": "54b4a91f-e621-4aba-c1ab-2ad25bfcc41c"
      },
      "execution_count": 16,
      "outputs": [
        {
          "output_type": "display_data",
          "data": {
            "text/html": [
              "<html>\n",
              "<head><meta charset=\"utf-8\" /></head>\n",
              "<body>\n",
              "    <div>            <script src=\"https://cdnjs.cloudflare.com/ajax/libs/mathjax/2.7.5/MathJax.js?config=TeX-AMS-MML_SVG\"></script><script type=\"text/javascript\">if (window.MathJax && window.MathJax.Hub && window.MathJax.Hub.Config) {window.MathJax.Hub.Config({SVG: {font: \"STIX-Web\"}});}</script>                <script type=\"text/javascript\">window.PlotlyConfig = {MathJaxConfig: 'local'};</script>\n",
              "        <script charset=\"utf-8\" src=\"https://cdn.plot.ly/plotly-2.35.2.min.js\"></script>                <div id=\"bcc6295c-a5af-42fa-a2db-86e614744571\" class=\"plotly-graph-div\" style=\"height:525px; width:100%;\"></div>            <script type=\"text/javascript\">                                    window.PLOTLYENV=window.PLOTLYENV || {};                                    if (document.getElementById(\"bcc6295c-a5af-42fa-a2db-86e614744571\")) {                    Plotly.newPlot(                        \"bcc6295c-a5af-42fa-a2db-86e614744571\",                        [{\"domain\":{\"x\":[0.0,1.0],\"y\":[0.0,1.0]},\"hovertemplate\":\"label=%{label}\\u003cbr\\u003evalue=%{value}\\u003cextra\\u003e\\u003c\\u002fextra\\u003e\",\"labels\":[\"Saves\",\"Comments\",\"Shares\",\"Likes\"],\"legendgroup\":\"\",\"name\":\"\",\"showlegend\":true,\"values\":[18244,793,1114,20680],\"type\":\"pie\"}],                        {\"template\":{\"data\":{\"histogram2dcontour\":[{\"type\":\"histogram2dcontour\",\"colorbar\":{\"outlinewidth\":0,\"ticks\":\"\"},\"colorscale\":[[0.0,\"#0d0887\"],[0.1111111111111111,\"#46039f\"],[0.2222222222222222,\"#7201a8\"],[0.3333333333333333,\"#9c179e\"],[0.4444444444444444,\"#bd3786\"],[0.5555555555555556,\"#d8576b\"],[0.6666666666666666,\"#ed7953\"],[0.7777777777777778,\"#fb9f3a\"],[0.8888888888888888,\"#fdca26\"],[1.0,\"#f0f921\"]]}],\"choropleth\":[{\"type\":\"choropleth\",\"colorbar\":{\"outlinewidth\":0,\"ticks\":\"\"}}],\"histogram2d\":[{\"type\":\"histogram2d\",\"colorbar\":{\"outlinewidth\":0,\"ticks\":\"\"},\"colorscale\":[[0.0,\"#0d0887\"],[0.1111111111111111,\"#46039f\"],[0.2222222222222222,\"#7201a8\"],[0.3333333333333333,\"#9c179e\"],[0.4444444444444444,\"#bd3786\"],[0.5555555555555556,\"#d8576b\"],[0.6666666666666666,\"#ed7953\"],[0.7777777777777778,\"#fb9f3a\"],[0.8888888888888888,\"#fdca26\"],[1.0,\"#f0f921\"]]}],\"heatmap\":[{\"type\":\"heatmap\",\"colorbar\":{\"outlinewidth\":0,\"ticks\":\"\"},\"colorscale\":[[0.0,\"#0d0887\"],[0.1111111111111111,\"#46039f\"],[0.2222222222222222,\"#7201a8\"],[0.3333333333333333,\"#9c179e\"],[0.4444444444444444,\"#bd3786\"],[0.5555555555555556,\"#d8576b\"],[0.6666666666666666,\"#ed7953\"],[0.7777777777777778,\"#fb9f3a\"],[0.8888888888888888,\"#fdca26\"],[1.0,\"#f0f921\"]]}],\"heatmapgl\":[{\"type\":\"heatmapgl\",\"colorbar\":{\"outlinewidth\":0,\"ticks\":\"\"},\"colorscale\":[[0.0,\"#0d0887\"],[0.1111111111111111,\"#46039f\"],[0.2222222222222222,\"#7201a8\"],[0.3333333333333333,\"#9c179e\"],[0.4444444444444444,\"#bd3786\"],[0.5555555555555556,\"#d8576b\"],[0.6666666666666666,\"#ed7953\"],[0.7777777777777778,\"#fb9f3a\"],[0.8888888888888888,\"#fdca26\"],[1.0,\"#f0f921\"]]}],\"contourcarpet\":[{\"type\":\"contourcarpet\",\"colorbar\":{\"outlinewidth\":0,\"ticks\":\"\"}}],\"contour\":[{\"type\":\"contour\",\"colorbar\":{\"outlinewidth\":0,\"ticks\":\"\"},\"colorscale\":[[0.0,\"#0d0887\"],[0.1111111111111111,\"#46039f\"],[0.2222222222222222,\"#7201a8\"],[0.3333333333333333,\"#9c179e\"],[0.4444444444444444,\"#bd3786\"],[0.5555555555555556,\"#d8576b\"],[0.6666666666666666,\"#ed7953\"],[0.7777777777777778,\"#fb9f3a\"],[0.8888888888888888,\"#fdca26\"],[1.0,\"#f0f921\"]]}],\"surface\":[{\"type\":\"surface\",\"colorbar\":{\"outlinewidth\":0,\"ticks\":\"\"},\"colorscale\":[[0.0,\"#0d0887\"],[0.1111111111111111,\"#46039f\"],[0.2222222222222222,\"#7201a8\"],[0.3333333333333333,\"#9c179e\"],[0.4444444444444444,\"#bd3786\"],[0.5555555555555556,\"#d8576b\"],[0.6666666666666666,\"#ed7953\"],[0.7777777777777778,\"#fb9f3a\"],[0.8888888888888888,\"#fdca26\"],[1.0,\"#f0f921\"]]}],\"mesh3d\":[{\"type\":\"mesh3d\",\"colorbar\":{\"outlinewidth\":0,\"ticks\":\"\"}}],\"scatter\":[{\"fillpattern\":{\"fillmode\":\"overlay\",\"size\":10,\"solidity\":0.2},\"type\":\"scatter\"}],\"parcoords\":[{\"type\":\"parcoords\",\"line\":{\"colorbar\":{\"outlinewidth\":0,\"ticks\":\"\"}}}],\"scatterpolargl\":[{\"type\":\"scatterpolargl\",\"marker\":{\"colorbar\":{\"outlinewidth\":0,\"ticks\":\"\"}}}],\"bar\":[{\"error_x\":{\"color\":\"#2a3f5f\"},\"error_y\":{\"color\":\"#2a3f5f\"},\"marker\":{\"line\":{\"color\":\"white\",\"width\":0.5},\"pattern\":{\"fillmode\":\"overlay\",\"size\":10,\"solidity\":0.2}},\"type\":\"bar\"}],\"scattergeo\":[{\"type\":\"scattergeo\",\"marker\":{\"colorbar\":{\"outlinewidth\":0,\"ticks\":\"\"}}}],\"scatterpolar\":[{\"type\":\"scatterpolar\",\"marker\":{\"colorbar\":{\"outlinewidth\":0,\"ticks\":\"\"}}}],\"histogram\":[{\"marker\":{\"pattern\":{\"fillmode\":\"overlay\",\"size\":10,\"solidity\":0.2}},\"type\":\"histogram\"}],\"scattergl\":[{\"type\":\"scattergl\",\"marker\":{\"colorbar\":{\"outlinewidth\":0,\"ticks\":\"\"}}}],\"scatter3d\":[{\"type\":\"scatter3d\",\"line\":{\"colorbar\":{\"outlinewidth\":0,\"ticks\":\"\"}},\"marker\":{\"colorbar\":{\"outlinewidth\":0,\"ticks\":\"\"}}}],\"scattermapbox\":[{\"type\":\"scattermapbox\",\"marker\":{\"colorbar\":{\"outlinewidth\":0,\"ticks\":\"\"}}}],\"scatterternary\":[{\"type\":\"scatterternary\",\"marker\":{\"colorbar\":{\"outlinewidth\":0,\"ticks\":\"\"}}}],\"scattercarpet\":[{\"type\":\"scattercarpet\",\"marker\":{\"colorbar\":{\"outlinewidth\":0,\"ticks\":\"\"}}}],\"carpet\":[{\"aaxis\":{\"endlinecolor\":\"#2a3f5f\",\"gridcolor\":\"#C8D4E3\",\"linecolor\":\"#C8D4E3\",\"minorgridcolor\":\"#C8D4E3\",\"startlinecolor\":\"#2a3f5f\"},\"baxis\":{\"endlinecolor\":\"#2a3f5f\",\"gridcolor\":\"#C8D4E3\",\"linecolor\":\"#C8D4E3\",\"minorgridcolor\":\"#C8D4E3\",\"startlinecolor\":\"#2a3f5f\"},\"type\":\"carpet\"}],\"table\":[{\"cells\":{\"fill\":{\"color\":\"#EBF0F8\"},\"line\":{\"color\":\"white\"}},\"header\":{\"fill\":{\"color\":\"#C8D4E3\"},\"line\":{\"color\":\"white\"}},\"type\":\"table\"}],\"barpolar\":[{\"marker\":{\"line\":{\"color\":\"white\",\"width\":0.5},\"pattern\":{\"fillmode\":\"overlay\",\"size\":10,\"solidity\":0.2}},\"type\":\"barpolar\"}],\"pie\":[{\"automargin\":true,\"type\":\"pie\"}]},\"layout\":{\"autotypenumbers\":\"strict\",\"colorway\":[\"#636efa\",\"#EF553B\",\"#00cc96\",\"#ab63fa\",\"#FFA15A\",\"#19d3f3\",\"#FF6692\",\"#B6E880\",\"#FF97FF\",\"#FECB52\"],\"font\":{\"color\":\"#2a3f5f\"},\"hovermode\":\"closest\",\"hoverlabel\":{\"align\":\"left\"},\"paper_bgcolor\":\"white\",\"plot_bgcolor\":\"white\",\"polar\":{\"bgcolor\":\"white\",\"angularaxis\":{\"gridcolor\":\"#EBF0F8\",\"linecolor\":\"#EBF0F8\",\"ticks\":\"\"},\"radialaxis\":{\"gridcolor\":\"#EBF0F8\",\"linecolor\":\"#EBF0F8\",\"ticks\":\"\"}},\"ternary\":{\"bgcolor\":\"white\",\"aaxis\":{\"gridcolor\":\"#DFE8F3\",\"linecolor\":\"#A2B1C6\",\"ticks\":\"\"},\"baxis\":{\"gridcolor\":\"#DFE8F3\",\"linecolor\":\"#A2B1C6\",\"ticks\":\"\"},\"caxis\":{\"gridcolor\":\"#DFE8F3\",\"linecolor\":\"#A2B1C6\",\"ticks\":\"\"}},\"coloraxis\":{\"colorbar\":{\"outlinewidth\":0,\"ticks\":\"\"}},\"colorscale\":{\"sequential\":[[0.0,\"#0d0887\"],[0.1111111111111111,\"#46039f\"],[0.2222222222222222,\"#7201a8\"],[0.3333333333333333,\"#9c179e\"],[0.4444444444444444,\"#bd3786\"],[0.5555555555555556,\"#d8576b\"],[0.6666666666666666,\"#ed7953\"],[0.7777777777777778,\"#fb9f3a\"],[0.8888888888888888,\"#fdca26\"],[1.0,\"#f0f921\"]],\"sequentialminus\":[[0.0,\"#0d0887\"],[0.1111111111111111,\"#46039f\"],[0.2222222222222222,\"#7201a8\"],[0.3333333333333333,\"#9c179e\"],[0.4444444444444444,\"#bd3786\"],[0.5555555555555556,\"#d8576b\"],[0.6666666666666666,\"#ed7953\"],[0.7777777777777778,\"#fb9f3a\"],[0.8888888888888888,\"#fdca26\"],[1.0,\"#f0f921\"]],\"diverging\":[[0,\"#8e0152\"],[0.1,\"#c51b7d\"],[0.2,\"#de77ae\"],[0.3,\"#f1b6da\"],[0.4,\"#fde0ef\"],[0.5,\"#f7f7f7\"],[0.6,\"#e6f5d0\"],[0.7,\"#b8e186\"],[0.8,\"#7fbc41\"],[0.9,\"#4d9221\"],[1,\"#276419\"]]},\"xaxis\":{\"gridcolor\":\"#EBF0F8\",\"linecolor\":\"#EBF0F8\",\"ticks\":\"\",\"title\":{\"standoff\":15},\"zerolinecolor\":\"#EBF0F8\",\"automargin\":true,\"zerolinewidth\":2},\"yaxis\":{\"gridcolor\":\"#EBF0F8\",\"linecolor\":\"#EBF0F8\",\"ticks\":\"\",\"title\":{\"standoff\":15},\"zerolinecolor\":\"#EBF0F8\",\"automargin\":true,\"zerolinewidth\":2},\"scene\":{\"xaxis\":{\"backgroundcolor\":\"white\",\"gridcolor\":\"#DFE8F3\",\"linecolor\":\"#EBF0F8\",\"showbackground\":true,\"ticks\":\"\",\"zerolinecolor\":\"#EBF0F8\",\"gridwidth\":2},\"yaxis\":{\"backgroundcolor\":\"white\",\"gridcolor\":\"#DFE8F3\",\"linecolor\":\"#EBF0F8\",\"showbackground\":true,\"ticks\":\"\",\"zerolinecolor\":\"#EBF0F8\",\"gridwidth\":2},\"zaxis\":{\"backgroundcolor\":\"white\",\"gridcolor\":\"#DFE8F3\",\"linecolor\":\"#EBF0F8\",\"showbackground\":true,\"ticks\":\"\",\"zerolinecolor\":\"#EBF0F8\",\"gridwidth\":2}},\"shapedefaults\":{\"line\":{\"color\":\"#2a3f5f\"}},\"annotationdefaults\":{\"arrowcolor\":\"#2a3f5f\",\"arrowhead\":0,\"arrowwidth\":1},\"geo\":{\"bgcolor\":\"white\",\"landcolor\":\"white\",\"subunitcolor\":\"#C8D4E3\",\"showland\":true,\"showlakes\":true,\"lakecolor\":\"white\"},\"title\":{\"x\":0.05},\"mapbox\":{\"style\":\"light\"}}},\"legend\":{\"tracegroupgap\":0},\"title\":{\"text\":\"Engagement Sources\"},\"piecolorway\":[\"#FFB6C1\",\"#87CEFA\",\"#90EE90\",\"#FFDAB9\"]},                        {\"responsive\": true}                    ).then(function(){\n",
              "                            \n",
              "var gd = document.getElementById('bcc6295c-a5af-42fa-a2db-86e614744571');\n",
              "var x = new MutationObserver(function (mutations, observer) {{\n",
              "        var display = window.getComputedStyle(gd).display;\n",
              "        if (!display || display === 'none') {{\n",
              "            console.log([gd, 'removed!']);\n",
              "            Plotly.purge(gd);\n",
              "            observer.disconnect();\n",
              "        }}\n",
              "}});\n",
              "\n",
              "// Listen for the removal of the full notebook cells\n",
              "var notebookContainer = gd.closest('#notebook-container');\n",
              "if (notebookContainer) {{\n",
              "    x.observe(notebookContainer, {childList: true});\n",
              "}}\n",
              "\n",
              "// Listen for the clearing of the current output cell\n",
              "var outputEl = gd.closest('.output');\n",
              "if (outputEl) {{\n",
              "    x.observe(outputEl, {childList: true});\n",
              "}}\n",
              "\n",
              "                        })                };                            </script>        </div>\n",
              "</body>\n",
              "</html>"
            ]
          },
          "metadata": {}
        }
      ]
    },
    {
      "cell_type": "markdown",
      "source": [
        " this code takes Instagram data, calculates the total engagement for different types of interactions, and then presents this information in a user-friendly pie chart using the Plotly library. This allows for a clear and concise understanding of the distribution of engagement sources for your Instagram post"
      ],
      "metadata": {
        "id": "_DbFLV162pgd"
      }
    },
    {
      "cell_type": "markdown",
      "source": [
        "Now let’s explore the hashtags column in detail. Each post contains different combinations of hashtags, which impacts reach on Instagram. So let’s have a look at the distribution of hashtags to see which hashtag is used the most in all the posts:\n"
      ],
      "metadata": {
        "id": "wCOenkEB0xCl"
      }
    },
    {
      "cell_type": "code",
      "source": [
        "# Create a list to store all hashtags\n",
        "all_hashtags = []\n",
        "\n",
        "# Iterate through each row in the 'Hashtags' column\n",
        "for row in data['Hashtags']:\n",
        "    hashtags = str(row).split()\n",
        "    hashtags = [tag.strip() for tag in hashtags]\n",
        "    all_hashtags.extend(hashtags)\n",
        "\n",
        "# Create a pandas DataFrame to store the hashtag distribution\n",
        "hashtag_distribution = pd.Series(all_hashtags).value_counts().reset_index()\n",
        "hashtag_distribution.columns = ['Hashtag', 'Count']\n",
        "\n",
        "fig = px.bar(hashtag_distribution, x='Hashtag',\n",
        "             y='Count', title='Distribution of Hashtags')\n",
        "fig.show()"
      ],
      "metadata": {
        "colab": {
          "base_uri": "https://localhost:8080/",
          "height": 542
        },
        "id": "Kdksc481ryO-",
        "outputId": "67efc0b0-bfd3-4c22-d10b-583801c85dfe"
      },
      "execution_count": 17,
      "outputs": [
        {
          "output_type": "display_data",
          "data": {
            "text/html": [
              "<html>\n",
              "<head><meta charset=\"utf-8\" /></head>\n",
              "<body>\n",
              "    <div>            <script src=\"https://cdnjs.cloudflare.com/ajax/libs/mathjax/2.7.5/MathJax.js?config=TeX-AMS-MML_SVG\"></script><script type=\"text/javascript\">if (window.MathJax && window.MathJax.Hub && window.MathJax.Hub.Config) {window.MathJax.Hub.Config({SVG: {font: \"STIX-Web\"}});}</script>                <script type=\"text/javascript\">window.PlotlyConfig = {MathJaxConfig: 'local'};</script>\n",
              "        <script charset=\"utf-8\" src=\"https://cdn.plot.ly/plotly-2.35.2.min.js\"></script>                <div id=\"cd63d8aa-40bb-4fdf-8307-40bd4b0c5f30\" class=\"plotly-graph-div\" style=\"height:525px; width:100%;\"></div>            <script type=\"text/javascript\">                                    window.PLOTLYENV=window.PLOTLYENV || {};                                    if (document.getElementById(\"cd63d8aa-40bb-4fdf-8307-40bd4b0c5f30\")) {                    Plotly.newPlot(                        \"cd63d8aa-40bb-4fdf-8307-40bd4b0c5f30\",                        [{\"alignmentgroup\":\"True\",\"hovertemplate\":\"Hashtag=%{x}\\u003cbr\\u003eCount=%{y}\\u003cextra\\u003e\\u003c\\u002fextra\\u003e\",\"legendgroup\":\"\",\"marker\":{\"color\":\"#636efa\",\"pattern\":{\"shape\":\"\"}},\"name\":\"\",\"offsetgroup\":\"\",\"orientation\":\"v\",\"showlegend\":false,\"textposition\":\"auto\",\"x\":[\"#thecleverprogrammer\",\"#amankharwal\",\"#python\",\"#machinelearning\",\"#pythonprogramming\",\"#datascience\",\"#ai\",\"#pythonprojects\",\"#artificialintelligence\",\"#data\",\"#dataanalytics\",\"#datascientist\",\"#pythoncode\",\"#dataanalysis\",\"#deeplearning\",\"#datascienceprojects\",\"#machinelearningprojects\",\"#programming\",\"#technology\",\"#coding\",\"#tech\",\"#computerscience\",\"#bigdata\",\"#pythonlearning\",\"#pythoncoding\",\"#pythondeveloper\",\"#datavisualization\",\"#pythonprogrammer\",\"#analytics\",\"#business\",\"#statistics\",\"#machinelearningalgorithms\",\"#dataanalyst\",\"#webdevelopment\",\"#algorithm\",\"#software\",\"#naturallanguageprocessing\",\"#algorithms\",\"#nlp\",\"#neuralnetwork\",\"#ml\",\"#database\",\"#javascript\",\"#code\",\"#coder\",\"#programmer\",\"#java\",\"#softwaredeveloper\",\"#codinglife\",\"#sentimentanalysis\",\"#sentiment\",\"#webdeveloper\",\"#css\",\"#html\",\"#machinelearningmodels\",\"#developer\",\"#timeseriesanalysis\",\"#iot\",\"#analysis\",\"#timeseriesmalaysia\",\"#businessintelligence\",\"#datasciencejobs\",\"#datasciencetraining\",\"#datascienceeducation\",\"#datasciencecourse\",\"#datamining\",\"#time\",\"#timeseries\",\"#php\",\"#programminglife\",\"#hacking\",\"#programmingmemes\",\"#programmers\",\"#neuralnetworks\",\"#webdesign\",\"#dataviz\",\"#linux\",\"#casestudy\",\"#businessmodel\",\"#zomato\",\"#money\",\"#interview\",\"#finance\",\"#powerbi\",\"#tensorflow\",\"#job\",\"#artificialintelligenceai\",\"#investing\",\"#trading\",\"#stockmarket\",\"#healthcare\",\"#health\",\"#covid\",\"#investment\",\"#cryptocurrency\",\"#bitcoin\",\"#dataanalysisprojects\",\"#businessanalytics\",\"#python3\",\"#roadmap\",\"#codinginterview\",\"#pythonprogramminglanguage\",\"#otp\",\"#innovation\",\"#recommendationsystem\",\"#recommendations\",\"#recommended\",\"#otpverification\",\"#projects\",\"#casestudies\",\"#amazonfinds\",\"#security\",\"#cybersecurity\",\"#network\",\"#internet\",\"#cloud\",\"#recommendation\",\"#careergoals\",\"#jobsearch\",\"#work\",\"#tableau\",\"#stocks\",\"#forex\",\"#candlestick\",\"#candlestickcharts\",\"#career\",\"#jobs\",\"#stressdetection\",\"#education\",\"#success\",\"#motivation\",\"#clustering\",\"#careerdevelopment\",\"#careeradvice\",\"#digitalmarketing\",\"#media\",\"#socialmedia\",\"#IT\",\"#marketing\",\"#students\",\"#resume\",\"#goals\",\"#careers\",\"#stress\",\"#sql\",\"#pythonbooks\",\"#mysql\",\"#softskills\",\"#instagramreach\",\"#instagram\",\"#ukraine\",\"#pythonprogram\",\"#whatsapp\",\"@codergallery\",\"#google\",\"#news\",\"#flipkart\",\"#bookstagram\",\"#alexnet\",\"#bigdataanalytics\",\"#qrcodes\",\"#datascienceinterview\",\"#facebook\",\"#boxplots\"],\"xaxis\":\"x\",\"y\":[117,117,109,97,95,94,91,90,89,88,87,83,78,77,75,43,43,26,25,24,23,21,20,19,19,19,19,19,16,16,14,13,12,10,9,9,9,9,9,8,8,7,7,7,7,7,7,7,7,7,7,7,7,7,7,7,6,6,6,6,6,6,6,6,6,6,6,6,5,5,5,5,5,5,5,5,5,4,4,4,4,4,4,4,4,4,4,4,3,3,3,3,3,3,3,3,3,3,2,2,2,2,2,2,2,2,2,2,2,2,2,2,2,2,2,2,2,2,2,2,2,2,2,2,2,2,2,2,2,2,2,2,2,2,2,2,2,2,2,2,2,2,2,2,1,1,1,1,1,1,1,1,1,1,1,1,1,1,1,1,1,1,1,1],\"yaxis\":\"y\",\"type\":\"bar\"}],                        {\"template\":{\"data\":{\"histogram2dcontour\":[{\"type\":\"histogram2dcontour\",\"colorbar\":{\"outlinewidth\":0,\"ticks\":\"\"},\"colorscale\":[[0.0,\"#0d0887\"],[0.1111111111111111,\"#46039f\"],[0.2222222222222222,\"#7201a8\"],[0.3333333333333333,\"#9c179e\"],[0.4444444444444444,\"#bd3786\"],[0.5555555555555556,\"#d8576b\"],[0.6666666666666666,\"#ed7953\"],[0.7777777777777778,\"#fb9f3a\"],[0.8888888888888888,\"#fdca26\"],[1.0,\"#f0f921\"]]}],\"choropleth\":[{\"type\":\"choropleth\",\"colorbar\":{\"outlinewidth\":0,\"ticks\":\"\"}}],\"histogram2d\":[{\"type\":\"histogram2d\",\"colorbar\":{\"outlinewidth\":0,\"ticks\":\"\"},\"colorscale\":[[0.0,\"#0d0887\"],[0.1111111111111111,\"#46039f\"],[0.2222222222222222,\"#7201a8\"],[0.3333333333333333,\"#9c179e\"],[0.4444444444444444,\"#bd3786\"],[0.5555555555555556,\"#d8576b\"],[0.6666666666666666,\"#ed7953\"],[0.7777777777777778,\"#fb9f3a\"],[0.8888888888888888,\"#fdca26\"],[1.0,\"#f0f921\"]]}],\"heatmap\":[{\"type\":\"heatmap\",\"colorbar\":{\"outlinewidth\":0,\"ticks\":\"\"},\"colorscale\":[[0.0,\"#0d0887\"],[0.1111111111111111,\"#46039f\"],[0.2222222222222222,\"#7201a8\"],[0.3333333333333333,\"#9c179e\"],[0.4444444444444444,\"#bd3786\"],[0.5555555555555556,\"#d8576b\"],[0.6666666666666666,\"#ed7953\"],[0.7777777777777778,\"#fb9f3a\"],[0.8888888888888888,\"#fdca26\"],[1.0,\"#f0f921\"]]}],\"heatmapgl\":[{\"type\":\"heatmapgl\",\"colorbar\":{\"outlinewidth\":0,\"ticks\":\"\"},\"colorscale\":[[0.0,\"#0d0887\"],[0.1111111111111111,\"#46039f\"],[0.2222222222222222,\"#7201a8\"],[0.3333333333333333,\"#9c179e\"],[0.4444444444444444,\"#bd3786\"],[0.5555555555555556,\"#d8576b\"],[0.6666666666666666,\"#ed7953\"],[0.7777777777777778,\"#fb9f3a\"],[0.8888888888888888,\"#fdca26\"],[1.0,\"#f0f921\"]]}],\"contourcarpet\":[{\"type\":\"contourcarpet\",\"colorbar\":{\"outlinewidth\":0,\"ticks\":\"\"}}],\"contour\":[{\"type\":\"contour\",\"colorbar\":{\"outlinewidth\":0,\"ticks\":\"\"},\"colorscale\":[[0.0,\"#0d0887\"],[0.1111111111111111,\"#46039f\"],[0.2222222222222222,\"#7201a8\"],[0.3333333333333333,\"#9c179e\"],[0.4444444444444444,\"#bd3786\"],[0.5555555555555556,\"#d8576b\"],[0.6666666666666666,\"#ed7953\"],[0.7777777777777778,\"#fb9f3a\"],[0.8888888888888888,\"#fdca26\"],[1.0,\"#f0f921\"]]}],\"surface\":[{\"type\":\"surface\",\"colorbar\":{\"outlinewidth\":0,\"ticks\":\"\"},\"colorscale\":[[0.0,\"#0d0887\"],[0.1111111111111111,\"#46039f\"],[0.2222222222222222,\"#7201a8\"],[0.3333333333333333,\"#9c179e\"],[0.4444444444444444,\"#bd3786\"],[0.5555555555555556,\"#d8576b\"],[0.6666666666666666,\"#ed7953\"],[0.7777777777777778,\"#fb9f3a\"],[0.8888888888888888,\"#fdca26\"],[1.0,\"#f0f921\"]]}],\"mesh3d\":[{\"type\":\"mesh3d\",\"colorbar\":{\"outlinewidth\":0,\"ticks\":\"\"}}],\"scatter\":[{\"fillpattern\":{\"fillmode\":\"overlay\",\"size\":10,\"solidity\":0.2},\"type\":\"scatter\"}],\"parcoords\":[{\"type\":\"parcoords\",\"line\":{\"colorbar\":{\"outlinewidth\":0,\"ticks\":\"\"}}}],\"scatterpolargl\":[{\"type\":\"scatterpolargl\",\"marker\":{\"colorbar\":{\"outlinewidth\":0,\"ticks\":\"\"}}}],\"bar\":[{\"error_x\":{\"color\":\"#2a3f5f\"},\"error_y\":{\"color\":\"#2a3f5f\"},\"marker\":{\"line\":{\"color\":\"white\",\"width\":0.5},\"pattern\":{\"fillmode\":\"overlay\",\"size\":10,\"solidity\":0.2}},\"type\":\"bar\"}],\"scattergeo\":[{\"type\":\"scattergeo\",\"marker\":{\"colorbar\":{\"outlinewidth\":0,\"ticks\":\"\"}}}],\"scatterpolar\":[{\"type\":\"scatterpolar\",\"marker\":{\"colorbar\":{\"outlinewidth\":0,\"ticks\":\"\"}}}],\"histogram\":[{\"marker\":{\"pattern\":{\"fillmode\":\"overlay\",\"size\":10,\"solidity\":0.2}},\"type\":\"histogram\"}],\"scattergl\":[{\"type\":\"scattergl\",\"marker\":{\"colorbar\":{\"outlinewidth\":0,\"ticks\":\"\"}}}],\"scatter3d\":[{\"type\":\"scatter3d\",\"line\":{\"colorbar\":{\"outlinewidth\":0,\"ticks\":\"\"}},\"marker\":{\"colorbar\":{\"outlinewidth\":0,\"ticks\":\"\"}}}],\"scattermapbox\":[{\"type\":\"scattermapbox\",\"marker\":{\"colorbar\":{\"outlinewidth\":0,\"ticks\":\"\"}}}],\"scatterternary\":[{\"type\":\"scatterternary\",\"marker\":{\"colorbar\":{\"outlinewidth\":0,\"ticks\":\"\"}}}],\"scattercarpet\":[{\"type\":\"scattercarpet\",\"marker\":{\"colorbar\":{\"outlinewidth\":0,\"ticks\":\"\"}}}],\"carpet\":[{\"aaxis\":{\"endlinecolor\":\"#2a3f5f\",\"gridcolor\":\"#C8D4E3\",\"linecolor\":\"#C8D4E3\",\"minorgridcolor\":\"#C8D4E3\",\"startlinecolor\":\"#2a3f5f\"},\"baxis\":{\"endlinecolor\":\"#2a3f5f\",\"gridcolor\":\"#C8D4E3\",\"linecolor\":\"#C8D4E3\",\"minorgridcolor\":\"#C8D4E3\",\"startlinecolor\":\"#2a3f5f\"},\"type\":\"carpet\"}],\"table\":[{\"cells\":{\"fill\":{\"color\":\"#EBF0F8\"},\"line\":{\"color\":\"white\"}},\"header\":{\"fill\":{\"color\":\"#C8D4E3\"},\"line\":{\"color\":\"white\"}},\"type\":\"table\"}],\"barpolar\":[{\"marker\":{\"line\":{\"color\":\"white\",\"width\":0.5},\"pattern\":{\"fillmode\":\"overlay\",\"size\":10,\"solidity\":0.2}},\"type\":\"barpolar\"}],\"pie\":[{\"automargin\":true,\"type\":\"pie\"}]},\"layout\":{\"autotypenumbers\":\"strict\",\"colorway\":[\"#636efa\",\"#EF553B\",\"#00cc96\",\"#ab63fa\",\"#FFA15A\",\"#19d3f3\",\"#FF6692\",\"#B6E880\",\"#FF97FF\",\"#FECB52\"],\"font\":{\"color\":\"#2a3f5f\"},\"hovermode\":\"closest\",\"hoverlabel\":{\"align\":\"left\"},\"paper_bgcolor\":\"white\",\"plot_bgcolor\":\"white\",\"polar\":{\"bgcolor\":\"white\",\"angularaxis\":{\"gridcolor\":\"#EBF0F8\",\"linecolor\":\"#EBF0F8\",\"ticks\":\"\"},\"radialaxis\":{\"gridcolor\":\"#EBF0F8\",\"linecolor\":\"#EBF0F8\",\"ticks\":\"\"}},\"ternary\":{\"bgcolor\":\"white\",\"aaxis\":{\"gridcolor\":\"#DFE8F3\",\"linecolor\":\"#A2B1C6\",\"ticks\":\"\"},\"baxis\":{\"gridcolor\":\"#DFE8F3\",\"linecolor\":\"#A2B1C6\",\"ticks\":\"\"},\"caxis\":{\"gridcolor\":\"#DFE8F3\",\"linecolor\":\"#A2B1C6\",\"ticks\":\"\"}},\"coloraxis\":{\"colorbar\":{\"outlinewidth\":0,\"ticks\":\"\"}},\"colorscale\":{\"sequential\":[[0.0,\"#0d0887\"],[0.1111111111111111,\"#46039f\"],[0.2222222222222222,\"#7201a8\"],[0.3333333333333333,\"#9c179e\"],[0.4444444444444444,\"#bd3786\"],[0.5555555555555556,\"#d8576b\"],[0.6666666666666666,\"#ed7953\"],[0.7777777777777778,\"#fb9f3a\"],[0.8888888888888888,\"#fdca26\"],[1.0,\"#f0f921\"]],\"sequentialminus\":[[0.0,\"#0d0887\"],[0.1111111111111111,\"#46039f\"],[0.2222222222222222,\"#7201a8\"],[0.3333333333333333,\"#9c179e\"],[0.4444444444444444,\"#bd3786\"],[0.5555555555555556,\"#d8576b\"],[0.6666666666666666,\"#ed7953\"],[0.7777777777777778,\"#fb9f3a\"],[0.8888888888888888,\"#fdca26\"],[1.0,\"#f0f921\"]],\"diverging\":[[0,\"#8e0152\"],[0.1,\"#c51b7d\"],[0.2,\"#de77ae\"],[0.3,\"#f1b6da\"],[0.4,\"#fde0ef\"],[0.5,\"#f7f7f7\"],[0.6,\"#e6f5d0\"],[0.7,\"#b8e186\"],[0.8,\"#7fbc41\"],[0.9,\"#4d9221\"],[1,\"#276419\"]]},\"xaxis\":{\"gridcolor\":\"#EBF0F8\",\"linecolor\":\"#EBF0F8\",\"ticks\":\"\",\"title\":{\"standoff\":15},\"zerolinecolor\":\"#EBF0F8\",\"automargin\":true,\"zerolinewidth\":2},\"yaxis\":{\"gridcolor\":\"#EBF0F8\",\"linecolor\":\"#EBF0F8\",\"ticks\":\"\",\"title\":{\"standoff\":15},\"zerolinecolor\":\"#EBF0F8\",\"automargin\":true,\"zerolinewidth\":2},\"scene\":{\"xaxis\":{\"backgroundcolor\":\"white\",\"gridcolor\":\"#DFE8F3\",\"linecolor\":\"#EBF0F8\",\"showbackground\":true,\"ticks\":\"\",\"zerolinecolor\":\"#EBF0F8\",\"gridwidth\":2},\"yaxis\":{\"backgroundcolor\":\"white\",\"gridcolor\":\"#DFE8F3\",\"linecolor\":\"#EBF0F8\",\"showbackground\":true,\"ticks\":\"\",\"zerolinecolor\":\"#EBF0F8\",\"gridwidth\":2},\"zaxis\":{\"backgroundcolor\":\"white\",\"gridcolor\":\"#DFE8F3\",\"linecolor\":\"#EBF0F8\",\"showbackground\":true,\"ticks\":\"\",\"zerolinecolor\":\"#EBF0F8\",\"gridwidth\":2}},\"shapedefaults\":{\"line\":{\"color\":\"#2a3f5f\"}},\"annotationdefaults\":{\"arrowcolor\":\"#2a3f5f\",\"arrowhead\":0,\"arrowwidth\":1},\"geo\":{\"bgcolor\":\"white\",\"landcolor\":\"white\",\"subunitcolor\":\"#C8D4E3\",\"showland\":true,\"showlakes\":true,\"lakecolor\":\"white\"},\"title\":{\"x\":0.05},\"mapbox\":{\"style\":\"light\"}}},\"xaxis\":{\"anchor\":\"y\",\"domain\":[0.0,1.0],\"title\":{\"text\":\"Hashtag\"}},\"yaxis\":{\"anchor\":\"x\",\"domain\":[0.0,1.0],\"title\":{\"text\":\"Count\"}},\"legend\":{\"tracegroupgap\":0},\"title\":{\"text\":\"Distribution of Hashtags\"},\"barmode\":\"relative\"},                        {\"responsive\": true}                    ).then(function(){\n",
              "                            \n",
              "var gd = document.getElementById('cd63d8aa-40bb-4fdf-8307-40bd4b0c5f30');\n",
              "var x = new MutationObserver(function (mutations, observer) {{\n",
              "        var display = window.getComputedStyle(gd).display;\n",
              "        if (!display || display === 'none') {{\n",
              "            console.log([gd, 'removed!']);\n",
              "            Plotly.purge(gd);\n",
              "            observer.disconnect();\n",
              "        }}\n",
              "}});\n",
              "\n",
              "// Listen for the removal of the full notebook cells\n",
              "var notebookContainer = gd.closest('#notebook-container');\n",
              "if (notebookContainer) {{\n",
              "    x.observe(notebookContainer, {childList: true});\n",
              "}}\n",
              "\n",
              "// Listen for the clearing of the current output cell\n",
              "var outputEl = gd.closest('.output');\n",
              "if (outputEl) {{\n",
              "    x.observe(outputEl, {childList: true});\n",
              "}}\n",
              "\n",
              "                        })                };                            </script>        </div>\n",
              "</body>\n",
              "</html>"
            ]
          },
          "metadata": {}
        }
      ]
    },
    {
      "cell_type": "markdown",
      "source": [
        "This code snippet extracts hashtags from Instagram data, calculates their frequency, and then creates a bar chart visualization to show the distribution of hashtags, highlighting the most popular ones. This can be useful for understanding trends and optimizing hashtag usage"
      ],
      "metadata": {
        "id": "QNsWF2ag3EqE"
      }
    },
    {
      "cell_type": "markdown",
      "source": [
        "Now let’s have a look at the distribution of likes and impressions received from the presence of each hashtag on the post:"
      ],
      "metadata": {
        "id": "SrEZ7Agw3Hma"
      }
    },
    {
      "cell_type": "code",
      "source": [
        "# Create a dictionary to store the likes and impressions for each hashtag\n",
        "hashtag_likes = {}\n",
        "hashtag_impressions = {}\n",
        "\n",
        "# Iterate through each row in the dataset\n",
        "for index, row in data.iterrows():\n",
        "    hashtags = str(row['Hashtags']).split()\n",
        "    for hashtag in hashtags:\n",
        "        hashtag = hashtag.strip()\n",
        "        if hashtag not in hashtag_likes:\n",
        "            hashtag_likes[hashtag] = 0\n",
        "            hashtag_impressions[hashtag] = 0\n",
        "        hashtag_likes[hashtag] += row['Likes']\n",
        "        hashtag_impressions[hashtag] += row['Impressions']\n",
        "\n",
        "# Create a DataFrame for likes distribution\n",
        "likes_distribution = pd.DataFrame(list(hashtag_likes.items()), columns=['Hashtag', 'Likes'])\n",
        "\n",
        "# Create a DataFrame for impressions distribution\n",
        "impressions_distribution = pd.DataFrame(list(hashtag_impressions.items()), columns=['Hashtag', 'Impressions'])\n",
        "\n",
        "fig_likes = px.bar(likes_distribution, x='Hashtag', y='Likes',\n",
        "                   title='Likes Distribution for Each Hashtag')\n",
        "\n",
        "fig_impressions = px.bar(impressions_distribution, x='Hashtag',\n",
        "                         y='Impressions',\n",
        "                         title='Impressions Distribution for Each Hashtag')\n",
        "\n",
        "fig_likes.show()\n",
        "fig_impressions.show()"
      ],
      "metadata": {
        "colab": {
          "base_uri": "https://localhost:8080/",
          "height": 1000
        },
        "id": "43SMi_lOvcU-",
        "outputId": "42d70753-a80b-4870-b24b-872a4f711929"
      },
      "execution_count": 18,
      "outputs": [
        {
          "output_type": "display_data",
          "data": {
            "text/html": [
              "<html>\n",
              "<head><meta charset=\"utf-8\" /></head>\n",
              "<body>\n",
              "    <div>            <script src=\"https://cdnjs.cloudflare.com/ajax/libs/mathjax/2.7.5/MathJax.js?config=TeX-AMS-MML_SVG\"></script><script type=\"text/javascript\">if (window.MathJax && window.MathJax.Hub && window.MathJax.Hub.Config) {window.MathJax.Hub.Config({SVG: {font: \"STIX-Web\"}});}</script>                <script type=\"text/javascript\">window.PlotlyConfig = {MathJaxConfig: 'local'};</script>\n",
              "        <script charset=\"utf-8\" src=\"https://cdn.plot.ly/plotly-2.35.2.min.js\"></script>                <div id=\"961e97b5-3159-4b7a-85ee-9093a1627eff\" class=\"plotly-graph-div\" style=\"height:525px; width:100%;\"></div>            <script type=\"text/javascript\">                                    window.PLOTLYENV=window.PLOTLYENV || {};                                    if (document.getElementById(\"961e97b5-3159-4b7a-85ee-9093a1627eff\")) {                    Plotly.newPlot(                        \"961e97b5-3159-4b7a-85ee-9093a1627eff\",                        [{\"alignmentgroup\":\"True\",\"hovertemplate\":\"Hashtag=%{x}\\u003cbr\\u003eLikes=%{y}\\u003cextra\\u003e\\u003c\\u002fextra\\u003e\",\"legendgroup\":\"\",\"marker\":{\"color\":\"#636efa\",\"pattern\":{\"shape\":\"\"}},\"name\":\"\",\"offsetgroup\":\"\",\"orientation\":\"v\",\"showlegend\":false,\"textposition\":\"auto\",\"x\":[\"#finance\",\"#money\",\"#business\",\"#investing\",\"#investment\",\"#trading\",\"#stockmarket\",\"#data\",\"#datascience\",\"#dataanalysis\",\"#dataanalytics\",\"#datascientist\",\"#machinelearning\",\"#python\",\"#pythonprogramming\",\"#pythonprojects\",\"#pythoncode\",\"#artificialintelligence\",\"#ai\",\"#dataanalyst\",\"#amankharwal\",\"#thecleverprogrammer\",\"#healthcare\",\"#health\",\"#covid\",\"#deeplearning\",\"#machinelearningprojects\",\"#datascienceprojects\",\"#machinelearningmodels\",\"#pythonlearning\",\"#pythondeveloper\",\"#pythoncoding\",\"#pythonprogrammer\",\"#datavisualization\",\"#bigdata\",\"#dataviz\",\"#analytics\",\"#technology\",\"#programming\",\"#statistics\",\"#coding\",\"#businessintelligence\",\"#datamining\",\"#tech\",\"#computerscience\",\"#tableau\",\"#database\",\"#algorithm\",\"#algorithms\",\"#machinelearningalgorithms\",\"#ml\",\"#softskills\",\"#stocks\",\"#forex\",\"#candlestick\",\"#candlestickcharts\",\"#pythonbooks\",\"#bookstagram\",\"#powerbi\",\"#dataanalysisprojects\",\"#businessanalytics\",\"#neuralnetwork\",\"#neuralnetworks\",\"#tensorflow\",\"#artificialintelligenceai\",\"#alexnet\",\"#sentimentanalysis\",\"#sentiment\",\"#nlp\",\"#naturallanguageprocessing\",\"#timeseries\",\"#time\",\"#timeseriesanalysis\",\"#iot\",\"#analysis\",\"#timeseriesmalaysia\",\"#career\",\"#job\",\"#jobs\",\"#jobsearch\",\"#education\",\"#success\",\"#careergoals\",\"#motivation\",\"#work\",\"#careerdevelopment\",\"#careers\",\"#goals\",\"#resume\",\"#students\",\"#careeradvice\",\"#marketing\",\"#digitalmarketing\",\"#media\",\"#socialmedia\",\"#IT\",\"#webdevelopment\",\"#stress\",\"#stressdetection\",\"#zomato\",\"#casestudy\",\"#businessmodel\",\"#boxplots\",\"#programmer\",\"#developer\",\"#javascript\",\"#code\",\"#coder\",\"#java\",\"#html\",\"#css\",\"#webdeveloper\",\"#software\",\"#codinglife\",\"#softwaredeveloper\",\"#linux\",\"#programmingmemes\",\"#webdesign\",\"#programmers\",\"#php\",\"#programminglife\",\"#hacking\",\"#bitcoin\",\"#cryptocurrency\",\"#projects\",\"#casestudies\",\"#amazonfinds\",\"#security\",\"#cybersecurity\",\"#network\",\"#internet\",\"#cloud\",\"#innovation\",\"#google\",\"#facebook\",\"#interview\",\"#datascienceinterview\",\"#otp\",\"#otpverification\",\"#qrcodes\",\"#bigdataanalytics\",\"#recommended\",\"#recommendations\",\"#recommendationsystem\",\"#recommendation\",\"#codinginterview\",\"#flipkart\",\"#news\",\"#pythonprogram\",\"@codergallery\",\"#whatsapp\",\"#roadmap\",\"#ukraine\",\"#instagram\",\"#instagramreach\",\"#datasciencejobs\",\"#datasciencetraining\",\"#datascienceeducation\",\"#datasciencecourse\",\"#sql\",\"#mysql\",\"#python3\",\"#pythonprogramminglanguage\",\"#clustering\"],\"xaxis\":\"x\",\"y\":[529,529,2012,529,380,380,380,15077,16311,13801,15283,14703,16509,18238,16251,16818,14239,15515,15733,1845,20462,20462,729,729,729,13204,8458,8458,761,3659,3659,3659,3659,2382,2671,567,2001,3187,3355,1766,3129,728,728,2961,2818,265,887,1615,1615,2065,1058,144,218,218,218,218,124,124,529,387,387,1120,600,450,450,81,1057,1057,1238,1238,812,812,812,812,812,812,410,680,410,410,410,410,410,410,410,410,410,410,410,410,410,410,410,410,410,410,1456,302,302,328,328,328,76,878,878,878,878,878,878,878,878,878,1113,878,878,608,608,608,608,608,608,608,390,390,302,302,184,235,235,235,235,235,235,150,85,600,180,272,272,167,142,373,373,373,373,270,94,96,118,118,178,525,203,171,171,1814,1814,1814,1814,308,308,296,296,240],\"yaxis\":\"y\",\"type\":\"bar\"}],                        {\"template\":{\"data\":{\"histogram2dcontour\":[{\"type\":\"histogram2dcontour\",\"colorbar\":{\"outlinewidth\":0,\"ticks\":\"\"},\"colorscale\":[[0.0,\"#0d0887\"],[0.1111111111111111,\"#46039f\"],[0.2222222222222222,\"#7201a8\"],[0.3333333333333333,\"#9c179e\"],[0.4444444444444444,\"#bd3786\"],[0.5555555555555556,\"#d8576b\"],[0.6666666666666666,\"#ed7953\"],[0.7777777777777778,\"#fb9f3a\"],[0.8888888888888888,\"#fdca26\"],[1.0,\"#f0f921\"]]}],\"choropleth\":[{\"type\":\"choropleth\",\"colorbar\":{\"outlinewidth\":0,\"ticks\":\"\"}}],\"histogram2d\":[{\"type\":\"histogram2d\",\"colorbar\":{\"outlinewidth\":0,\"ticks\":\"\"},\"colorscale\":[[0.0,\"#0d0887\"],[0.1111111111111111,\"#46039f\"],[0.2222222222222222,\"#7201a8\"],[0.3333333333333333,\"#9c179e\"],[0.4444444444444444,\"#bd3786\"],[0.5555555555555556,\"#d8576b\"],[0.6666666666666666,\"#ed7953\"],[0.7777777777777778,\"#fb9f3a\"],[0.8888888888888888,\"#fdca26\"],[1.0,\"#f0f921\"]]}],\"heatmap\":[{\"type\":\"heatmap\",\"colorbar\":{\"outlinewidth\":0,\"ticks\":\"\"},\"colorscale\":[[0.0,\"#0d0887\"],[0.1111111111111111,\"#46039f\"],[0.2222222222222222,\"#7201a8\"],[0.3333333333333333,\"#9c179e\"],[0.4444444444444444,\"#bd3786\"],[0.5555555555555556,\"#d8576b\"],[0.6666666666666666,\"#ed7953\"],[0.7777777777777778,\"#fb9f3a\"],[0.8888888888888888,\"#fdca26\"],[1.0,\"#f0f921\"]]}],\"heatmapgl\":[{\"type\":\"heatmapgl\",\"colorbar\":{\"outlinewidth\":0,\"ticks\":\"\"},\"colorscale\":[[0.0,\"#0d0887\"],[0.1111111111111111,\"#46039f\"],[0.2222222222222222,\"#7201a8\"],[0.3333333333333333,\"#9c179e\"],[0.4444444444444444,\"#bd3786\"],[0.5555555555555556,\"#d8576b\"],[0.6666666666666666,\"#ed7953\"],[0.7777777777777778,\"#fb9f3a\"],[0.8888888888888888,\"#fdca26\"],[1.0,\"#f0f921\"]]}],\"contourcarpet\":[{\"type\":\"contourcarpet\",\"colorbar\":{\"outlinewidth\":0,\"ticks\":\"\"}}],\"contour\":[{\"type\":\"contour\",\"colorbar\":{\"outlinewidth\":0,\"ticks\":\"\"},\"colorscale\":[[0.0,\"#0d0887\"],[0.1111111111111111,\"#46039f\"],[0.2222222222222222,\"#7201a8\"],[0.3333333333333333,\"#9c179e\"],[0.4444444444444444,\"#bd3786\"],[0.5555555555555556,\"#d8576b\"],[0.6666666666666666,\"#ed7953\"],[0.7777777777777778,\"#fb9f3a\"],[0.8888888888888888,\"#fdca26\"],[1.0,\"#f0f921\"]]}],\"surface\":[{\"type\":\"surface\",\"colorbar\":{\"outlinewidth\":0,\"ticks\":\"\"},\"colorscale\":[[0.0,\"#0d0887\"],[0.1111111111111111,\"#46039f\"],[0.2222222222222222,\"#7201a8\"],[0.3333333333333333,\"#9c179e\"],[0.4444444444444444,\"#bd3786\"],[0.5555555555555556,\"#d8576b\"],[0.6666666666666666,\"#ed7953\"],[0.7777777777777778,\"#fb9f3a\"],[0.8888888888888888,\"#fdca26\"],[1.0,\"#f0f921\"]]}],\"mesh3d\":[{\"type\":\"mesh3d\",\"colorbar\":{\"outlinewidth\":0,\"ticks\":\"\"}}],\"scatter\":[{\"fillpattern\":{\"fillmode\":\"overlay\",\"size\":10,\"solidity\":0.2},\"type\":\"scatter\"}],\"parcoords\":[{\"type\":\"parcoords\",\"line\":{\"colorbar\":{\"outlinewidth\":0,\"ticks\":\"\"}}}],\"scatterpolargl\":[{\"type\":\"scatterpolargl\",\"marker\":{\"colorbar\":{\"outlinewidth\":0,\"ticks\":\"\"}}}],\"bar\":[{\"error_x\":{\"color\":\"#2a3f5f\"},\"error_y\":{\"color\":\"#2a3f5f\"},\"marker\":{\"line\":{\"color\":\"white\",\"width\":0.5},\"pattern\":{\"fillmode\":\"overlay\",\"size\":10,\"solidity\":0.2}},\"type\":\"bar\"}],\"scattergeo\":[{\"type\":\"scattergeo\",\"marker\":{\"colorbar\":{\"outlinewidth\":0,\"ticks\":\"\"}}}],\"scatterpolar\":[{\"type\":\"scatterpolar\",\"marker\":{\"colorbar\":{\"outlinewidth\":0,\"ticks\":\"\"}}}],\"histogram\":[{\"marker\":{\"pattern\":{\"fillmode\":\"overlay\",\"size\":10,\"solidity\":0.2}},\"type\":\"histogram\"}],\"scattergl\":[{\"type\":\"scattergl\",\"marker\":{\"colorbar\":{\"outlinewidth\":0,\"ticks\":\"\"}}}],\"scatter3d\":[{\"type\":\"scatter3d\",\"line\":{\"colorbar\":{\"outlinewidth\":0,\"ticks\":\"\"}},\"marker\":{\"colorbar\":{\"outlinewidth\":0,\"ticks\":\"\"}}}],\"scattermapbox\":[{\"type\":\"scattermapbox\",\"marker\":{\"colorbar\":{\"outlinewidth\":0,\"ticks\":\"\"}}}],\"scatterternary\":[{\"type\":\"scatterternary\",\"marker\":{\"colorbar\":{\"outlinewidth\":0,\"ticks\":\"\"}}}],\"scattercarpet\":[{\"type\":\"scattercarpet\",\"marker\":{\"colorbar\":{\"outlinewidth\":0,\"ticks\":\"\"}}}],\"carpet\":[{\"aaxis\":{\"endlinecolor\":\"#2a3f5f\",\"gridcolor\":\"#C8D4E3\",\"linecolor\":\"#C8D4E3\",\"minorgridcolor\":\"#C8D4E3\",\"startlinecolor\":\"#2a3f5f\"},\"baxis\":{\"endlinecolor\":\"#2a3f5f\",\"gridcolor\":\"#C8D4E3\",\"linecolor\":\"#C8D4E3\",\"minorgridcolor\":\"#C8D4E3\",\"startlinecolor\":\"#2a3f5f\"},\"type\":\"carpet\"}],\"table\":[{\"cells\":{\"fill\":{\"color\":\"#EBF0F8\"},\"line\":{\"color\":\"white\"}},\"header\":{\"fill\":{\"color\":\"#C8D4E3\"},\"line\":{\"color\":\"white\"}},\"type\":\"table\"}],\"barpolar\":[{\"marker\":{\"line\":{\"color\":\"white\",\"width\":0.5},\"pattern\":{\"fillmode\":\"overlay\",\"size\":10,\"solidity\":0.2}},\"type\":\"barpolar\"}],\"pie\":[{\"automargin\":true,\"type\":\"pie\"}]},\"layout\":{\"autotypenumbers\":\"strict\",\"colorway\":[\"#636efa\",\"#EF553B\",\"#00cc96\",\"#ab63fa\",\"#FFA15A\",\"#19d3f3\",\"#FF6692\",\"#B6E880\",\"#FF97FF\",\"#FECB52\"],\"font\":{\"color\":\"#2a3f5f\"},\"hovermode\":\"closest\",\"hoverlabel\":{\"align\":\"left\"},\"paper_bgcolor\":\"white\",\"plot_bgcolor\":\"white\",\"polar\":{\"bgcolor\":\"white\",\"angularaxis\":{\"gridcolor\":\"#EBF0F8\",\"linecolor\":\"#EBF0F8\",\"ticks\":\"\"},\"radialaxis\":{\"gridcolor\":\"#EBF0F8\",\"linecolor\":\"#EBF0F8\",\"ticks\":\"\"}},\"ternary\":{\"bgcolor\":\"white\",\"aaxis\":{\"gridcolor\":\"#DFE8F3\",\"linecolor\":\"#A2B1C6\",\"ticks\":\"\"},\"baxis\":{\"gridcolor\":\"#DFE8F3\",\"linecolor\":\"#A2B1C6\",\"ticks\":\"\"},\"caxis\":{\"gridcolor\":\"#DFE8F3\",\"linecolor\":\"#A2B1C6\",\"ticks\":\"\"}},\"coloraxis\":{\"colorbar\":{\"outlinewidth\":0,\"ticks\":\"\"}},\"colorscale\":{\"sequential\":[[0.0,\"#0d0887\"],[0.1111111111111111,\"#46039f\"],[0.2222222222222222,\"#7201a8\"],[0.3333333333333333,\"#9c179e\"],[0.4444444444444444,\"#bd3786\"],[0.5555555555555556,\"#d8576b\"],[0.6666666666666666,\"#ed7953\"],[0.7777777777777778,\"#fb9f3a\"],[0.8888888888888888,\"#fdca26\"],[1.0,\"#f0f921\"]],\"sequentialminus\":[[0.0,\"#0d0887\"],[0.1111111111111111,\"#46039f\"],[0.2222222222222222,\"#7201a8\"],[0.3333333333333333,\"#9c179e\"],[0.4444444444444444,\"#bd3786\"],[0.5555555555555556,\"#d8576b\"],[0.6666666666666666,\"#ed7953\"],[0.7777777777777778,\"#fb9f3a\"],[0.8888888888888888,\"#fdca26\"],[1.0,\"#f0f921\"]],\"diverging\":[[0,\"#8e0152\"],[0.1,\"#c51b7d\"],[0.2,\"#de77ae\"],[0.3,\"#f1b6da\"],[0.4,\"#fde0ef\"],[0.5,\"#f7f7f7\"],[0.6,\"#e6f5d0\"],[0.7,\"#b8e186\"],[0.8,\"#7fbc41\"],[0.9,\"#4d9221\"],[1,\"#276419\"]]},\"xaxis\":{\"gridcolor\":\"#EBF0F8\",\"linecolor\":\"#EBF0F8\",\"ticks\":\"\",\"title\":{\"standoff\":15},\"zerolinecolor\":\"#EBF0F8\",\"automargin\":true,\"zerolinewidth\":2},\"yaxis\":{\"gridcolor\":\"#EBF0F8\",\"linecolor\":\"#EBF0F8\",\"ticks\":\"\",\"title\":{\"standoff\":15},\"zerolinecolor\":\"#EBF0F8\",\"automargin\":true,\"zerolinewidth\":2},\"scene\":{\"xaxis\":{\"backgroundcolor\":\"white\",\"gridcolor\":\"#DFE8F3\",\"linecolor\":\"#EBF0F8\",\"showbackground\":true,\"ticks\":\"\",\"zerolinecolor\":\"#EBF0F8\",\"gridwidth\":2},\"yaxis\":{\"backgroundcolor\":\"white\",\"gridcolor\":\"#DFE8F3\",\"linecolor\":\"#EBF0F8\",\"showbackground\":true,\"ticks\":\"\",\"zerolinecolor\":\"#EBF0F8\",\"gridwidth\":2},\"zaxis\":{\"backgroundcolor\":\"white\",\"gridcolor\":\"#DFE8F3\",\"linecolor\":\"#EBF0F8\",\"showbackground\":true,\"ticks\":\"\",\"zerolinecolor\":\"#EBF0F8\",\"gridwidth\":2}},\"shapedefaults\":{\"line\":{\"color\":\"#2a3f5f\"}},\"annotationdefaults\":{\"arrowcolor\":\"#2a3f5f\",\"arrowhead\":0,\"arrowwidth\":1},\"geo\":{\"bgcolor\":\"white\",\"landcolor\":\"white\",\"subunitcolor\":\"#C8D4E3\",\"showland\":true,\"showlakes\":true,\"lakecolor\":\"white\"},\"title\":{\"x\":0.05},\"mapbox\":{\"style\":\"light\"}}},\"xaxis\":{\"anchor\":\"y\",\"domain\":[0.0,1.0],\"title\":{\"text\":\"Hashtag\"}},\"yaxis\":{\"anchor\":\"x\",\"domain\":[0.0,1.0],\"title\":{\"text\":\"Likes\"}},\"legend\":{\"tracegroupgap\":0},\"title\":{\"text\":\"Likes Distribution for Each Hashtag\"},\"barmode\":\"relative\"},                        {\"responsive\": true}                    ).then(function(){\n",
              "                            \n",
              "var gd = document.getElementById('961e97b5-3159-4b7a-85ee-9093a1627eff');\n",
              "var x = new MutationObserver(function (mutations, observer) {{\n",
              "        var display = window.getComputedStyle(gd).display;\n",
              "        if (!display || display === 'none') {{\n",
              "            console.log([gd, 'removed!']);\n",
              "            Plotly.purge(gd);\n",
              "            observer.disconnect();\n",
              "        }}\n",
              "}});\n",
              "\n",
              "// Listen for the removal of the full notebook cells\n",
              "var notebookContainer = gd.closest('#notebook-container');\n",
              "if (notebookContainer) {{\n",
              "    x.observe(notebookContainer, {childList: true});\n",
              "}}\n",
              "\n",
              "// Listen for the clearing of the current output cell\n",
              "var outputEl = gd.closest('.output');\n",
              "if (outputEl) {{\n",
              "    x.observe(outputEl, {childList: true});\n",
              "}}\n",
              "\n",
              "                        })                };                            </script>        </div>\n",
              "</body>\n",
              "</html>"
            ]
          },
          "metadata": {}
        },
        {
          "output_type": "display_data",
          "data": {
            "text/html": [
              "<html>\n",
              "<head><meta charset=\"utf-8\" /></head>\n",
              "<body>\n",
              "    <div>            <script src=\"https://cdnjs.cloudflare.com/ajax/libs/mathjax/2.7.5/MathJax.js?config=TeX-AMS-MML_SVG\"></script><script type=\"text/javascript\">if (window.MathJax && window.MathJax.Hub && window.MathJax.Hub.Config) {window.MathJax.Hub.Config({SVG: {font: \"STIX-Web\"}});}</script>                <script type=\"text/javascript\">window.PlotlyConfig = {MathJaxConfig: 'local'};</script>\n",
              "        <script charset=\"utf-8\" src=\"https://cdn.plot.ly/plotly-2.35.2.min.js\"></script>                <div id=\"c0b4d6b7-2232-41e1-a3ca-962dd812c7db\" class=\"plotly-graph-div\" style=\"height:525px; width:100%;\"></div>            <script type=\"text/javascript\">                                    window.PLOTLYENV=window.PLOTLYENV || {};                                    if (document.getElementById(\"c0b4d6b7-2232-41e1-a3ca-962dd812c7db\")) {                    Plotly.newPlot(                        \"c0b4d6b7-2232-41e1-a3ca-962dd812c7db\",                        [{\"alignmentgroup\":\"True\",\"hovertemplate\":\"Hashtag=%{x}\\u003cbr\\u003eImpressions=%{y}\\u003cextra\\u003e\\u003c\\u002fextra\\u003e\",\"legendgroup\":\"\",\"marker\":{\"color\":\"#636efa\",\"pattern\":{\"shape\":\"\"}},\"name\":\"\",\"offsetgroup\":\"\",\"orientation\":\"v\",\"showlegend\":false,\"textposition\":\"auto\",\"x\":[\"#finance\",\"#money\",\"#business\",\"#investing\",\"#investment\",\"#trading\",\"#stockmarket\",\"#data\",\"#datascience\",\"#dataanalysis\",\"#dataanalytics\",\"#datascientist\",\"#machinelearning\",\"#python\",\"#pythonprogramming\",\"#pythonprojects\",\"#pythoncode\",\"#artificialintelligence\",\"#ai\",\"#dataanalyst\",\"#amankharwal\",\"#thecleverprogrammer\",\"#healthcare\",\"#health\",\"#covid\",\"#deeplearning\",\"#machinelearningprojects\",\"#datascienceprojects\",\"#machinelearningmodels\",\"#pythonlearning\",\"#pythondeveloper\",\"#pythoncoding\",\"#pythonprogrammer\",\"#datavisualization\",\"#bigdata\",\"#dataviz\",\"#analytics\",\"#technology\",\"#programming\",\"#statistics\",\"#coding\",\"#businessintelligence\",\"#datamining\",\"#tech\",\"#computerscience\",\"#tableau\",\"#database\",\"#algorithm\",\"#algorithms\",\"#machinelearningalgorithms\",\"#ml\",\"#softskills\",\"#stocks\",\"#forex\",\"#candlestick\",\"#candlestickcharts\",\"#pythonbooks\",\"#bookstagram\",\"#powerbi\",\"#dataanalysisprojects\",\"#businessanalytics\",\"#neuralnetwork\",\"#neuralnetworks\",\"#tensorflow\",\"#artificialintelligenceai\",\"#alexnet\",\"#sentimentanalysis\",\"#sentiment\",\"#nlp\",\"#naturallanguageprocessing\",\"#timeseries\",\"#time\",\"#timeseriesanalysis\",\"#iot\",\"#analysis\",\"#timeseriesmalaysia\",\"#career\",\"#job\",\"#jobs\",\"#jobsearch\",\"#education\",\"#success\",\"#careergoals\",\"#motivation\",\"#work\",\"#careerdevelopment\",\"#careers\",\"#goals\",\"#resume\",\"#students\",\"#careeradvice\",\"#marketing\",\"#digitalmarketing\",\"#media\",\"#socialmedia\",\"#IT\",\"#webdevelopment\",\"#stress\",\"#stressdetection\",\"#zomato\",\"#casestudy\",\"#businessmodel\",\"#boxplots\",\"#programmer\",\"#developer\",\"#javascript\",\"#code\",\"#coder\",\"#java\",\"#html\",\"#css\",\"#webdeveloper\",\"#software\",\"#codinglife\",\"#softwaredeveloper\",\"#linux\",\"#programmingmemes\",\"#webdesign\",\"#programmers\",\"#php\",\"#programminglife\",\"#hacking\",\"#bitcoin\",\"#cryptocurrency\",\"#projects\",\"#casestudies\",\"#amazonfinds\",\"#security\",\"#cybersecurity\",\"#network\",\"#internet\",\"#cloud\",\"#innovation\",\"#google\",\"#facebook\",\"#interview\",\"#datascienceinterview\",\"#otp\",\"#otpverification\",\"#qrcodes\",\"#bigdataanalytics\",\"#recommended\",\"#recommendations\",\"#recommendationsystem\",\"#recommendation\",\"#codinginterview\",\"#flipkart\",\"#news\",\"#pythonprogram\",\"@codergallery\",\"#whatsapp\",\"#roadmap\",\"#ukraine\",\"#instagram\",\"#instagramreach\",\"#datasciencejobs\",\"#datasciencetraining\",\"#datascienceeducation\",\"#datasciencecourse\",\"#sql\",\"#mysql\",\"#python3\",\"#pythonprogramminglanguage\",\"#clustering\"],\"xaxis\":\"x\",\"y\":[14224,14224,51387,14224,9757,9757,9757,484761,524640,457923,497787,483746,532627,578243,525346,567608,470276,506190,512027,47051,672166,672166,18292,18292,18292,445317,297427,297427,27201,135901,135901,135901,135901,64864,70884,15438,53464,85523,90132,47283,83264,17971,17971,78655,75019,6506,22088,57289,57289,71529,30316,3884,5837,5837,5837,5837,3541,3541,13389,9401,9401,31660,18529,14240,14240,2218,34102,34102,42567,42567,22444,22444,22444,22444,22444,22444,8004,14856,8004,8004,8004,8004,8004,8004,8004,8004,8004,8004,8004,8004,8004,8004,8004,8004,8004,8004,35456,12336,12336,10844,10844,10844,2064,22843,22843,22843,22843,22843,22843,22843,22843,22843,29024,22843,22843,15991,15991,15991,15991,15991,15991,15991,14121,14121,7848,7848,6030,6181,6181,6181,6181,6181,6181,3854,2327,16139,4998,8030,8030,3786,3988,10036,10036,10036,10036,6852,3601,3525,2957,2957,5538,10682,8001,7231,7231,86691,86691,86691,86691,17713,17713,15991,15991,9870],\"yaxis\":\"y\",\"type\":\"bar\"}],                        {\"template\":{\"data\":{\"histogram2dcontour\":[{\"type\":\"histogram2dcontour\",\"colorbar\":{\"outlinewidth\":0,\"ticks\":\"\"},\"colorscale\":[[0.0,\"#0d0887\"],[0.1111111111111111,\"#46039f\"],[0.2222222222222222,\"#7201a8\"],[0.3333333333333333,\"#9c179e\"],[0.4444444444444444,\"#bd3786\"],[0.5555555555555556,\"#d8576b\"],[0.6666666666666666,\"#ed7953\"],[0.7777777777777778,\"#fb9f3a\"],[0.8888888888888888,\"#fdca26\"],[1.0,\"#f0f921\"]]}],\"choropleth\":[{\"type\":\"choropleth\",\"colorbar\":{\"outlinewidth\":0,\"ticks\":\"\"}}],\"histogram2d\":[{\"type\":\"histogram2d\",\"colorbar\":{\"outlinewidth\":0,\"ticks\":\"\"},\"colorscale\":[[0.0,\"#0d0887\"],[0.1111111111111111,\"#46039f\"],[0.2222222222222222,\"#7201a8\"],[0.3333333333333333,\"#9c179e\"],[0.4444444444444444,\"#bd3786\"],[0.5555555555555556,\"#d8576b\"],[0.6666666666666666,\"#ed7953\"],[0.7777777777777778,\"#fb9f3a\"],[0.8888888888888888,\"#fdca26\"],[1.0,\"#f0f921\"]]}],\"heatmap\":[{\"type\":\"heatmap\",\"colorbar\":{\"outlinewidth\":0,\"ticks\":\"\"},\"colorscale\":[[0.0,\"#0d0887\"],[0.1111111111111111,\"#46039f\"],[0.2222222222222222,\"#7201a8\"],[0.3333333333333333,\"#9c179e\"],[0.4444444444444444,\"#bd3786\"],[0.5555555555555556,\"#d8576b\"],[0.6666666666666666,\"#ed7953\"],[0.7777777777777778,\"#fb9f3a\"],[0.8888888888888888,\"#fdca26\"],[1.0,\"#f0f921\"]]}],\"heatmapgl\":[{\"type\":\"heatmapgl\",\"colorbar\":{\"outlinewidth\":0,\"ticks\":\"\"},\"colorscale\":[[0.0,\"#0d0887\"],[0.1111111111111111,\"#46039f\"],[0.2222222222222222,\"#7201a8\"],[0.3333333333333333,\"#9c179e\"],[0.4444444444444444,\"#bd3786\"],[0.5555555555555556,\"#d8576b\"],[0.6666666666666666,\"#ed7953\"],[0.7777777777777778,\"#fb9f3a\"],[0.8888888888888888,\"#fdca26\"],[1.0,\"#f0f921\"]]}],\"contourcarpet\":[{\"type\":\"contourcarpet\",\"colorbar\":{\"outlinewidth\":0,\"ticks\":\"\"}}],\"contour\":[{\"type\":\"contour\",\"colorbar\":{\"outlinewidth\":0,\"ticks\":\"\"},\"colorscale\":[[0.0,\"#0d0887\"],[0.1111111111111111,\"#46039f\"],[0.2222222222222222,\"#7201a8\"],[0.3333333333333333,\"#9c179e\"],[0.4444444444444444,\"#bd3786\"],[0.5555555555555556,\"#d8576b\"],[0.6666666666666666,\"#ed7953\"],[0.7777777777777778,\"#fb9f3a\"],[0.8888888888888888,\"#fdca26\"],[1.0,\"#f0f921\"]]}],\"surface\":[{\"type\":\"surface\",\"colorbar\":{\"outlinewidth\":0,\"ticks\":\"\"},\"colorscale\":[[0.0,\"#0d0887\"],[0.1111111111111111,\"#46039f\"],[0.2222222222222222,\"#7201a8\"],[0.3333333333333333,\"#9c179e\"],[0.4444444444444444,\"#bd3786\"],[0.5555555555555556,\"#d8576b\"],[0.6666666666666666,\"#ed7953\"],[0.7777777777777778,\"#fb9f3a\"],[0.8888888888888888,\"#fdca26\"],[1.0,\"#f0f921\"]]}],\"mesh3d\":[{\"type\":\"mesh3d\",\"colorbar\":{\"outlinewidth\":0,\"ticks\":\"\"}}],\"scatter\":[{\"fillpattern\":{\"fillmode\":\"overlay\",\"size\":10,\"solidity\":0.2},\"type\":\"scatter\"}],\"parcoords\":[{\"type\":\"parcoords\",\"line\":{\"colorbar\":{\"outlinewidth\":0,\"ticks\":\"\"}}}],\"scatterpolargl\":[{\"type\":\"scatterpolargl\",\"marker\":{\"colorbar\":{\"outlinewidth\":0,\"ticks\":\"\"}}}],\"bar\":[{\"error_x\":{\"color\":\"#2a3f5f\"},\"error_y\":{\"color\":\"#2a3f5f\"},\"marker\":{\"line\":{\"color\":\"white\",\"width\":0.5},\"pattern\":{\"fillmode\":\"overlay\",\"size\":10,\"solidity\":0.2}},\"type\":\"bar\"}],\"scattergeo\":[{\"type\":\"scattergeo\",\"marker\":{\"colorbar\":{\"outlinewidth\":0,\"ticks\":\"\"}}}],\"scatterpolar\":[{\"type\":\"scatterpolar\",\"marker\":{\"colorbar\":{\"outlinewidth\":0,\"ticks\":\"\"}}}],\"histogram\":[{\"marker\":{\"pattern\":{\"fillmode\":\"overlay\",\"size\":10,\"solidity\":0.2}},\"type\":\"histogram\"}],\"scattergl\":[{\"type\":\"scattergl\",\"marker\":{\"colorbar\":{\"outlinewidth\":0,\"ticks\":\"\"}}}],\"scatter3d\":[{\"type\":\"scatter3d\",\"line\":{\"colorbar\":{\"outlinewidth\":0,\"ticks\":\"\"}},\"marker\":{\"colorbar\":{\"outlinewidth\":0,\"ticks\":\"\"}}}],\"scattermapbox\":[{\"type\":\"scattermapbox\",\"marker\":{\"colorbar\":{\"outlinewidth\":0,\"ticks\":\"\"}}}],\"scatterternary\":[{\"type\":\"scatterternary\",\"marker\":{\"colorbar\":{\"outlinewidth\":0,\"ticks\":\"\"}}}],\"scattercarpet\":[{\"type\":\"scattercarpet\",\"marker\":{\"colorbar\":{\"outlinewidth\":0,\"ticks\":\"\"}}}],\"carpet\":[{\"aaxis\":{\"endlinecolor\":\"#2a3f5f\",\"gridcolor\":\"#C8D4E3\",\"linecolor\":\"#C8D4E3\",\"minorgridcolor\":\"#C8D4E3\",\"startlinecolor\":\"#2a3f5f\"},\"baxis\":{\"endlinecolor\":\"#2a3f5f\",\"gridcolor\":\"#C8D4E3\",\"linecolor\":\"#C8D4E3\",\"minorgridcolor\":\"#C8D4E3\",\"startlinecolor\":\"#2a3f5f\"},\"type\":\"carpet\"}],\"table\":[{\"cells\":{\"fill\":{\"color\":\"#EBF0F8\"},\"line\":{\"color\":\"white\"}},\"header\":{\"fill\":{\"color\":\"#C8D4E3\"},\"line\":{\"color\":\"white\"}},\"type\":\"table\"}],\"barpolar\":[{\"marker\":{\"line\":{\"color\":\"white\",\"width\":0.5},\"pattern\":{\"fillmode\":\"overlay\",\"size\":10,\"solidity\":0.2}},\"type\":\"barpolar\"}],\"pie\":[{\"automargin\":true,\"type\":\"pie\"}]},\"layout\":{\"autotypenumbers\":\"strict\",\"colorway\":[\"#636efa\",\"#EF553B\",\"#00cc96\",\"#ab63fa\",\"#FFA15A\",\"#19d3f3\",\"#FF6692\",\"#B6E880\",\"#FF97FF\",\"#FECB52\"],\"font\":{\"color\":\"#2a3f5f\"},\"hovermode\":\"closest\",\"hoverlabel\":{\"align\":\"left\"},\"paper_bgcolor\":\"white\",\"plot_bgcolor\":\"white\",\"polar\":{\"bgcolor\":\"white\",\"angularaxis\":{\"gridcolor\":\"#EBF0F8\",\"linecolor\":\"#EBF0F8\",\"ticks\":\"\"},\"radialaxis\":{\"gridcolor\":\"#EBF0F8\",\"linecolor\":\"#EBF0F8\",\"ticks\":\"\"}},\"ternary\":{\"bgcolor\":\"white\",\"aaxis\":{\"gridcolor\":\"#DFE8F3\",\"linecolor\":\"#A2B1C6\",\"ticks\":\"\"},\"baxis\":{\"gridcolor\":\"#DFE8F3\",\"linecolor\":\"#A2B1C6\",\"ticks\":\"\"},\"caxis\":{\"gridcolor\":\"#DFE8F3\",\"linecolor\":\"#A2B1C6\",\"ticks\":\"\"}},\"coloraxis\":{\"colorbar\":{\"outlinewidth\":0,\"ticks\":\"\"}},\"colorscale\":{\"sequential\":[[0.0,\"#0d0887\"],[0.1111111111111111,\"#46039f\"],[0.2222222222222222,\"#7201a8\"],[0.3333333333333333,\"#9c179e\"],[0.4444444444444444,\"#bd3786\"],[0.5555555555555556,\"#d8576b\"],[0.6666666666666666,\"#ed7953\"],[0.7777777777777778,\"#fb9f3a\"],[0.8888888888888888,\"#fdca26\"],[1.0,\"#f0f921\"]],\"sequentialminus\":[[0.0,\"#0d0887\"],[0.1111111111111111,\"#46039f\"],[0.2222222222222222,\"#7201a8\"],[0.3333333333333333,\"#9c179e\"],[0.4444444444444444,\"#bd3786\"],[0.5555555555555556,\"#d8576b\"],[0.6666666666666666,\"#ed7953\"],[0.7777777777777778,\"#fb9f3a\"],[0.8888888888888888,\"#fdca26\"],[1.0,\"#f0f921\"]],\"diverging\":[[0,\"#8e0152\"],[0.1,\"#c51b7d\"],[0.2,\"#de77ae\"],[0.3,\"#f1b6da\"],[0.4,\"#fde0ef\"],[0.5,\"#f7f7f7\"],[0.6,\"#e6f5d0\"],[0.7,\"#b8e186\"],[0.8,\"#7fbc41\"],[0.9,\"#4d9221\"],[1,\"#276419\"]]},\"xaxis\":{\"gridcolor\":\"#EBF0F8\",\"linecolor\":\"#EBF0F8\",\"ticks\":\"\",\"title\":{\"standoff\":15},\"zerolinecolor\":\"#EBF0F8\",\"automargin\":true,\"zerolinewidth\":2},\"yaxis\":{\"gridcolor\":\"#EBF0F8\",\"linecolor\":\"#EBF0F8\",\"ticks\":\"\",\"title\":{\"standoff\":15},\"zerolinecolor\":\"#EBF0F8\",\"automargin\":true,\"zerolinewidth\":2},\"scene\":{\"xaxis\":{\"backgroundcolor\":\"white\",\"gridcolor\":\"#DFE8F3\",\"linecolor\":\"#EBF0F8\",\"showbackground\":true,\"ticks\":\"\",\"zerolinecolor\":\"#EBF0F8\",\"gridwidth\":2},\"yaxis\":{\"backgroundcolor\":\"white\",\"gridcolor\":\"#DFE8F3\",\"linecolor\":\"#EBF0F8\",\"showbackground\":true,\"ticks\":\"\",\"zerolinecolor\":\"#EBF0F8\",\"gridwidth\":2},\"zaxis\":{\"backgroundcolor\":\"white\",\"gridcolor\":\"#DFE8F3\",\"linecolor\":\"#EBF0F8\",\"showbackground\":true,\"ticks\":\"\",\"zerolinecolor\":\"#EBF0F8\",\"gridwidth\":2}},\"shapedefaults\":{\"line\":{\"color\":\"#2a3f5f\"}},\"annotationdefaults\":{\"arrowcolor\":\"#2a3f5f\",\"arrowhead\":0,\"arrowwidth\":1},\"geo\":{\"bgcolor\":\"white\",\"landcolor\":\"white\",\"subunitcolor\":\"#C8D4E3\",\"showland\":true,\"showlakes\":true,\"lakecolor\":\"white\"},\"title\":{\"x\":0.05},\"mapbox\":{\"style\":\"light\"}}},\"xaxis\":{\"anchor\":\"y\",\"domain\":[0.0,1.0],\"title\":{\"text\":\"Hashtag\"}},\"yaxis\":{\"anchor\":\"x\",\"domain\":[0.0,1.0],\"title\":{\"text\":\"Impressions\"}},\"legend\":{\"tracegroupgap\":0},\"title\":{\"text\":\"Impressions Distribution for Each Hashtag\"},\"barmode\":\"relative\"},                        {\"responsive\": true}                    ).then(function(){\n",
              "                            \n",
              "var gd = document.getElementById('c0b4d6b7-2232-41e1-a3ca-962dd812c7db');\n",
              "var x = new MutationObserver(function (mutations, observer) {{\n",
              "        var display = window.getComputedStyle(gd).display;\n",
              "        if (!display || display === 'none') {{\n",
              "            console.log([gd, 'removed!']);\n",
              "            Plotly.purge(gd);\n",
              "            observer.disconnect();\n",
              "        }}\n",
              "}});\n",
              "\n",
              "// Listen for the removal of the full notebook cells\n",
              "var notebookContainer = gd.closest('#notebook-container');\n",
              "if (notebookContainer) {{\n",
              "    x.observe(notebookContainer, {childList: true});\n",
              "}}\n",
              "\n",
              "// Listen for the clearing of the current output cell\n",
              "var outputEl = gd.closest('.output');\n",
              "if (outputEl) {{\n",
              "    x.observe(outputEl, {childList: true});\n",
              "}}\n",
              "\n",
              "                        })                };                            </script>        </div>\n",
              "</body>\n",
              "</html>"
            ]
          },
          "metadata": {}
        }
      ]
    },
    {
      "cell_type": "markdown",
      "source": [
        "This code segment takes Instagram data, specifically focusing on hashtags, to analyze and visualize how effective different hashtags are at driving likes and impressions. It does this by:\n",
        "\n",
        "- Collecting data on likes and impressions for each hashtag.\n",
        "\n",
        "- Organizing the data into DataFrames.\n",
        "- Creating bar charts to visualize the relationship between hashtags, likes, and impressions."
      ],
      "metadata": {
        "id": "fZAD8VMq3Slh"
      }
    },
    {
      "cell_type": "markdown",
      "source": [
        "# **Conclusion**\n",
        "\n",
        "This project provided a comprehensive analysis of Instagram data, focusing on key metrics like impressions, reach, engagement, and hashtags. By leveraging the capabilities of the plotly library, we were able to visualize these aspects through informative charts such as histograms, line charts, pie charts, and scatter plots. This visual approach enabled us to gain insights into posting patterns and identify potential strategies for optimization.\n",
        "\n",
        "# **Key Findings**\n",
        "\n",
        "- Impressions and Reach: Analysis revealed the distribution of impressions over time and across various sources. The identification of primary reach sources can guide content strategy and targeting efforts.\n",
        "- Engagement: Examining metrics like likes, saves, comments, and shares highlighted the overall engagement levels. Understanding the relationship between these metrics and content types can inform future posting strategies.\n",
        "- Hashtags: A deep dive into hashtags, including their distribution and impact on likes and impressions, revealed the most effective hashtags. This information is crucial for optimizing hashtag usage and expanding content reach.\n",
        "- Correlation: Exploring the correlation between profile visits and follows using a scatter plot provided insights into the relationship between these two metrics, suggesting potential strategies to convert profile visits into follows.\n",
        "\n",
        "# **Recommendations**\n",
        "\n",
        " Based on the analysis, the following recommendations can be made to improve Instagram performance:\n",
        "\n",
        "- Optimize Content Strategy: Focus on creating content that aligns with peak engagement times and resonates with the target audience.\n",
        "- Leverage High-Performing Hashtags: Incorporate the most effective hashtags into posts to enhance discoverability and reach.\n",
        "- Diversify Content Formats: Experiment with different content formats to cater to audience preferences and maintain engagement levels.\n",
        "- Track and Analyze Performance: Regularly monitor key metrics and adjust strategies based on the insights gained.\n",
        "By implementing these recommendations, users can leverage data-driven insights to optimize their Instagram presence and achieve their desired goals. This project demonstrates the value of data analysis in understanding audience behavior and making informed decisions to enhance social media performance.\n",
        "\n",
        "I hope this conclusion provides a good summary of the analysis and offers actionable recommendations. Let me know if you have any other questions."
      ],
      "metadata": {
        "id": "IGz3-K4A3t6W"
      }
    },
    {
      "cell_type": "code",
      "source": [],
      "metadata": {
        "id": "OyO8UIS_vhg5"
      },
      "execution_count": 18,
      "outputs": []
    }
  ]
}